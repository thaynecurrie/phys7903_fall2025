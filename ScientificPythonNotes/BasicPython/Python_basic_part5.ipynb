{
 "cells": [
  {
   "cell_type": "markdown",
   "metadata": {},
   "source": [
    "# _Python for Scientific Data Analysis_\n",
    "\n",
    "\n",
    "#  Basic Python\n",
    "\n",
    "## Section 5: Looping\n",
    "\n",
    "### For-Loops\n",
    "\n",
    "#### _Introduction_ \n",
    "Programs need to do repetitive things very quickly.   If you only want to do an operation, say, twice then you could just copy and paste the same operation text on subsequent lines.  What about 3 times?   A bit more annoying -- especially if you want to change subtle things about the operation each time --  but possible.   10,000 times?   No way.   Hence, we need a way of _loop_-ing an operation.    And that's where _Loops_ come into play.\n",
    "\n",
    "The most straightforward version of a _loop_-ing operation is a ```for-loop```.  A ```for-loop``` means literally that: \"for [some number of iterations], do the following block of code\".   Like if-else statements, the block of code following the loop designation is indented."
   ]
  },
  {
   "cell_type": "markdown",
   "metadata": {},
   "source": [
    "#### _Writing For-Loops_\n",
    "\n",
    "So how do you decide how to do a number of iterations?   \n",
    "\n",
    "The ```range``` function provides a simple and pretty bulletproof way of defining the number of loop iterations.\n",
    "\n",
    "    Here's a simple example:\n",
    "    "
   ]
  },
  {
   "cell_type": "code",
   "execution_count": 1,
   "metadata": {},
   "outputs": [
    {
     "name": "stdout",
     "output_type": "stream",
     "text": [
      "5 0\n",
      "10 1\n",
      "15 2\n",
      "20 3\n",
      "25 4\n"
     ]
    }
   ],
   "source": [
    "\n",
    "#for i in range(0,5):\n",
    "for i in range(5):    \n",
    "  print(i*5+5,i)\n"
   ]
  },
  {
   "cell_type": "markdown",
   "metadata": {},
   "source": [
    "Which prints out\n",
    "\n",
    "```\n",
    "5 0\n",
    "10 1\n",
    "15 2\n",
    "20 3\n",
    "25 4\n",
    "```"
   ]
  },
  {
   "cell_type": "markdown",
   "metadata": {},
   "source": [
    "The \"0\" and \"5\" enclosed within the parentheses for range define the \"start\" and \"stop\" values for the loop.  Note here that ``range(0,5)`` and ``range(5)`` are equivalent statements.   However, ``range(1,5)`` is different:"
   ]
  },
  {
   "cell_type": "code",
   "execution_count": 2,
   "metadata": {},
   "outputs": [
    {
     "name": "stdout",
     "output_type": "stream",
     "text": [
      "10 1\n",
      "15 2\n",
      "20 3\n",
      "25 4\n"
     ]
    }
   ],
   "source": [
    "\n",
    "for i in range (1,5):\n",
    "  print(i*5+5,i)\n",
    "\n"
   ]
  },
  {
   "cell_type": "markdown",
   "metadata": {},
   "source": [
    "Which prints out\n",
    "\n",
    "```\n",
    "10 1\n",
    "15 2\n",
    "20 3\n",
    "25 4\n",
    "\n",
    "```\n",
    "\n",
    "I.e. we are missing the 0th iteration because our \"start\" point is the 1st iteration.  "
   ]
  },
  {
   "cell_type": "markdown",
   "metadata": {},
   "source": [
    "#### _Loops and Lists_  \n",
    "In addition to looping over numbers -- e.g. over a ``range`` -- you can loop over elements of a ```list```.  Lists are exactly what their name says: a container of things that are organized in order from first to last. It's not complicated; you just have to learn a new syntax. We will learn about these a little bit more later.  But for now, let's just work with the definition I gave above: `lists` = a container of things that are organized in order from first to last.\n",
    "\n",
    "First, there's how you make lists:"
   ]
  },
  {
   "cell_type": "code",
   "execution_count": 3,
   "metadata": {},
   "outputs": [],
   "source": [
    "\n",
    "hairs = ['brown', 'blond', 'red']\n",
    "eyes = ['brown', 'blue', 'green']\n",
    "weights = [1, 2, 3, 4]\n"
   ]
  },
  {
   "cell_type": "markdown",
   "metadata": {},
   "source": [
    "You start the ```list``` with the \\[ (left bracket) which \"opens\" the list. Then you put each item you want in the list separated by commas, similar to function arguments. Lastly, end the list with a ] (right bracket) to indicate that it's over. Python then takes this list and all its contents and assigns them to the variable.\n",
    "\n",
    "Now we are going to loop through the elements of one of these lists and you can see what happens."
   ]
  },
  {
   "cell_type": "code",
   "execution_count": 6,
   "metadata": {},
   "outputs": [
    {
     "name": "stdout",
     "output_type": "stream",
     "text": [
      "these are the hairs %s  brown\n",
      "these are the hairs %s  blond\n",
      "these are the hairs %s  red\n",
      "\n",
      "these big weights are 11.111\n",
      "these big weights are 12.112\n",
      "these big weights are 13.113\n",
      "these big weights are 14.114\n"
     ]
    }
   ],
   "source": [
    "\n",
    "hairs = ['brown', 'blond', 'red']\n",
    "\n",
    "for i in hairs:\n",
    "  print(\"these are the hairs %s \", i)\n",
    "\n",
    "#or\n",
    "print('') #this will provide a space in between the two print statements from loops\n",
    "bigweights = [11.111, 12.112, 13.113, 14.114]\n",
    "\n",
    "for j in bigweights:\n",
    "    print(\"these big weights are {0:.3f}\".format(j))"
   ]
  },
  {
   "cell_type": "markdown",
   "metadata": {},
   "source": [
    "Which should print out:\n",
    "\n",
    "```\n",
    "the hairs are brown \n",
    "the hairs are blond \n",
    "the hairs are red \n",
    "```\n",
    "and \n",
    "\n",
    "```\n",
    "these big weights are 11.111\n",
    "these big weights are 12.112\n",
    "these big weights are 13.113\n",
    "these big weights are 14.114\n",
    "```\n",
    "\n",
    "Now if you do ``` for i in hairs:``` and ```print(\"the hairs are %s\" % hairs)``` in the next line then you get the wrong answer, since you are literally saying \"print out the entire list called `hairs' \":\n",
    "\n",
    "```\n",
    "the hairs are ['brown', 'blond', 'red'] \n",
    "the hairs are ['brown', 'blond', 'red'] \n",
    "the hairs are ['brown', 'blond', 'red'] \n",
    "```"
   ]
  },
  {
   "cell_type": "code",
   "execution_count": 8,
   "metadata": {},
   "outputs": [],
   "source": [
    "#for i in hairs:\n",
    "#    print(\"the hairs are %s\" % hairs) \n",
    "#or\n",
    "#    print(\"the hairs are {0:s}\".format(hairs))\n",
    "\n",
    "#---------------------------------------------------------------------------\n",
    "#TypeError                                 Traceback (most recent call last)\n",
    "#Cell In[7], line 4\n",
    "#      2     print(\"the hairs are %s\" % hairs) \n",
    "#      3 #or\n",
    "#----> 4     print(\"the hairs are {0:s}\".format(hairs))\n",
    "\n",
    "#TypeError: unsupported format string passed to list.__format__"
   ]
  },
  {
   "cell_type": "markdown",
   "metadata": {},
   "source": [
    "Here's an alternate way of iterating that is a bit more complex but perhaps more intuitive if you are used to other languages (e.g. IDL, C, Fortran): "
   ]
  },
  {
   "cell_type": "code",
   "execution_count": 12,
   "metadata": {},
   "outputs": [
    {
     "name": "stdout",
     "output_type": "stream",
     "text": [
      "the hairs are brown\n",
      "the hairs are blond\n",
      "the hairs are red\n",
      "\n",
      "the bigweights are 11.111 \n",
      "the bigweights are 12.112 \n",
      "the bigweights are 13.113 \n"
     ]
    }
   ],
   "source": [
    "for i in range(len(hairs)):\n",
    "  print(\"the hairs are {0:s}\".format(hairs[i]) )\n",
    "print('')\n",
    "for i in range(len(hairs)): #this works perfectly fine because hairs and bigweights have the same length\n",
    "  print(\"the bigweights are %.3f \" % bigweights[i]) "
   ]
  },
  {
   "cell_type": "markdown",
   "metadata": {},
   "source": [
    "Another cool trick as noted before: you can control which elements of a list are printed out.  E.g. you get the same answer as above if you do this:"
   ]
  },
  {
   "cell_type": "code",
   "execution_count": 9,
   "metadata": {},
   "outputs": [
    {
     "name": "stdout",
     "output_type": "stream",
     "text": [
      "the hairs are brown\n",
      "the hairs are blond\n",
      "the hairs are red\n"
     ]
    }
   ],
   "source": [
    "\n",
    "for i in range(0,len(hairs)):\n",
    "  print(\"the hairs are %s\" % hairs[i])\n"
   ]
  },
  {
   "cell_type": "markdown",
   "metadata": {},
   "source": [
    "But if you do this:"
   ]
  },
  {
   "cell_type": "code",
   "execution_count": null,
   "metadata": {},
   "outputs": [],
   "source": [
    "\n",
    "for i in range(1,len(hairs)):\n",
    " print(\"the hairs are %s \" % hairs[i])\n"
   ]
  },
  {
   "cell_type": "markdown",
   "metadata": {},
   "source": [
    "then only the last two elements of _hairs_ are printed because the first list element (indexed as 0) is not included."
   ]
  },
  {
   "cell_type": "markdown",
   "metadata": {},
   "source": [
    "#### _Appending Values in Lists_  \n",
    "\n",
    "We will cover **Lists** in more detail later, but the following is so important and ubiquitous that it's worth seeing it twice ...\n",
    "\n",
    "You can also add new elements to a list within a for-loop structure with the attribute _append_ , e.g."
   ]
  },
  {
   "cell_type": "code",
   "execution_count": 13,
   "metadata": {},
   "outputs": [
    {
     "name": "stdout",
     "output_type": "stream",
     "text": [
      "Adding element 0 to the list.\n",
      "Adding element 1 to the list.\n",
      "Adding element 2 to the list.\n",
      "[0, 1, 2]\n"
     ]
    }
   ],
   "source": [
    "elements = []\n",
    "for i in range(0,3):\n",
    " print(\"Adding element %d to the list.\" % i)\n",
    " elements.append(i)\n",
    "\n",
    "#now, print everything out\n",
    "print(elements)\n"
   ]
  },
  {
   "cell_type": "markdown",
   "metadata": {},
   "source": [
    "You get the following:\n",
    "\n",
    "```\n",
    "adding element 0 to the list\n",
    "adding element 1 to the list\n",
    "adding element 2 to the list\n",
    "\n",
    "[0, 1, 2]\n",
    "\n",
    "```"
   ]
  },
  {
   "cell_type": "markdown",
   "metadata": {},
   "source": [
    "Now, try to import and then execute ex32.py\n",
    "\n",
    "```\n",
    "def runme():\n",
    " the_count=[1,2,3,4,5]\n",
    " fruits=['apples','oranges','pears','apricots']\n",
    " change=[1,'pennies',2,'dimes',3,'quarters']\n",
    "\n",
    "\n",
    " for number in the_count:\n",
    "        print(\"This is count %d\" % number)\n",
    "\n",
    " for fruit in fruits:\n",
    "        print(\"A fruit of type: %s\" % fruit)\n",
    "\n",
    " for i in change:\n",
    "        print(\"I got %r\" % i)\n",
    "\n",
    " elements = []\n",
    "\n",
    " for i in range(0,6):\n",
    "        print(\"Adding %d to the list.\" % i)\n",
    "        elements.append(i)\n",
    "\n",
    " for i in elements:\n",
    "        print(\"Element was: %d\" % i)\n",
    "\n",
    "```"
   ]
  },
  {
   "cell_type": "code",
   "execution_count": 14,
   "metadata": {},
   "outputs": [
    {
     "name": "stdout",
     "output_type": "stream",
     "text": [
      "This is count 1\n",
      "This is count 2\n",
      "This is count 3\n",
      "This is count 4\n",
      "This is count 5\n",
      "A fruit of type: apples\n",
      "A fruit of type: oranges\n",
      "A fruit of type: pears\n",
      "A fruit of type: apricots\n",
      "I got 1\n",
      "I got 'pennies'\n",
      "I got 2\n",
      "I got 'dimes'\n",
      "I got 3\n",
      "I got 'quarters'\n",
      "Adding 0 to the list.\n",
      "Adding 1 to the list.\n",
      "Adding 2 to the list.\n",
      "Adding 3 to the list.\n",
      "Adding 4 to the list.\n",
      "Adding 5 to the list.\n",
      "Element was: 0\n",
      "Element was: 1\n",
      "Element was: 2\n",
      "Element was: 3\n",
      "Element was: 4\n",
      "Element was: 5\n"
     ]
    }
   ],
   "source": [
    "from code_ipynb.ex32 import runme\n",
    "\n",
    "runme()"
   ]
  },
  {
   "cell_type": "markdown",
   "metadata": {},
   "source": [
    "You get the following:\n",
    "\n",
    "```\n",
    ">>> from ex32 import runme\n",
    ">>> runme()\n",
    "This is count 1\n",
    "This is count 2\n",
    "This is count 3\n",
    "This is count 4\n",
    "This is count 5\n",
    "A fruit of type: apples\n",
    "A fruit of type: oranges\n",
    "A fruit of type: pears\n",
    "A fruit of type: apricots\n",
    "I got 1\n",
    "I got 'pennies'\n",
    "I got 2\n",
    "I got 'dimes'\n",
    "I got 3\n",
    "I got 'quarters'\n",
    "Adding 0 to the list.\n",
    "Adding 1 to the list.\n",
    "Adding 2 to the list.\n",
    "Adding 3 to the list.\n",
    "Adding 4 to the list.\n",
    "Adding 5 to the list.\n",
    "Element was: 0\n",
    "Element was: 1\n",
    "Element was: 2\n",
    "Element was: 3\n",
    "Element was: 4\n",
    "Element was: 5\n",
    "\n",
    "```"
   ]
  },
  {
   "cell_type": "markdown",
   "metadata": {},
   "source": [
    "### While-Loops\n",
    "\n",
    "You can also execute a _while-loop_ .   A _while-loop_ will keep executing code under some block, so long as the boolean expression under the _while_ loop is _True_.   I.e. \"while [some condition], do [ ]\".   If [some condition] is always true, then the code never stops (!!!).   Because of that, _while-loops_ can be a bit tricky, even dangerous.   Use them selectively.\n",
    "\n",
    "An example (copied from ex33.py):"
   ]
  },
  {
   "cell_type": "code",
   "execution_count": null,
   "metadata": {},
   "outputs": [],
   "source": [
    "i = 0\n",
    "numbers = []\n",
    "\n",
    "while i < 6:\n",
    "    print(\"At the top i is %d\" % i)\n",
    "    numbers.append(i)\n",
    "\n",
    "    i = i + 1\n",
    "    print(\"Numbers now: \", numbers)\n",
    "    print(\"At the bottom i is %d\" % i)\n",
    "\n",
    "    print('') #again, just for clarity\n",
    "    \n",
    "print(\"The numbers: \")\n",
    "\n",
    "for num in numbers:\n",
    "    print(num)\n",
    "    "
   ]
  },
  {
   "cell_type": "code",
   "execution_count": null,
   "metadata": {},
   "outputs": [],
   "source": [
    "#or \n",
    "#from code_ipynb.ex33 import runme()\n",
    "#runme()"
   ]
  },
  {
   "cell_type": "markdown",
   "metadata": {},
   "source": [
    "Whose result looks like:\n",
    "\n",
    "```\n",
    ">>> import ex33\n",
    ">>> ex33.runme()\n",
    "At the top i is 0\n",
    "Numbers now:  [0]\n",
    "At the bottom i is 1\n",
    "At the top i is 1\n",
    "Numbers now:  [0, 1]\n",
    "At the bottom i is 2\n",
    "At the top i is 2\n",
    "Numbers now:  [0, 1, 2]\n",
    "At the bottom i is 3\n",
    "At the top i is 3\n",
    "Numbers now:  [0, 1, 2, 3]\n",
    "At the bottom i is 4\n",
    "At the top i is 4\n",
    "Numbers now:  [0, 1, 2, 3, 4]\n",
    "At the bottom i is 5\n",
    "At the top i is 5\n",
    "Numbers now:  [0, 1, 2, 3, 4, 5]\n",
    "At the bottom i is 6\n",
    "The numbers: \n",
    "0\n",
    "1\n",
    "2\n",
    "3\n",
    "4\n",
    "5\n",
    "```"
   ]
  },
  {
   "cell_type": "markdown",
   "metadata": {},
   "source": [
    "### Accessing Loop Elements\n",
    "Say you create some array through a _for-loop_ or a _while-loop_ or really any other means.  It's an array or list with some number of elements.  How do you access those elements?  \n",
    "\n",
    "Easy.  For example, if your array/list is test=[1,3,5,6], then test[0] is 1, test[3]=6 and so on.  \n",
    "\n",
    "Or how about this one: ```animals = ['bear', 'tiger', 'penguin', 'zebra']``` . \n",
    "\n",
    "```animals[1] = 'tiger' ``` and so on.   \n",
    "\n",
    "**Python array and list elements are indexed from 0, not 1.**"
   ]
  },
  {
   "cell_type": "markdown",
   "metadata": {},
   "source": [
    "### Manipulating Lists\n",
    "\n",
    "Now we are going to manipulate list entries.   There are many ways to manipulate, including using _pop_, _append_, etc.  Here's an example from ex38.\n",
    "\n",
    "```\n",
    "ten_things = \"Apples Oranges Crows Telephone Light Sugar\"\n",
    "\n",
    "print(\"Wait there are not 10 things in that list. Let's fix that.\")\n",
    "\n",
    "stuff = ten_things.split(' ')\n",
    "more_stuff = [\"Day\", \"Night\", \"Song\", \"Frisbee\", \"Corn\", \"Banana\", \"Girl\", \"Boy\"]\n",
    "\n",
    "while len(stuff) != 10:\n",
    "    next_one = more_stuff.pop()\n",
    "    print(\"Adding: \", next_one)\n",
    "    stuff.append(next_one)\n",
    "    print(\"There are %d items now.\" % len(stuff))\n",
    "\n",
    "print(\"There we go: \", stuff)\n",
    "\n",
    "print(\"Let's do some things with stuff.\")\n",
    "\n",
    "print(stuff[1])\n",
    "print(stuff[-1]) # whoa! fancy\n",
    "print(stuff.pop())\n",
    "print(' '.join(stuff)) # what? cool!\n",
    "print('#'.join(stuff[3:5])) # super stellar!\n",
    "```"
   ]
  },
  {
   "cell_type": "code",
   "execution_count": 1,
   "metadata": {},
   "outputs": [
    {
     "name": "stdout",
     "output_type": "stream",
     "text": [
      "Wait there are not 10 things in that list. Let's fix that.\n",
      "Adding:  Boy\n",
      "There are 7 items now.\n",
      "Adding:  Girl\n",
      "There are 8 items now.\n",
      "Adding:  Banana\n",
      "There are 9 items now.\n",
      "Adding:  Corn\n",
      "There are 10 items now.\n",
      "There we go:  ['Apples', 'Oranges', 'Crows', 'Telephone', 'Light', 'Sugar', 'Boy', 'Girl', 'Banana', 'Corn']\n",
      "Let's do some things with stuff.\n",
      "Oranges\n",
      "Corn\n",
      "Corn\n",
      "Apples Oranges Crows Telephone Light Sugar Boy Girl Banana\n",
      "Telephone#Light\n"
     ]
    }
   ],
   "source": [
    "ten_things = \"Apples Oranges Crows Telephone Light Sugar\"\n",
    "\n",
    "print(\"Wait there are not 10 things in that list. Let's fix that.\")\n",
    "\n",
    "stuff = ten_things.split(' ')\n",
    "more_stuff = [\"Day\", \"Night\", \"Song\", \"Frisbee\", \"Corn\", \"Banana\", \"Girl\", \"Boy\"]\n",
    "\n",
    "while len(stuff) != 10:\n",
    "    next_one = more_stuff.pop()\n",
    "    print(\"Adding: \", next_one)\n",
    "    stuff.append(next_one)\n",
    "    print(\"There are %d items now.\" % len(stuff))\n",
    "\n",
    "print(\"There we go: \", stuff)\n",
    "\n",
    "print(\"Let's do some things with stuff.\")\n",
    "\n",
    "print(stuff[1])\n",
    "print(stuff[-1]) # whoa! fancy\n",
    "print(stuff.pop())\n",
    "print(' '.join(stuff)) # what? cool!\n",
    "print('#'.join(stuff[3:5])) # super stellar!"
   ]
  },
  {
   "cell_type": "markdown",
   "metadata": {},
   "source": [
    "You should see the following:\n",
    "\n",
    "```\n",
    ">python ex38.py\n",
    "\n",
    "Wait there are not 10 things in that list. Let's fix that.\n",
    "Adding:  Boy\n",
    "There are 7 items now.\n",
    "Adding:  Girl\n",
    "There are 8 items now.\n",
    "Adding:  Banana\n",
    "There are 9 items now.\n",
    "Adding:  Corn\n",
    "There are 10 items now.\n",
    "There we go:  ['Apples', 'Oranges', 'Crows', 'Telephone', 'Light', 'Sugar', 'Boy', 'Girl', 'Banana', 'Corn']\n",
    "Let's do some things with stuff.\n",
    "Oranges\n",
    "Corn\n",
    "Corn\n",
    "Apples Oranges Crows Telephone Light Sugar Boy Girl Banana\n",
    "Telephone#Light\n",
    "\n",
    "```"
   ]
  },
  {
   "cell_type": "markdown",
   "metadata": {},
   "source": [
    "What happened here?   So first, you have a string called _ten\\_things_  and this string is _split_ at every empty space and saved to a variable _stuff_ .    Now, it becomes obvious that there aren't actually 10 entries (in fact, you can check by defining a conditional by asking the length of the list -- i.e. len(stuff) ). \n",
    "\n",
    "  So in a _while-loop_, the program then keeps _append_-ing things from the end of _more\\_stuff_ ('popped' off the end) to _stuff_ until there are 10 items.  Then the print statements ... the first one -- _stuff[1]_ -- will print out the 2nd element of _stuff_. The line after that? The last element of _stuff_.  The line _stuff.pop()_ prints out and removes the last array element of _stuff_.  \n",
    "  \n",
    "  Then _stuff[3:5]_ prints out array elements \"from the 4th and prior to the 6th element\" (i.e. elements 4 and 5).    What would _stuff[3:4]_ print?  Just \"Telephone\".  What about _stuff[3:len(stuff)]_ ?   It would print: ``` ['Telephone', 'Light', 'Sugar', 'Boy', 'Girl', 'Banana', 'Corn']. ```\n",
    "  \n",
    "  Or _stuff[3:len(stuff)-1]_ ?   You guessed it:\n",
    "  ``` ['Telephone', 'Light', 'Sugar', 'Boy', 'Girl', 'Banana']. ```\n",
    "  \n",
    "  \n",
    "## Epilogue\n",
    "  \n",
    "  \n",
    "  That is a short introduction to _loop_-ing.   Loops are extremely powerful.   In the ``Data Structures`` section we will introduce **_Comprehensions_** for key data structures: lists, tuples, arrays, and dictionaries.  You don't need to worry about the details of these right now.  Just know that we can do far more complex loop-like operations dealing with multiple variables in Python.\n",
    "  "
   ]
  },
  {
   "cell_type": "code",
   "execution_count": null,
   "metadata": {},
   "outputs": [],
   "source": []
  }
 ],
 "metadata": {
  "kernelspec": {
   "display_name": "Python 3 (ipykernel)",
   "language": "python",
   "name": "python3"
  },
  "language_info": {
   "codemirror_mode": {
    "name": "ipython",
    "version": 3
   },
   "file_extension": ".py",
   "mimetype": "text/x-python",
   "name": "python",
   "nbconvert_exporter": "python",
   "pygments_lexer": "ipython3",
   "version": "3.12.4"
  }
 },
 "nbformat": 4,
 "nbformat_minor": 4
}
