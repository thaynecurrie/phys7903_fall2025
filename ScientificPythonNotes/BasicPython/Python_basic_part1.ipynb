{
 "cells": [
  {
   "cell_type": "markdown",
   "id": "d7518571",
   "metadata": {},
   "source": [
    "# _Python for Scientific Data Analysis_\n",
    "\n",
    "\n",
    "# Basic Python\n",
    "## Section 1: Printing and Variables\n",
    "\n",
    "### Hello World\n",
    "\n",
    "The first step in learning Python or any other language is to ask a piece of code to print a statement.   \n",
    "\n",
    " To do this from command line, first you type ``python`` in your terminal window, which will bring up the Python prompt. \n",
    " \n",
    " Printing with statements with Python 3 are enclose by parentheses. \n",
    "\n",
    "E.g."
   ]
  },
  {
   "cell_type": "markdown",
   "id": "6434ef89",
   "metadata": {},
   "source": [
    "```print(hello world)```\n",
    "\n",
    " will print ...\n",
    " "
   ]
  },
  {
   "cell_type": "code",
   "execution_count": 3,
   "id": "65418463",
   "metadata": {},
   "outputs": [
    {
     "name": "stdout",
     "output_type": "stream",
     "text": [
      "hello world\n",
      "hello world2 or 3 or 4\n"
     ]
    }
   ],
   "source": [
    "print(\"hello world\")\n",
    "print(\"hello world2 or 3 or 4\")\n",
    "#print(hello world)"
   ]
  },
  {
   "cell_type": "markdown",
   "id": "a0a98c21",
   "metadata": {},
   "source": [
    "Note: if you do not enclose this string with \", then it will trigger a traceback error because _hello world_ is not a named variable.  If you try to treat _hello world_ as a variable you will get a traceback error: e.g. ``` >>> hello world = 5``` triggers an error.   However, the following does not trigger an error:"
   ]
  },
  {
   "cell_type": "code",
   "execution_count": 10,
   "id": "cbb62ddd",
   "metadata": {},
   "outputs": [
    {
     "name": "stdout",
     "output_type": "stream",
     "text": [
      "('yo', 'checkit')\n",
      "7\n",
      "11\n"
     ]
    }
   ],
   "source": [
    "hello_world = 7\n",
    "hello_world='yo'\n",
    "hello,world = 7,11\n",
    "hello_world = 'yo','checkit'\n",
    "\n",
    "print(hello_world)\n",
    "#print(hello,world)\n",
    "print(hello)\n",
    "print(world)"
   ]
  },
  {
   "cell_type": "markdown",
   "id": "c3231203",
   "metadata": {},
   "source": [
    "where then you type\n",
    "```print(hello_world)``` or ```print(hello,world)``` at the prompt.\n",
    "\n",
    "What happened in these four examples?   In the first two, we declared a single variable, ```hello_world```, as an integer 7 or a string `yo`.   But Python allows you to declare multiple variables in a single line.   This is shown in third and fourth example: here, ```hello``` and ```world``` are two separate variables simultaneously set to two different strings.  Cool, right?   \n",
    "\n",
    "The example code ex1.py shows demonstrates how this looks within a piece of code.  \n",
    "\n",
    "To execute, type ```python ex1.py``` in your Terminal window from within that subdirectory.  Or, from the main directory, you can import it, and it will run automatically\n"
   ]
  },
  {
   "cell_type": "markdown",
   "id": "2a87d3fc-6b45-4177-a0cc-c44ae9d88d29",
   "metadata": {},
   "source": [
    "**running the code**\n",
    "\n",
    "import code_ipynb.ex1 \n",
    "#note: this will only print out the first time!\n",
    "\n",
    "from code_ipynb import ex1\n",
    "#equivalent\n",
    "\n",
    "\n"
   ]
  },
  {
   "cell_type": "markdown",
   "id": "13c6d1fc",
   "metadata": {},
   "source": [
    "You should see the following:"
   ]
  },
  {
   "cell_type": "markdown",
   "id": "2d33aa18-a0a8-4d12-be82-1099e07635d8",
   "metadata": {},
   "source": [
    "``` \n",
    "hello world\n",
    "yo\n",
    "5\n",
    "yo checkit\n",
    "7 11\n",
    "```"
   ]
  },
  {
   "cell_type": "markdown",
   "id": "74f2ec83-2b19-49b7-ab80-b0713d42581c",
   "metadata": {},
   "source": [
    "Note: the above -- importing a function and watching it do something automatically -- is just for demonstration purposes.  You should not actually run code this exact way (we will cover the varieties of code execution below)."
   ]
  },
  {
   "cell_type": "markdown",
   "id": "015239d0-2894-4f23-9b18-db2505e8c90e",
   "metadata": {},
   "source": [
    "### Variables and Printing\n",
    "Okay, now we are going to make things slightly more complicated.   When you print something with Python (or any other language), you want to control the format of what you write: do you want to write a string? An integer?  decimal? floating point?  That's where _formatted_ print comes into play.\n",
    "\n",
    "#### Formatted Printing: The standard way\n",
    "\n",
    "Python's _formatted_ print statements come after a ```%``` for a print statement: e.g. ```print(\"my name is %[formatting statement]\" % [variable] ```).   \n",
    "\n",
    "Fortunately, these are pretty easy to figure out: ```%s``` (e.g. \"yo\") for string, ```%d``` or ```%i``` for decimal integers (e.g. 5), ```%f``` for floating point (e.g. 3.141569), ```%e``` for lower case exponential notation (e.g. 1.41569e+03), etc.  There are a few others but these are the most important ones for now.   \n",
    "\n",
    "Now, look at ex5a.py.  It should read as follows\n",
    "\n",
    "```sh\n",
    "my_name = 'The Great Cornholio'\n",
    "my_age = 21 # ya right\n",
    "my_height = 72 # with stilts\n",
    "my_weight = 9 # lbs\n",
    "my_jump = 15 #feet\n",
    "my_eyes = 'White'\n",
    "\n",
    "print(\"My name is %s.\" % my_name)\n",
    "print(\"I am %d inches tall and I weigh %d pounds.\" % (my_height,my_weight))\n",
    "print(\"Even though my eyes are %s, I can jump %d feet in the air\" % (my_eyes,my_jump))\n",
    "print(\"If you add %d, %d, and %d together you get %d.  Scared now of the %s?\" % (my_age,my_height,my_jump,my_age+my_height+my_jump,my_name))\n",
    "\n",
    "```"
   ]
  },
  {
   "cell_type": "markdown",
   "id": "dcc94080",
   "metadata": {},
   "source": [
    "If you execute this code, you should see:\n",
    "\n",
    "```\n",
    "My name is The Great Cornholio.\n",
    "I am 72 inches tall and I weigh 9 pounds.\n",
    "Even though my eyes are White, I can jump 15 feet in the air\n",
    "If you add 21, 72, and 15 together you get 108.  Scared now of the The Great Cornholio?\n",
    "\n",
    "```\n",
    "\n",
    "Notice another thing.  In the soure code we put #s all over the place.  These look like comments, right?  That they are! These do not print out when you execute the code."
   ]
  },
  {
   "cell_type": "markdown",
   "id": "9d15d66e",
   "metadata": {},
   "source": [
    "#### Formatted Print Statements: The second, more 'modern' way\n",
    "\n",
    "Another way to do formatted print statements are with curly brackets ```{ }``` and a format statement.  Here's an example"
   ]
  },
  {
   "cell_type": "code",
   "execution_count": 18,
   "id": "86d36057",
   "metadata": {},
   "outputs": [
    {
     "name": "stdout",
     "output_type": "stream",
     "text": [
      "this statement is far out, dude\n",
      "this statement is far out, dude, far out\n"
     ]
    }
   ],
   "source": [
    "statement='far out'\n",
    "print(\"this statement is {}, dude\".format(statement))\n",
    "\n",
    "\n",
    "print(\"this statement is {}, dude, {}\".format(statement,statement))"
   ]
  },
  {
   "cell_type": "markdown",
   "id": "02c295fa",
   "metadata": {},
   "source": [
    "You should see ``this statement is far out, dude``.\n",
    "\n",
    "Now, slightly more complicated"
   ]
  },
  {
   "cell_type": "code",
   "execution_count": 22,
   "id": "d9024f3a",
   "metadata": {},
   "outputs": [
    {
     "name": "stdout",
     "output_type": "stream",
     "text": [
      "this statement is far out seriously, dude\n",
      "this statement is far out far out seriously, dude\n"
     ]
    }
   ],
   "source": [
    "print(\"this statement is {0} {1}, dude\".format(statement,'seriously'))\n",
    "\n",
    "print(\"this statement is {0} {1}, dude\".format(statement,statement + ' seriously'))"
   ]
  },
  {
   "cell_type": "markdown",
   "id": "91412043",
   "metadata": {},
   "source": [
    "See what we've done here? we now have two variables with formatted print.  "
   ]
  },
  {
   "cell_type": "markdown",
   "id": "6d3b408e",
   "metadata": {},
   "source": [
    "#### More control over formatting\n",
    "Now we will take the second formatting approach and make this more complicated ..."
   ]
  },
  {
   "cell_type": "code",
   "execution_count": 25,
   "id": "238cca41",
   "metadata": {},
   "outputs": [
    {
     "name": "stdout",
     "output_type": "stream",
     "text": [
      "this statement is far out seriously, dude\n",
      "this statement is f seriously, dude\n",
      "this statement is f se, dude\n"
     ]
    }
   ],
   "source": [
    "print(\"this statement is {0} {1}, dude\".format(statement,'seriously'))\n",
    "\n",
    "print(\"this statement is {0:.1s} {1:s}, dude\".format(statement,'seriously'))\n",
    "\n",
    "print(\"this statement is {0:.1s} {1:.2s}, dude\".format(statement,'seriously'))\n"
   ]
  },
  {
   "cell_type": "markdown",
   "id": "edc9912c",
   "metadata": {},
   "source": [
    "which prints out ``this statement is f seriously, dude`` and ``this statement is f se, dude ``.  See what happened? if not, look to see what happens here:"
   ]
  },
  {
   "cell_type": "code",
   "execution_count": 26,
   "id": "54981517",
   "metadata": {},
   "outputs": [
    {
     "name": "stdout",
     "output_type": "stream",
     "text": [
      "this stupid number is 2.718282, not 2.718 or 2.71828, but if we want more than the  default precision of 6 spaces after the decimal,  we can write it as something different like 2.7182818285\n"
     ]
    }
   ],
   "source": [
    "\n",
    "import numpy as np #don't worry about what this line means right now. just think \"command allowing us to do stuff\"\n",
    "eval=np.e\n",
    "print(\"this stupid number is {0:f}, not {1:.3f} or {2:.5f}, \\\n",
    "but if we want more than the \\\n",
    " default precision of {3:d} spaces after the decimal, \\\n",
    " we can write it as something different like {4:.10f}\".format(eval,eval,eval,6,eval))\n"
   ]
  },
  {
   "cell_type": "markdown",
   "id": "5a620530",
   "metadata": {},
   "source": [
    "which prints out as ``this stupid number is 2.718282, not 2.718 or 2.71828,``\n",
    "`` but if we want more than the  default precision of 6 spaces after the decimal,``  \n",
    "``we can write it as something different like 2.7182818285`` \n",
    "\n",
    "Note: all of this is on one line: the `\\` signifies \"continue the line\".\n",
    "\n",
    "So what happened there? we can control the output.  For example, in the first case, we said \"format this as a floating point\".  In the second \"format this as a floating point but only leave 3 spaces after the decimal\".  And so on.  By default, Python 3.x prints out 6 decimal spaces for a floating point.   If you want more precision, then you can just add more space, as we do in the last formatted print for the variable `eval`.\n",
    "\n",
    "Now what if we wanted to use `%` for formatted print with all that control?.  Here you go:"
   ]
  },
  {
   "cell_type": "code",
   "execution_count": 27,
   "id": "40975121",
   "metadata": {},
   "outputs": [
    {
     "name": "stdout",
     "output_type": "stream",
     "text": [
      "this stupid number is 2.718282, not 2.718 or 2.71828, but if we want more than the  default precision of 6 spaces after the decimal,  we can write it as something different like 2.7182818285\n"
     ]
    }
   ],
   "source": [
    "\n",
    "print(\"this stupid number is %f, not %.3f or %.5f, \\\n",
    "but if we want more than the \\\n",
    " default precision of %d spaces after the decimal, \\\n",
    " we can write it as something different like %.10f\" %(eval,eval,eval,6,eval))\n"
   ]
  },
  {
   "cell_type": "markdown",
   "id": "a03fe703-8d8d-4532-8faa-4aa8aa5a02d1",
   "metadata": {},
   "source": [
    "## A Note on how to `run' Python code\n",
    "In general, to execute Python code, there are a couple of ways:\n",
    "\n",
    "1) type ```python [name of python code]``` in your Terminal if the code is also in your local working directory (or is a script callable from anywhere on your machine ... don't worry about that for now.\n",
    "\n",
    "Examples of this include ``ex1.py`` and ``ex2.py`` in your code_ipynb subdirectory"
   ]
  },
  {
   "cell_type": "markdown",
   "id": "3d31c957-fbcd-42e7-a628-5839900f216a",
   "metadata": {},
   "source": [
    "```\n",
    ">>> python ex1.py\n",
    "\n",
    "#prints out \n",
    "#hello world\n",
    "#yo\n",
    "#5\n",
    "#yo checkit\n",
    "#7 11\n",
    "```"
   ]
  },
  {
   "cell_type": "markdown",
   "id": "7336ed52-b7ad-486a-8de9-e12bdfab63cf",
   "metadata": {},
   "source": [
    "```\n",
    "python ex2.py\n",
    "\n",
    "#prints out\n",
    "#[0.03232323 0.04266667 0.05637172]\n",
    "```"
   ]
  },
  {
   "cell_type": "markdown",
   "id": "49c1fe49-89ad-4724-b76c-f9327be07866",
   "metadata": {},
   "source": [
    "2) in interactive mode -- Here you have a few options.  i) You can write code line by line (i.e. interactively). If you want to do something non-trivial, you will likely need to ``import`` a python ``function`` from a ``module`` to do this.  This works so long as the piece of code is in your Python path (either local or within your path variable). ii) You can also import and run entire functions to do calculations.   The latter is (IMO) the standard way to execute Python code.\n",
    "\n",
    "   In either case, to get started, you do the following\n",
    "\n",
    "\n",
    "from Terminal, you first type ``python`` (or, in your case, it is possible you need to type ``python3``).  \"Running\" python interactively (i.e. as in option i) )then has the following structure (note, each line is a separate line in the interactive mode ... i.e. a separate \">>>\")\n"
   ]
  },
  {
   "cell_type": "markdown",
   "id": "5d0eae15-f0f1-4497-a3d2-73b9df5c2c81",
   "metadata": {},
   "source": [
    "An example ..."
   ]
  },
  {
   "cell_type": "markdown",
   "id": "884d563a-0230-4a36-92fa-5e1783e89d0c",
   "metadata": {},
   "source": [
    "```\n",
    ">>> import numpy as np #we will encounter this \"numpy\" library a lot!\n",
    ">>> d_tel = 8.2 #telescope diameter (meters)\n",
    ">>> wvlh_microns=[1.25,1.6,2.18] #wavelength (microns)\n",
    ">>> fwhm=1.028*206265*np.array(wvlh_microns)*1e-6/d_tel\n",
    ">>> print(fwhm)\n",
    "```"
   ]
  },
  {
   "cell_type": "markdown",
   "id": "004941e9-75d7-4431-b910-49a69e51451f",
   "metadata": {},
   "source": [
    "The slightly more involved way -- ii) -- looks as follows.  Here we will use ``ex2.py`` in the code_ipynb subdirectory.  The source code for this is reproduced below"
   ]
  },
  {
   "cell_type": "markdown",
   "id": "f8800ac5-c8a7-4ad1-878f-05d1fa10cb32",
   "metadata": {},
   "source": [
    "```\n",
    "import numpy as np\n",
    "\n",
    "def calc_fwhm(d_tel=8.2,wvlh_microns=[1.25,1.65,2.18]):\n",
    "\n",
    " fwhm=1.028*206265*np.array(wvlh_microns)*1e-6/d_tel\n",
    "\n",
    " print(fwhm)\n",
    "\n",
    "\n",
    "if __name__ == '__main__':\n",
    "\n",
    " calc_fwhm()\n",
    "\n",
    "```"
   ]
  },
  {
   "cell_type": "markdown",
   "id": "12ac88f3-2790-477a-a517-baafe61cf9b3",
   "metadata": {},
   "source": [
    "For this piece of code you can run it either by typing ``python ex2.py`` (which will then execute calc_fwhm)\n",
    "\n",
    "OR\n",
    "\n",
    "importing the calc_fwhm function from the module"
   ]
  },
  {
   "cell_type": "markdown",
   "id": "2821138f-86f8-451e-9250-fde7f8df5735",
   "metadata": {},
   "source": [
    "```\n",
    ">>>from ex2 import calc_fwhm\n",
    ">>>calc_fwhm()\n",
    "#will print out [0.03232323 0.04266667 0.05637172]\n",
    "\n",
    ">>>calc_fwhm(d_tel=30)\n",
    "#prints out [0.00883502 0.01166222 0.01540827]\n",
    "```"
   ]
  },
  {
   "cell_type": "markdown",
   "id": "9fd43e51-db59-415c-a5d3-4f4b7253db59",
   "metadata": {},
   "source": [
    "you can easily see how this is more powerful."
   ]
  },
  {
   "cell_type": "code",
   "execution_count": 36,
   "id": "03640f77-faf5-4785-9fb5-c8d94e4aee5b",
   "metadata": {},
   "outputs": [
    {
     "name": "stdout",
     "output_type": "stream",
     "text": [
      "[0.03232323 0.04266667 0.05637172]\n",
      "[0.02068687 0.09774546 0.25858588]\n"
     ]
    }
   ],
   "source": [
    "#or in a Jupyter Notebook cell\n",
    "\n",
    "from code_ipynb.ex2 import calc_fwhm \n",
    "#note: we have to type from code_ipynb.ex2, \n",
    "#  not from ex2, because this Notebook is a directory above code_ipynb\n",
    "\n",
    "calc_fwhm()\n",
    "#prints out [0.03232323 0.04266667 0.05637172]\n",
    "calc_fwhm(wvlh_microns=[0.8,3.78,10]) \n",
    "#prints out [0.02068687 0.09774546 0.25858588]"
   ]
  },
  {
   "cell_type": "markdown",
   "id": "32d633bf",
   "metadata": {},
   "source": [
    "3) A 3rd way alluded to above is accessing Python code through Jupyter notebooks.   You first need to split off a \"cell\" in the notebook specifically for this calculation and then execute.  Here's how to execute the above code through notebooks. "
   ]
  },
  {
   "cell_type": "code",
   "execution_count": 37,
   "id": "2539ffb1",
   "metadata": {},
   "outputs": [
    {
     "name": "stdout",
     "output_type": "stream",
     "text": [
      "The telescope (diffraction-limited) FWHM in arcseconds given a diameter of 8.2 meters  and a wavelength of 1.25 microns is 0.0323\n",
      "The telescope (diffraction-limited) FWHM in arcseconds given a diameter of 8.2 meters  and a wavelength of 1.65 microns is 0.0427\n",
      "The telescope (diffraction-limited) FWHM in arcseconds given a diameter of 8.2 meters  and a wavelength of 2.16 microns is 0.0559\n"
     ]
    }
   ],
   "source": [
    "import numpy as np\n",
    "d_tel = 8.2 #telescope diameter (meters)\n",
    "lam_tel= np.array([1.25,1.65,2.16]) #wavelength (microns) note: we don't call it lambda because that is a separate, canned Python thing\n",
    "fwhm = 1.028*206265*lam_tel*1e-6/d_tel\n",
    "\n",
    "for i in range(0,len(lam_tel)):\n",
    " print(\"The telescope (diffraction-limited) FWHM in arcseconds given a diameter of {0:.1f} meters \\\n",
    " and a wavelength of {1:.2f} microns is {2:.4f}\".format(d_tel,lam_tel[i],fwhm[i]))"
   ]
  },
  {
   "cell_type": "markdown",
   "id": "a8f3f196",
   "metadata": {},
   "source": [
    " Option #1 is the simplest but gets a bit unwieldy for anything you will want to use for research.   Option #2 is often the way through professional code but can be hard to visualize.  Option #3 is great for visualization and can handle complex code that you write elsewhere and then import ... but I've seen it make some users get a bit careless.   \n",
    " \n",
    " We will learn Python through all three of these results. The preferred method for homework submission will _usually_ be Option #3 (Jupyter notebooks) since they are easy for others to use, but often it will involve more complex code (so you will effectively be doing Option #2 but with the visual aid advantages of a Notebook\n",
    " \n",
    " \n",
    " For more details, see this nice discussion of the Python interpreter on the official site, here: <https://docs.python.org/3/tutorial/interpreter.html>"
   ]
  },
  {
   "cell_type": "markdown",
   "id": "5a58f065",
   "metadata": {},
   "source": [
    "### Python PATH for importing functions, installing programs\n",
    "\n",
    "What if you are working in some directory and want to import and then use a Python function?  It is usually good practice to keep all your code -- at least detailed packages --  in a place well separated from what you are working on.  \n",
    "\n",
    "In order for you to import and utilize that code, it has to be in your Python _path_ .  How do you know what your path is?  Here's how:"
   ]
  },
  {
   "cell_type": "code",
   "execution_count": 38,
   "id": "70f377ef",
   "metadata": {},
   "outputs": [
    {
     "name": "stdout",
     "output_type": "stream",
     "text": [
      "['/Users/thaynecurrie/Research/coding/Python/ScientificPythonNotes_2025/Basic', '/Users/thaynecurrie/Research/Github/repositories/charis-dpp_test/python', '/Users/thaynecurrie/anaconda3/lib/python312.zip', '/Users/thaynecurrie/anaconda3/lib/python3.12', '/Users/thaynecurrie/anaconda3/lib/python3.12/lib-dynload', '', '/Users/thaynecurrie/anaconda3/lib/python3.12/site-packages', '/Users/thaynecurrie/anaconda3/lib/python3.12/site-packages/aeosa', '/Users/thaynecurrie/Research/Github/repositories/orvara_py311/orvara']\n",
      "2\n",
      "/Users/thaynecurrie/Research/coding/Python/ScientificPythonNotes_2025/Basic\n",
      "/Users/thaynecurrie/Research/Github/repositories/charis-dpp_test/python\n",
      "/Users/thaynecurrie/anaconda3/lib/python312.zip\n",
      "/Users/thaynecurrie/anaconda3/lib/python3.12\n",
      "/Users/thaynecurrie/anaconda3/lib/python3.12/lib-dynload\n",
      "\n",
      "/Users/thaynecurrie/anaconda3/lib/python3.12/site-packages\n",
      "/Users/thaynecurrie/anaconda3/lib/python3.12/site-packages/aeosa\n",
      "/Users/thaynecurrie/Research/Github/repositories/orvara_py311/orvara\n",
      "3\n",
      "/Users/thaynecurrie/Research/Github/repositories/charis-dpp_test/python/\n"
     ]
    }
   ],
   "source": [
    "from os import sys\n",
    "print(sys.path)\n",
    "\n",
    "#or, more elegantly & better formatted...\n",
    "print('2')\n",
    "print('\\n'.join(sys.path))\n",
    "print('3')\n",
    "#stuff that you added to sys.path\n",
    "import os\n",
    "pypath=os.environ['PYTHONPATH'].split(os.pathsep)\n",
    "print('\\n'.join(pypath))"
   ]
  },
  {
   "cell_type": "markdown",
   "id": "495d88f2",
   "metadata": {},
   "source": [
    "The ``sys.path`` variable prints out your entire list of paths available for Python to import functions.   The ``\\n.join(sys.path`` shows the same information with each path on a new line.\n",
    "\n",
    "The last print statement shows paths that are in your ``$PYTHONPATH`` environment variable.  This is something that you have to set in your shell. "
   ]
  },
  {
   "cell_type": "markdown",
   "id": "93e7c783",
   "metadata": {},
   "source": [
    "Now what if there's a Python package that you want to install?  Well, you have a couple of options.  The two most common installation methods are using ``conda`` -- if you have the Anaconda distribution of Python -- or ``pip``.   If the thing you are wanting to install is a very nice, official package (e.g. ``numpy``), it should have its own installer script that you can use from ``conda`` or ``pip``.  \n",
    "\n",
    "Examples\n",
    "\n",
    "(installing or upgrading ``numpy``) (note: you should only need to upgrade numpy to new versions: an installation comes standard with Anaconda)\n",
    "\n",
    "```\n",
    "conda install numpy\n",
    "```\n",
    "\n",
    "or\n",
    "\n",
    "```\n",
    "pip install numpy\n",
    "```\n",
    "\n",
    "Some caveats.  First, ``conda`` is SLOW: it will carefully check for (what it thinks are) package incompatibilities.  And if you are not careful, it may start overwriting packages you currently have to solve the incompatibility.   Or conversely, ``pip`` might do an installation or upgrade that breaks packages a bit more easily.\n",
    "\n"
   ]
  },
  {
   "cell_type": "markdown",
   "id": "6fc61c64",
   "metadata": {},
   "source": [
    "For more details, see this nice discussion of the Python interpreter on the official site, here: <https://docs.python.org/3/tutorial/interpreter.html>"
   ]
  },
  {
   "cell_type": "code",
   "execution_count": null,
   "id": "c5170c83",
   "metadata": {},
   "outputs": [],
   "source": []
  }
 ],
 "metadata": {
  "kernelspec": {
   "display_name": "Python 3 (ipykernel)",
   "language": "python",
   "name": "python3"
  },
  "language_info": {
   "codemirror_mode": {
    "name": "ipython",
    "version": 3
   },
   "file_extension": ".py",
   "mimetype": "text/x-python",
   "name": "python",
   "nbconvert_exporter": "python",
   "pygments_lexer": "ipython3",
   "version": "3.12.4"
  }
 },
 "nbformat": 4,
 "nbformat_minor": 5
}
