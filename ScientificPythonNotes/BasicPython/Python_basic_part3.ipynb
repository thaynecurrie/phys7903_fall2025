{
 "cells": [
  {
   "cell_type": "markdown",
   "metadata": {},
   "source": [
    "# _Python for Scientific Data Analysis_\n",
    "\n",
    "\n",
    "#  Basic Python\n",
    "## Section 3: Functions\n",
    "\n",
    "Usually, when people talk about functions in Python, they mean the thing that starts with a ``def`` command.   \n",
    "\n",
    "_Functions_ do three things:\n",
    "\n",
    "1. They name pieces of code the way variables name strings and numbers.\n",
    "2. They take arguments the way your scripts take argv.\n",
    "3. Using 1 and 2 they let you make your own ”mini-scripts” or ”tiny commands.”"
   ]
  },
  {
   "cell_type": "markdown",
   "metadata": {},
   "source": [
    "### Variables and Functions\n",
    "\n",
    "Here is an example, ex18.py: \n",
    "\n",
    "```\n",
    "#definitions ...\n",
    "\n",
    "def print_two(*args):\n",
    "\n",
    "        arg1,arg2 = args\n",
    "        print(\"arg1: %r, arg2: %r\" % (arg1,arg2))\n",
    "\n",
    "def print_two_again(arg1,arg2):\n",
    "        print(\"arg1: %r, arg2: %r\" % (arg1,arg2))\n",
    "\n",
    "def print_one(arg1):\n",
    "        print(\"arg1: %r\" % arg1)\n",
    "\n",
    "def print_none():\n",
    "        print(\"nuthin'.\")\n",
    "\n",
    "\n",
    "print_two(\"James\",\"Kirk\")\n",
    "print_two_again(\"James\",\"Kirk\")\n",
    "print_one(\"Khan!!!\")\n",
    "print_none()\n",
    "\n",
    "```"
   ]
  },
  {
   "cell_type": "code",
   "execution_count": 17,
   "metadata": {},
   "outputs": [
    {
     "name": "stdout",
     "output_type": "stream",
     "text": [
      "arg1: 'James', arg2: 'Kirk'\n",
      "arg1: 'James', arg2: 'Kirk'\n",
      "arg1: 'Khan!!!'\n",
      "nuthin'.\n"
     ]
    }
   ],
   "source": [
    "#or in a notebook ...\n",
    "def print_two(*args):\n",
    "\n",
    "        arg1,arg2 = args\n",
    "        print(\"arg1: %r, arg2: %r\" % (arg1,arg2))\n",
    "\n",
    "def print_two_again(arg1,arg2):\n",
    "        print(\"arg1: %r, arg2: %r\" % (arg1,arg2))\n",
    "\n",
    "def print_one(arg1):\n",
    "        print(\"arg1: %r\" % arg1)\n",
    "\n",
    "def print_none():\n",
    "        print(\"nuthin'.\")\n",
    "\n",
    "\n",
    "print_two(\"James\",\"Kirk\")\n",
    "print_two_again(\"James\",\"Kirk\")\n",
    "print_one(\"Khan!!!\")\n",
    "print_none()\n"
   ]
  },
  {
   "cell_type": "markdown",
   "metadata": {},
   "source": [
    "If you execute this module, you will first see ```print_two``` run with variables ``James`` and ``Kirk`` and then ``print_two_again`` also with variables ``James`` and ``Kirk``.   Finally, ``print_none`` is run without arguments.  You should then see: \n",
    "\n",
    "```\n",
    "arg1: 'James', arg2: 'Kirk'\n",
    "arg1: 'James', arg2: 'Kirk'\n",
    "arg1: 'Khan!!!'\n",
    "nuthin'.\n",
    "\n",
    "```"
   ]
  },
  {
   "cell_type": "markdown",
   "metadata": {},
   "source": [
    "In this module, multiple python functions are defined and then are run with different variables.   But what if you are only interested in output generated from one function?  Well, you could manually edit the last few lines, commenting out all but one function call.  Or, you comment out the last three lines entirely but instead 1) start the python prompt (by typing ```python``` in the terminal window), 2) _import_ the function, and 3) call it with a variable name.   "
   ]
  },
  {
   "cell_type": "markdown",
   "metadata": {},
   "source": [
    "For the below examples, for importing functions, we will assume we are in the current working directory.\n",
    "An example with an edited module, ex18b.py:\n",
    "\n",
    "```\n",
    "#definitions, modified ...\n",
    "\n",
    "def print_two(*args):\n",
    "\n",
    "        arg1,arg2 = args\n",
    "        print(\"arg1: %r, arg2: %r\" % (arg1,arg2))\n",
    "\n",
    "def print_two_again(arg1,arg2):\n",
    "        print(\"arg1: %r, arg2: %r\" % (arg1,arg2))\n",
    "\n",
    "def print_one(arg1):\n",
    "        print(\"arg1: %r\" % arg1)\n",
    "\n",
    "def print_none():\n",
    "        print(\"nuthin'.\")\n",
    "\n",
    "```\n",
    "And then run as ...\n",
    "\n",
    "```\n",
    ">>> from ex18b import print_one\n",
    ">>> print_one(\"Picard!\")\n",
    "arg1: 'Picard!'\n",
    "\n",
    "```"
   ]
  },
  {
   "cell_type": "markdown",
   "metadata": {},
   "source": [
    "You can also import multiple Python functions:\n",
    "\n",
    "```\n",
    ">>> from ex18b import print_one,print_two\n",
    ">>> print_one(\"Picard!\")\n",
    "arg1: 'Picard!'\n",
    ">>> print_two(\"Jean-Luc\",\"Picard\")\n",
    "arg1: 'Jean-Luc', arg2: 'Picard'\n",
    "\n",
    "```"
   ]
  },
  {
   "cell_type": "code",
   "execution_count": null,
   "metadata": {},
   "outputs": [],
   "source": [
    "#notebook version ... \n",
    "#definitions, modified ...\n",
    "\n",
    "def print_two(*args):\n",
    "\n",
    "        arg1,arg2 = args\n",
    "        print(\"arg1: %r, arg2: %r\" % (arg1,arg2))\n",
    "\n",
    "def print_two_again(arg1,arg2):\n",
    "        print(\"arg1: %r, arg2: %r\" % (arg1,arg2))\n",
    "\n",
    "def print_one(arg1):\n",
    "        print(\"arg1: %r\" % arg1)\n",
    "\n",
    "def print_none():\n",
    "        print(\"nuthin'.\")\n",
    "    "
   ]
  },
  {
   "cell_type": "code",
   "execution_count": 20,
   "metadata": {},
   "outputs": [
    {
     "name": "stdout",
     "output_type": "stream",
     "text": [
      "arg1: 'Picard!'\n",
      "arg1: 'Jean-Luc', arg2: 'Picard'\n"
     ]
    }
   ],
   "source": [
    "#from ex18b import print_one,print_two ... is omitted for a notebook: by clicking shift-enter, we have effectively imported the functions\n",
    "print_one(\"Picard!\")\n",
    "print_two(\"Jean-Luc\",\"Picard\")"
   ]
  },
  {
   "cell_type": "markdown",
   "metadata": {},
   "source": [
    "Now, you can have as many Python functions within a module as you want.   Want to know the names of all the functions in a module?   Try this one neat trick:\n",
    "\n",
    "```\n",
    ">>> import inspect\n",
    ">>> import [module name]\n",
    ">>> functions=inspect.getmembers([module name],inspect.isfunction)\n",
    ">>> for a in range(len(functions)): print(functions[a])\n",
    "\n",
    "```"
   ]
  },
  {
   "cell_type": "markdown",
   "metadata": {},
   "source": [
    "Used in the example for ex18b, we get ...\n",
    "\n",
    "```\n",
    "('print_none', <function print_none at 0x1099f8830>)\n",
    "('print_one', <function print_one at 0x1099f8200>)\n",
    "('print_two', <function print_two at 0x109978050>)\n",
    "('print_two_again', <function print_two_again at 0x1099f19e0>)\n",
    "```"
   ]
  },
  {
   "cell_type": "markdown",
   "metadata": {},
   "source": [
    "Here's an even better, albeit trickier way of writing out all the functions\n",
    "```\n",
    ">>> import inspect\n",
    ">>> import [module name]\n",
    ">>> functions = [name for name, obj in inspect.getmembers([module name]) if inspect.isfunction(obj)]\n",
    "\n",
    "```"
   ]
  },
  {
   "cell_type": "markdown",
   "metadata": {},
   "source": [
    "For ex18b we write this as ...\n",
    "```\n",
    ">>> import inspect\n",
    ">>> import ex18b\n",
    ">>> functions = [name for name, obj in inspect.getmembers(ex18b) if inspect.isfunction(obj)]\n",
    "```"
   ]
  },
  {
   "cell_type": "markdown",
   "metadata": {},
   "source": [
    "which returns ..."
   ]
  },
  {
   "cell_type": "markdown",
   "metadata": {},
   "source": [
    "```\n",
    ">>>print(functions)\n",
    "['print_none', 'print_one', 'print_two', 'print_two_again']\n",
    "```"
   ]
  },
  {
   "cell_type": "markdown",
   "metadata": {},
   "source": [
    "There are other ways of printing out function lists, albeit in an unformatted way:```\n",
    "dir([module name])```, which for ex18b returns ...\n",
    "\n",
    "```\n",
    "['__builtins__', '__cached__', '__doc__', '__file__', '__loader__', '__name__', '__package__', '__spec__', 'print_none', 'print_one', 'print_two', 'print_two_again']\n",
    "```"
   ]
  },
  {
   "cell_type": "markdown",
   "metadata": {},
   "source": [
    "### Files and Functions\n",
    "\n",
    "Now see what happens when we manipulate files within functions, as in ex20.py\n",
    "\n",
    "```\n",
    "from sys import argv\n",
    "\n",
    "script,input_file = argv\n",
    "\n",
    "def print_all(f):\n",
    "\n",
    "        print(f.read())\n",
    "def rewind(f):\n",
    "        f.seek(0)\n",
    "\n",
    "def print_a_line(line_count,f):\n",
    "        print( \"hihi\", line_count,f.readline())\n",
    "\n",
    "current_file=open(input_file)\n",
    "\n",
    "print(\"First let's print the whole file:\\n\")\n",
    "print_all(current_file))\n",
    "\n",
    "print(\"now rewind\")\n",
    "rewind(current_file)\n",
    "\n",
    "print(\"print 3 lines\")\n",
    "\n",
    "current_line=1\n",
    "\n",
    "print_a_line(current_line,current_file)\n",
    "\n",
    "current_line=current_line+1\n",
    "\n",
    "print_a_line(current_line,current_file)\n",
    "\n",
    "current_line=current_line+1\n",
    "print_a_line(current_line,current_file)\n",
    "\n",
    "\n",
    "```"
   ]
  },
  {
   "cell_type": "markdown",
   "metadata": {},
   "source": [
    "If we call ex20.py using our old friend -- ```python ex20.py ex20_sample.txt ``` -- we get the following:\n",
    "\n",
    "```\n",
    "First let's print the whole file:\n",
    "\n",
    "This is stuff I typed into a file.\n",
    "It is really cool stuff.\n",
    "Lots and lots of fun to have in here.\n",
    "\n",
    "now rewind\n",
    "print 3 lines\n",
    "hihi 1 This is stuff I typed into a file.\n",
    "\n",
    "hihi 2 It is really cool stuff.\n",
    "\n",
    "hihi 3 Lots and lots of fun to have in here.\n",
    "```\n",
    "\n",
    "In this example, we read out the file in full: i.e. pointing to the end.   The _seek_ function re-sets the file's current position at a given offset (an argument of the function _seek_).   We set it back to the beginning in this example.   Then we have three separate calls to the function _print\\_a\\_line_ . _print\\_a\\_line_ just reads one line and prints to output.   The argument _current\\_line_ doesn't actually do anything in this function call: it's just for housekeeping."
   ]
  },
  {
   "cell_type": "markdown",
   "metadata": {},
   "source": [
    "### Sending and Returning Values from Functions\n",
    "\n",
    "Now, we will do an example where we send and return values from functions after importing a module.  \n",
    "\n",
    "The python script ex24.py is a simple example, containing a function called contrast_calc ..."
   ]
  },
  {
   "cell_type": "markdown",
   "metadata": {},
   "source": [
    "```\n",
    "def contrast_calc(r_plan=1,r_au=5.2):\n",
    "\n",
    " #r_plan in units of Jupiter radii\n",
    " #r_au in units of au\n",
    "\n",
    " reflected_light_contrast=1.2e-9*(r_plan/1.0)**2*(r_au/5.2)**(-2.)\n",
    "\n",
    "\n",
    " return reflected_light_contrast\n",
    "\n",
    "```"
   ]
  },
  {
   "cell_type": "code",
   "execution_count": null,
   "metadata": {},
   "outputs": [],
   "source": [
    "from code_ipynb.ex24 import contrast_calc\n",
    "\n",
    "result=contrast_calc(r_plan=2,r_au=2)\n",
    "print('{0:.2e}'.format(result))"
   ]
  },
  {
   "cell_type": "markdown",
   "metadata": {},
   "source": [
    "multiple values returned can be separated by commas... e.g. ex24b.py\n",
    "\n",
    "```\n",
    "def contrast_calc2(r_plan=1,r_au=5.2):\n",
    "\n",
    " #r_plan in units of Jupiter radii\n",
    " #r_au in units of au\n",
    "\n",
    " reflected_light_contrast=1.2e-9*(r_plan/1.0)**2*(r_au/5.2)**(-2.)\n",
    "\n",
    " earth_contrast=2e-10\n",
    "\n",
    "\n",
    " return reflected_light_contrast,reflected_light_contrast/earth_contrast\n",
    "\n",
    "```"
   ]
  },
  {
   "cell_type": "code",
   "execution_count": 26,
   "metadata": {},
   "outputs": [
    {
     "name": "stdout",
     "output_type": "stream",
     "text": [
      "3.24e-08, 162.24\n"
     ]
    }
   ],
   "source": [
    "from code_ipynb.ex24b import contrast_calc2\n",
    "\n",
    "result=contrast_calc2(r_plan=2,r_au=2)\n",
    "print('{0:.2e}, {1:.2f}'.format(result[0],result[1]))"
   ]
  },
  {
   "cell_type": "markdown",
   "metadata": {},
   "source": [
    "Here's a more complex example: ex25.py, which looks like ...\n",
    "\n",
    "```\n",
    "#import this\n",
    "\n",
    "def break_words(stuff):\n",
    "        \"\"\"This function will break up words.\"\"\"\n",
    "        words = stuff.split(' ')\n",
    "        return words\n",
    "def sort_words(words):\n",
    "        \"\"\"Sorts.\"\"\"\n",
    "        return sorted(words)\n",
    "\n",
    "def print_first_word(words):\n",
    "        \"\"\"Prints the first word\"\"\"\n",
    "        word=words.pop(0)\n",
    "        print(word)\n",
    "\n",
    "def print_last_word(words):\n",
    "        \"\"\"Prints the last word\"\"\"\n",
    "        word=words.pop(-1)\n",
    "        print(word)\n",
    "def sort_sentence(sentence):\n",
    "        \"\"\"Takes in a full sentence\"\"\"\n",
    "        words = break_words(sentence)\n",
    "        return sort_words(words)\n",
    "def print_first_and_last(sentence):\n",
    "\n",
    "        words =break_words(sentence)\n",
    "        print_first_word(words)\n",
    "        print_last_word(words)\n",
    "\n",
    "def print_first_and_last_sorted(sentence):\n",
    "        words=sort_sentence(sentence)\n",
    "        print_first_word(words)\n",
    "        print_last_word(words)\n",
    "\n",
    "```"
   ]
  },
  {
   "cell_type": "markdown",
   "metadata": {},
   "source": [
    "Now, we import and run as follows...\n",
    "\n",
    "```\n",
    ">>> import ex25\n",
    ">>> sentence=\"good things come to those who wait\"\n",
    ">>> words=ex25.break_words(sentence)\n",
    ">>> words\n",
    "['good', 'things', 'come', 'to', 'those', 'who', 'wait']\n",
    ">>> sorted_words = ex25.sort_words(words)\n",
    ">>> sorted_words\n",
    "['come', 'good', 'things', 'those', 'to', 'wait', 'who']\n",
    ">>> ex25.print_first_word(words)\n",
    "good\n",
    ">>> ex25.print_last_word(words)\n",
    "wait\n",
    ">>> ex25.print_first_word(sorted_words)\n",
    "come\n",
    ">>> ex25.print_last_word(sorted_words)\n",
    "who\n",
    ">>> sorted_words\n",
    "['good', 'things', 'those', 'to', 'wait']\n",
    ">>> sorted_words = ex25.sort_sentence(sentence)\n",
    ">>> sorted_words\n",
    "['come', 'good', 'things', 'those', 'to', 'wait', 'who']\n",
    ">>> ex25.print_first_and_last(sentence)\n",
    "good\n",
    "wait\n",
    ">>> ex25.print_first_and_last_sorted(sentence)\n",
    "come\n",
    "who\n",
    "\n",
    "\n",
    "```"
   ]
  },
  {
   "cell_type": "code",
   "execution_count": 16,
   "metadata": {},
   "outputs": [
    {
     "name": "stdout",
     "output_type": "stream",
     "text": [
      "words are ['good', 'things', 'come', 'to', 'those', 'who', 'wait']\n",
      "sorted_words are ['come', 'good', 'things', 'those', 'to', 'wait', 'who']\n",
      "\n",
      "good\n",
      "wait\n",
      "come\n",
      "who\n",
      "['good', 'things', 'those', 'to', 'wait']\n",
      "['come', 'good', 'things', 'those', 'to', 'wait', 'who']\n",
      "good\n",
      "wait\n",
      "come\n",
      "who\n"
     ]
    }
   ],
   "source": [
    "#or in a notebook\n",
    "import code_ipynb.ex25 as ex25\n",
    "sentence=\"good things come to those who wait\"\n",
    "words=ex25.break_words(sentence)\n",
    "print('words are',words)\n",
    "sorted_words = ex25.sort_words(words)\n",
    "print('sorted_words are',sorted_words)\n",
    "print('')\n",
    "ex25.print_first_word(words)\n",
    "ex25.print_last_word(words)\n",
    "ex25.print_first_word(sorted_words)\n",
    "ex25.print_last_word(sorted_words)\n",
    "print(sorted_words)\n",
    "sorted_words = ex25.sort_sentence(sentence)\n",
    "print(sorted_words)\n",
    "ex25.print_first_and_last(sentence)\n",
    "ex25.print_first_and_last_sorted(sentence)"
   ]
  },
  {
   "cell_type": "markdown",
   "metadata": {},
   "source": [
    "Here, successive function calls modify _words_ and _sorted\\_words_ .  Those modified variables get passed to the next function call."
   ]
  },
  {
   "cell_type": "code",
   "execution_count": null,
   "metadata": {},
   "outputs": [],
   "source": []
  }
 ],
 "metadata": {
  "kernelspec": {
   "display_name": "Python 3 (ipykernel)",
   "language": "python",
   "name": "python3"
  },
  "language_info": {
   "codemirror_mode": {
    "name": "ipython",
    "version": 3
   },
   "file_extension": ".py",
   "mimetype": "text/x-python",
   "name": "python",
   "nbconvert_exporter": "python",
   "pygments_lexer": "ipython3",
   "version": "3.12.4"
  }
 },
 "nbformat": 4,
 "nbformat_minor": 4
}
