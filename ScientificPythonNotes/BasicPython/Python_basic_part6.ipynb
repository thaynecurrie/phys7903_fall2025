{
 "cells": [
  {
   "cell_type": "markdown",
   "metadata": {},
   "source": [
    "# _Python for Scientific Data Analysis_\n",
    "\n",
    "\n",
    "#  Basic Python\n",
    "\n",
    "## Section 6: Attributes; Finding, Replacing, Sorting, and Searching\n",
    "\n",
    "Objects in Python typically have both attributes (other Python objects stored “inside”\n",
    "the object) and methods (functions associated with an object that can have access to\n",
    "the object’s internal data). Both of them are accessed via the syntax\n",
    "obj.attribute_name.  \n",
    "\n",
    "Say for example that you have a string variable called a which has a value of `foo':"
   ]
  },
  {
   "cell_type": "code",
   "execution_count": 2,
   "metadata": {},
   "outputs": [],
   "source": [
    "a='foo'"
   ]
  },
  {
   "cell_type": "markdown",
   "metadata": {},
   "source": [
    "To get all the attribute names type ``a.`` and then press ``tab`` twice on your keyboard.\n",
    "\n",
    "Here's a list of some of them that may emerge if you do this from the Python prompt:"
   ]
  },
  {
   "cell_type": "markdown",
   "metadata": {},
   "source": [
    "```\n",
    ">>>a. #press tab twice\n",
    "a.capitalize a.format a.isupper    a.rindex     a.strip\n",
    "a.center     a.index   a.join      a.rjust      a.swapcase\n",
    "a.count      a.isalnum a.ljust     a.rpartition a.title\n",
    "a.decode     a.isalpha a.lower     a.rsplit     a.translate\n",
    "a.encode     a.isdigit a.lstrip    a.rstrip     a.upper\n",
    "a.endswith   a.islower a.partition a.split      a.zfill\n",
    "a.expandtabs a.isspace a.replace   a.splitlines\n",
    "a.find       a.istitle a.rfind     a.startswith\n",
    "\n",
    "```"
   ]
  },
  {
   "cell_type": "markdown",
   "metadata": {},
   "source": [
    "If you do this from this notebook you get a pulldown menu showing the same attributes"
   ]
  },
  {
   "cell_type": "code",
   "execution_count": 4,
   "metadata": {},
   "outputs": [
    {
     "data": {
      "text/plain": [
       "'Foo'"
      ]
     },
     "execution_count": 4,
     "metadata": {},
     "output_type": "execute_result"
    }
   ],
   "source": [
    "#type a. and then tab twice\n",
    "\n",
    "#uncomment below\n",
    "#a.\n",
    "#a.\n",
    "a.capitalize()"
   ]
  },
  {
   "cell_type": "code",
   "execution_count": null,
   "metadata": {},
   "outputs": [],
   "source": [
    "#another example ...\n",
    "\n",
    "a=3.141569"
   ]
  },
  {
   "cell_type": "code",
   "execution_count": null,
   "metadata": {},
   "outputs": [],
   "source": [
    "#a. #pressing tab twice in a Jupyter notebook pulls up a list of possible attributes"
   ]
  },
  {
   "cell_type": "markdown",
   "metadata": {},
   "source": [
    "Most of these are self-explanatory; others you can just look up.  But below we detail a few of them.\n",
    "\n",
    "### Finding and Replacing\n",
    "\n",
    "Python lists several attributes that will allow you to find/replace elements of a string.   First, ``find`` finds the first match between a substring you give it and a string.   A simple example:"
   ]
  },
  {
   "cell_type": "code",
   "execution_count": 7,
   "metadata": {},
   "outputs": [],
   "source": [
    "txt=\"All good things can wait a bit longer\""
   ]
  },
  {
   "cell_type": "code",
   "execution_count": null,
   "metadata": {},
   "outputs": [],
   "source": [
    "txt."
   ]
  },
  {
   "cell_type": "code",
   "execution_count": 8,
   "metadata": {},
   "outputs": [
    {
     "name": "stdout",
     "output_type": "stream",
     "text": [
      "4 9\n"
     ]
    }
   ],
   "source": [
    "x=txt.find(\"good\")\n",
    "\n",
    "y=txt.find(\"things\")\n",
    "\n",
    "print(x,y)"
   ]
  },
  {
   "cell_type": "markdown",
   "metadata": {},
   "source": [
    "```\n",
    ">>> txt=\"All good things can wait a bit longer\"\n",
    ">>> x=txt.find(\"good\")\n",
    ">>> x #4\n",
    ">>> y=txt.find(\"things\")\n",
    ">>> y #9\n",
    "```"
   ]
  },
  {
   "cell_type": "markdown",
   "metadata": {},
   "source": [
    "There, the return value ``4`` corresponds to the element of the string.  The full call for ``find`` is ``string.find(value, start, end) ``.   Here are some examples:"
   ]
  },
  {
   "cell_type": "code",
   "execution_count": 9,
   "metadata": {},
   "outputs": [
    {
     "name": "stdout",
     "output_type": "stream",
     "text": [
      "4\n",
      "39\n"
     ]
    }
   ],
   "source": [
    "\n",
    "txt=\"All good things can wait a bit longer, good\"\n",
    "x=txt.find(\"good\",0,len(txt))\n",
    "y=txt.find(\"good\",13,len(txt))\n",
    "print(x)\n",
    "print(y)\n"
   ]
  },
  {
   "cell_type": "code",
   "execution_count": 10,
   "metadata": {},
   "outputs": [
    {
     "name": "stdout",
     "output_type": "stream",
     "text": [
      "23\n",
      "54\n"
     ]
    }
   ],
   "source": [
    "txt=\"All good things can be good if you wait a bit longer, good\"\n",
    "x=txt.find(\"good\",11,len(txt))\n",
    "print(x)\n",
    "#23\n",
    "x=txt.find(\"good\",41,len(txt))\n",
    "print(x)\n",
    "#54\n"
   ]
  },
  {
   "cell_type": "markdown",
   "metadata": {},
   "source": [
    "The property ``replace`` replaces a substring with another substring.  E.g. "
   ]
  },
  {
   "cell_type": "code",
   "execution_count": 11,
   "metadata": {},
   "outputs": [
    {
     "name": "stdout",
     "output_type": "stream",
     "text": [
      "one cat walks into a bar\n"
     ]
    }
   ],
   "source": [
    "\n",
    "c='one duck walks into a bar'\n",
    "print(c.replace('duck','cat'))\n",
    "#'one cat walks into a bar'\n",
    "\n"
   ]
  },
  {
   "cell_type": "markdown",
   "metadata": {},
   "source": [
    "### Sorting\n",
    "\n",
    "Python also allows sorting of lists: ``reverse``, ``sort`` and other functions.\n",
    "\n",
    "  The ``reverse`` attribute reverses the order of a list.  E.g. if ``c=[4,5,6]`` then ``c.reverse()`` is ``[6,5,4]``.   If you want to sort the list by an increasing value then do ``c.sort()``; for decreasing, ``c.sort(reverse=True)``.  \n",
    "  "
   ]
  },
  {
   "cell_type": "code",
   "execution_count": 22,
   "metadata": {},
   "outputs": [
    {
     "name": "stdout",
     "output_type": "stream",
     "text": [
      "[4, 5, 6]\n",
      "[6, 5, 4]\n",
      "[4, 5, 6]\n",
      "[6, 5, 4]\n"
     ]
    }
   ],
   "source": [
    "c=[4,5,6]\n",
    "print(c)\n",
    "c.reverse()\n",
    "print(c)\n",
    "\n",
    "#sorting\n",
    "c.sort()\n",
    "print(c)\n",
    "c.sort(reverse=True)\n",
    "print(c)"
   ]
  },
  {
   "cell_type": "markdown",
   "metadata": {},
   "source": [
    "  \n",
    "  Python also has another useful module called ``bisect`` that can be used after it is imported.   It implements a binary search and insertion into a sorted list.  E.g. ``bisect.bisect`` finds the location where an element should be inserted to keep it sorted, while ``bisect.insort`` actually inserts the element into that location.   E.g. \n",
    "  "
   ]
  },
  {
   "cell_type": "code",
   "execution_count": 27,
   "metadata": {},
   "outputs": [
    {
     "name": "stdout",
     "output_type": "stream",
     "text": [
      "two 4\n",
      "three 5\n",
      "five 6\n",
      "[1, 2, 2, 2, 3, 4, 6, 7]\n",
      "\n",
      "two 2\n",
      "three 5\n",
      "five 6\n",
      "[1, 2, 2.25, 2.5, 3, 4, 6, 7]\n"
     ]
    }
   ],
   "source": [
    "import bisect\n",
    "c=[1, 2, 2, 2, 3, 4, 7]\n",
    "print('two',bisect.bisect(c, 2))\n",
    "print('three',bisect.bisect(c, 3))\n",
    "print('five',bisect.bisect(c, 5))\n",
    "bisect.insort(c,6)\n",
    "print(c)\n",
    "\n",
    "print('')\n",
    "c2=[1, 2, 2.25, 2.5, 3, 4, 7]\n",
    "print('two',bisect.bisect(c2, 2)) #compare with the bisect command on c: \n",
    "#there, the new list element is inserted after the first instance of 2\n",
    "print('three',bisect.bisect(c2, 3))\n",
    "print('five',bisect.bisect(c2, 5))\n",
    "bisect.insort(c2,6)\n",
    "print(c2)"
   ]
  },
  {
   "cell_type": "markdown",
   "metadata": {},
   "source": [
    "Python includes the ability to do string expression matching with the module ``re``.   You have to ``import re`` first to use it.  \n",
    "\n",
    "The formal documentation includes an exhaustive list of attributes for ``re``: https://docs.python.org/3/library/re.html . Below are a few that are particularly useful:"
   ]
  },
  {
   "cell_type": "markdown",
   "metadata": {},
   "source": [
    "``re.search`` looks for the first instance of a string:"
   ]
  },
  {
   "cell_type": "code",
   "execution_count": 30,
   "metadata": {},
   "outputs": [
    {
     "name": "stdout",
     "output_type": "stream",
     "text": [
      "<re.Match object; span=(35, 42), match='Genesis'>\n",
      "35\n",
      "42\n"
     ]
    }
   ],
   "source": [
    "import re\n",
    "startrek3string='Help,Jim.  Why did you leave me on Genesis? Help me, Spock.'\n",
    "key_word='Genesis'\n",
    "a=re.search(key_word,startrek3string)\n",
    "print(a)\n",
    "print(a.start()) #gives the starting index position of the match\n",
    " #   35\n",
    "print(a.end()) #gives the end index position\n",
    " #   42\n"
   ]
  },
  {
   "cell_type": "markdown",
   "metadata": {},
   "source": [
    "``re.split`` will split a string at every point there is a certain character:"
   ]
  },
  {
   "cell_type": "code",
   "execution_count": 46,
   "metadata": {},
   "outputs": [
    {
     "name": "stdout",
     "output_type": "stream",
     "text": [
      "['Help,Jim.', 'Why', 'did', 'you', 'leave', 'me', 'on', 'Genesis?', 'Help', 'me,', 'Spock.']\n",
      "['Help,Jim.', 'Why', 'did', 'you', 'leave', 'me', 'on', 'Genesis?', 'Help', 'me,', 'Spock.']\n",
      "['Help,Jim. Why did you ', ' me on Genesis? Help me, Spock.']\n",
      "['Help,Jim. Why did y', 'u leave me ', 'n Genesis? Help me, Sp', 'ck.']\n",
      "['Help,Jim. Why did y', 'u leave me on Genesis? Help me, Spock.']\n",
      "['Help,Jim. Why did y', 'u leave me ', 'n Genesis? Help me, Spock.']\n"
     ]
    }
   ],
   "source": [
    "startrek3string='Help,Jim. Why did you leave me on Genesis? Help me, Spock.'\n",
    "a= re.split(r'\\s',startrek3string) \n",
    "#here, the string is split at every empty space; note: in latest Python version we had to add a r before the ' ',otherwise Python yells\n",
    "print(a)\n",
    "#['Help,Jim.', 'Why', 'did', 'you', 'leave', 'me', 'on', 'Genesis?', 'Help', 'me,', 'Spock.']\n",
    "\n",
    "\n",
    "#b=re.split('',startrek3string) #splits on every letter/space element\n",
    "b=re.split(' ',startrek3string) #splits on every empty space .. i.. just like a except syntaxually simpler\n",
    "print(b)\n",
    "\n",
    "c=re.split('leave',startrek3string) #splits on 'leave' ... returns list elements before 'leave' and after 'leave'\n",
    "print(c)\n",
    "\n",
    "d=re.split('o',startrek3string)\n",
    "print(d)\n",
    "\n",
    "#we can control the number of splits\n",
    "e=re.split('o',startrek3string,1)\n",
    "print(e)\n",
    "e2=re.split('o',startrek3string,2)\n",
    "print(e2)"
   ]
  },
  {
   "cell_type": "markdown",
   "metadata": {},
   "source": [
    "``re.sub`` will replace every instance of one string by another string:\n",
    "\n",
    "Here's a simple example:"
   ]
  },
  {
   "cell_type": "code",
   "execution_count": 21,
   "metadata": {},
   "outputs": [
    {
     "name": "stdout",
     "output_type": "stream",
     "text": [
      "watch out for Torgo\n",
      "watch out for McLeod!!!\n",
      "David Ryder's Name is Big McLarge Huge\n"
     ]
    }
   ],
   "source": [
    "mst3kstring='watch out for snakes'\n",
    "a=re.sub('snakes','Torgo',mst3kstring)\n",
    "b=re.sub('snakes','McLeod!!!',mst3kstring)\n",
    "print(a)\n",
    "print(b)\n",
    "\n",
    "mst3kstring2=\"David Ryder's Name is Slab Bulkhead\"\n",
    "c=re.sub('Slab Bulkhead','Big McLarge Huge',mst3kstring2)\n",
    "print(c)"
   ]
  },
  {
   "cell_type": "markdown",
   "metadata": {},
   "source": [
    "or this example where we replace spaces by 999:"
   ]
  },
  {
   "cell_type": "code",
   "execution_count": 49,
   "metadata": {},
   "outputs": [
    {
     "name": "stdout",
     "output_type": "stream",
     "text": [
      "help,Jim.999Why999did999you999leave999me999on999Genesis?999help999me,999Spock.\n",
      "help,Jim. Why did y999u leave me 999n Genesis? help me, Sp999ck.\n"
     ]
    }
   ],
   "source": [
    "startrek3string='help,Jim. Why did you leave me on Genesis? help me, Spock.'\n",
    "#a=re.sub(r'\\s','999',startrek3string) this works too\n",
    "a=re.sub(' ','999',startrek3string)\n",
    "print(a)\n",
    "\n",
    "#'help,Jim.999Why999did999you999leave999me999on999Genesis?999help999me,999Spock.'\n",
    "\n",
    "a=re.sub('o','999',startrek3string)\n",
    "print(a)"
   ]
  },
  {
   "cell_type": "code",
   "execution_count": 50,
   "metadata": {},
   "outputs": [
    {
     "name": "stdout",
     "output_type": "stream",
     "text": [
      "help,Jim. Why did you leave me on Pluto? help me, Spock.\n"
     ]
    }
   ],
   "source": [
    "b=re.sub('Genesis','Pluto',startrek3string)\n",
    "print(b)\n",
    "#'Help,Jim. Why did you leave me on Pluto? Help me, Spock."
   ]
  },
  {
   "cell_type": "markdown",
   "metadata": {},
   "source": [
    "You can control the number of replacements with the `count' keyword:"
   ]
  },
  {
   "cell_type": "code",
   "execution_count": 51,
   "metadata": {},
   "outputs": [
    {
     "data": {
      "text/plain": [
       "'Waffles,Jim. Why did you leave me on Genesis? help me, Spock.  Will you help?'"
      ]
     },
     "execution_count": 51,
     "metadata": {},
     "output_type": "execute_result"
    }
   ],
   "source": [
    "\n",
    "startrek3string='help,Jim. Why did you leave me on Genesis? help me, Spock.  Will you help?'\n",
    "b=re.sub('help','Waffles',startrek3string,1)\n",
    "b\n",
    "#'Waffles,Jim. Why did you leave me on Genesis? Waffles me, Spock.  Will you help?'\n",
    "\n"
   ]
  },
  {
   "cell_type": "markdown",
   "metadata": {},
   "source": [
    "Another attribute of ``re`` -- ``.search``-- combined with ``span`` will give you the indices of the first string match while combining with ``group`` will give you the first string where there is a match."
   ]
  },
  {
   "cell_type": "markdown",
   "metadata": {},
   "source": [
    "```\n",
    ">>>txt= \"The needs of the many outweigh the needs of the few\"\n",
    ">>>x=re.search(\"outweigh\",txt)\n",
    ">>>x.span()\n",
    "   (22,30)\n",
    "```   "
   ]
  },
  {
   "cell_type": "code",
   "execution_count": 66,
   "metadata": {},
   "outputs": [
    {
     "name": "stdout",
     "output_type": "stream",
     "text": [
      "Needs\n",
      "Nags\n",
      "['Needs', 'Nags']\n"
     ]
    }
   ],
   "source": [
    "txt= \"The Needs of the many outweigh the Nags of the few\"\n",
    "y=re.search(r\"\\bN\\w+\",txt) #searches at the beginning \\b for containing any word character N\n",
    "print(y.group())\n",
    "#'Needs'\n",
    "y=re.search(r\"\\bNa\\w+\",txt) #searches at the beginning \\b for containing any word characters Na\n",
    "print(y.group())\n",
    "#'Nags'\n",
    "\n",
    "y=re.findall(r\"\\bN\\w+\",txt)\n",
    "print(y)"
   ]
  },
  {
   "cell_type": "markdown",
   "metadata": {},
   "source": [
    "Instead of ``.search``, you can also use ``.findall``.  ``.findall`` will actually return the instances themselves.  E.g. "
   ]
  },
  {
   "cell_type": "code",
   "execution_count": 72,
   "metadata": {},
   "outputs": [
    {
     "name": "stdout",
     "output_type": "stream",
     "text": [
      "<re.Match object; span=(22, 30), match='outweigh'>\n",
      "['outweigh']\n",
      "[]\n",
      "['needs', 'needs']\n",
      "['ne', 'ny', 'ne']\n",
      "['needs', 'ny', 'needs']\n"
     ]
    }
   ],
   "source": [
    "txt= \"The needs of the many outweigh the needs of the few\"\n",
    "x=re.search(r\"outweigh\",txt)\n",
    "print(x)\n",
    "#<re.Match object; span=(22, 30), match='outweigh'>\n",
    "x=re.findall(r\"outweigh\",txt)\n",
    "print(x)\n",
    "#['outweigh']\n",
    "\n",
    "\n",
    "#y=re.findall(r\"\\bN\\w+\",txt)\n",
    "y=re.findall(r\"\\bN\\w+\",txt)\n",
    "print(y) #nothing\n",
    "\n",
    "y=re.findall(r\"\\bn\\w+\",txt)\n",
    "print(y) #two instances\n",
    "\n",
    "y=re.findall(r\"n\\w\",txt)\n",
    "print(y) #three instances\n",
    "\n",
    "y=re.findall(r\"n\\w+\",txt)\n",
    "print(y) #three instances"
   ]
  },
  {
   "cell_type": "markdown",
   "metadata": {},
   "source": [
    "You can use brackets -- ``[ ]`` -- and backslashes -- ``\\`` -- and other metacharacters, special sequences, and sets to do complex string searches.  Here are some of them \n",
    "\n",
    "\n",
    "_Metacharacters_\n",
    "\n",
    "Examples of metacharacters can be found here [https://www.w3schools.com/python/gloss\\_python\\_regex\\_metacharacters.asp]()\n",
    "\n",
    "```\n",
    "e.g. given a string called \"hello world\" ...\n",
    "\n",
    "[] \tA set of characters \t\"[a-m]\" \t\n",
    "\\ \tSignals a special sequence (can also be used to escape special characters) \t\"\\d\" \t\n",
    ". \tAny character (except newline character) \t\"he..o\" \t\n",
    "^ \tStarts with \t\"^hello\" \t\n",
    "$ \tEnds with \t\"planet$\" \t\n",
    "* \tZero or more occurrences \t\"he.*o\" \t#Search for a sequence that starts with \"he\", followed by 0 or more  (any) characters, and an \"o\":\n",
    "+ \tOne or more occurrences \t\"he.+o\" \t#Search for a sequence that starts with \"he\", followed by 1 or more  (any) characters, and an \"o\":\n",
    "? \tZero or one occurrences \t\"he.?o\" \t#Search for a sequence that starts with \"he\", followed by 0 or 1 characters, and an \"o\":\n",
    "{} \tExactly the specified number of occurrences #Search for a sequence that starts with \"he\", followed excactly 2 (any) characters, and an \"o\":\t\"he.{2}o\" \t\n",
    "| \tEither or \t\"falls|stays\" \t\n",
    "() \tCapture and group\n",
    "\n",
    "```"
   ]
  },
  {
   "cell_type": "code",
   "execution_count": 116,
   "metadata": {},
   "outputs": [
    {
     "name": "stdout",
     "output_type": "stream",
     "text": [
      "1\n",
      "['h', 'e', 'l', 'l', 'l', 'd']\n",
      "2\n",
      "['l', 'l', 'l']\n",
      "3\n",
      "['l', 'l', 'w', 'l']\n",
      "4\n",
      "['hello wo']\n",
      "5\n",
      "['hello wo']\n",
      "6\n",
      "[]\n",
      "7\n",
      "['hello']\n",
      "8\n",
      "['hello wo']\n",
      "9\n",
      "['hello']\n"
     ]
    }
   ],
   "source": [
    "txt=\"hello world\"\n",
    "\n",
    "print('1')\n",
    "x=re.findall(\"[a-m]\",txt)\n",
    "print(x)\n",
    "\n",
    "print('2')\n",
    "x=re.findall(\"l\",txt)\n",
    "print(x)\n",
    "#x=re.findall(\"[l]\",txt) #same thing\n",
    "#print(x) \n",
    "\n",
    "#x=re.findall(\"l,w\",txt) #returns an empty list\n",
    "#print(x)\n",
    "\n",
    "print('3')\n",
    "x=re.findall(\"[l,w]\",txt)\n",
    "print(x)\n",
    "\n",
    "print('4')\n",
    "x=re.findall(\"he.*o\",txt)\n",
    "print(x)\n",
    "\n",
    "print('5')\n",
    "x=re.findall(\"he.+o\",txt)\n",
    "print(x)\n",
    "\n",
    "print('6')\n",
    "x=re.findall(\"he.?o\",txt)\n",
    "print(x)\n",
    "\n",
    "print('7')\n",
    "x=re.findall(\"hell.?o\",txt)\n",
    "print(x)\n",
    "\n",
    "print('8')\n",
    "x=re.findall(\"hell.{3}o\",txt)\n",
    "print(x)\n",
    "\n",
    "#x=re.findall(\"hell.{4}o\",txt) #empty return\n",
    "#print(x) \n",
    "\n",
    "print('9')\n",
    "txt2=\"hello planet\"\n",
    "x=re.findall(\"he.*o\",txt2)\n",
    "print(x)"
   ]
  },
  {
   "cell_type": "markdown",
   "metadata": {},
   "source": [
    "_Special Sequences_\n",
    "\n",
    "Examples of special sequences can be found here ``https://www.w3schools.com/python/gloss_python_regex_sequences.asp``\n",
    "\n",
    "```\n",
    "\n",
    "\\A \tReturns a match if the specified characters are at the beginning of the string\n",
    "\\b \tReturns a match where the specified characters are at the beginning or at the end of a word\n",
    "(the \"r\" in the beginning is making sure that the string is being treated as a \"raw string\") \t\n",
    "\n",
    "\\B \tReturns a match where the specified characters are present, but NOT at the beginning (or at the end) of a word\n",
    "\n",
    "\n",
    "\\d \tReturns a match where the string contains digits (numbers from 0-9) \t\n",
    "\\D \tReturns a match where the string DOES NOT contain digits \t\"\\D\" \t\n",
    "\\s \tReturns a match where the string contains a white space character \t\n",
    "\\S \tReturns a match where the string DOES NOT contain a white space character \t\n",
    "\\w \tReturns a match where the string contains any word characters (characters from a to Z, digits from 0-9, and the underscore _ character) \t\"\\w\" \t\n",
    "\\W \tReturns a match where the string DOES NOT contain any word characters \t\n",
    "\\Z \tReturns a match if the specified characters are at the end of the string \n",
    "\n",
    "```\n",
    "\n",
    "_Sets_\n",
    "\n",
    "```\n",
    "\n",
    "[arn] \tReturns a match where one of the specified characters (a, r, or n) is present \t\n",
    "[a-n] \tReturns a match for any lower case character, alphabetically between a and n \t\n",
    "[^arn] \tReturns a match for any character EXCEPT a, r, and n \t\n",
    "[0123] \tReturns a match where any of the specified digits (0, 1, 2, or 3) are present \t\n",
    "[0-9] \tReturns a match for any digit between 0 and 9 \t\n",
    "[0-5][0-9] \tReturns a match for any two-digit numbers from 00 and 59 \t\n",
    "[a-zA-Z] \tReturns a match for any character alphabetically between a and z, lower case OR upper case \t\n",
    "[+] \tIn sets, +, *, ., |, (), $,{} has no special meaning, so [+] means: return a match for any + character in the string\n",
    "\n",
    "```"
   ]
  },
  {
   "cell_type": "markdown",
   "metadata": {},
   "source": []
  },
  {
   "cell_type": "code",
   "execution_count": 84,
   "metadata": {},
   "outputs": [
    {
     "name": "stdout",
     "output_type": "stream",
     "text": [
      "['The']\n",
      "['rain']\n",
      "['ain', 'ain']\n",
      "[]\n",
      "['ain']\n"
     ]
    }
   ],
   "source": [
    "txt = \"The rain in Spain\"\n",
    "\n",
    "#Check if the string starts with \"The\":\n",
    "x = re.findall(r\"\\AThe\", txt) #the r avoids Python yelling\n",
    "print(x)\n",
    "\n",
    "#\\b checks of string present at BEGINNING of a WORD\n",
    "#e.g. Check if \"rain\" is present at the beginning of a WORD:\n",
    "x=re.findall(r\"\\brain\",txt)\n",
    "print(x)\n",
    "\n",
    "#\\B \tReturns a match where the specified characters are present, but NOT at the beginning  of a word\n",
    "x=re.findall(r\"\\Bain\",txt)\n",
    "print(x) #rain and Spain\n",
    "\n",
    "#or at the end\n",
    "x=re.findall(r\"ain\\B\",txt)\n",
    "print(x) #no instance\n",
    "\n",
    "txt2=\"aint no mountain high enough\"\n",
    "x2=re.findall(r\"ain\\B\",txt2)\n",
    "print(x2) #aint"
   ]
  },
  {
   "cell_type": "code",
   "execution_count": 96,
   "metadata": {},
   "outputs": [
    {
     "name": "stdout",
     "output_type": "stream",
     "text": [
      "['8', '6', '7', '5', '3', '0', '9']\n",
      "['J', 'e', 'n', 'n', 'y', \"'\", 's', ' ', 'n', 'u', 'm', 'b', 'e', 'r', ' ', 'i', 's', ' ']\n",
      "[' ', ' ', ' ']\n",
      "['J', 'e', 'n', 'n', 'y', \"'\", 's', 'n', 'u', 'm', 'b', 'e', 'r', 'i', 's', '8', '6', '7', '5', '3', '0', '9']\n",
      "['J', 'e', 'n', 'n', 'y', 's', 'n', 'u', 'm', 'b', 'e', 'r', 'i', 's', '8', '6', '7', '5', '3', '0', '9']\n",
      "[\"'\", ' ', ' ', ' ']\n",
      "[]\n"
     ]
    }
   ],
   "source": [
    "#another set of examples\n",
    "eightiessong = \"Jenny's number is 8675309\"\n",
    "x = re.findall(r\"\\d\", eightiessong) #Returns a match where the string contains digits\n",
    "print(x)\n",
    "\n",
    "x = re.findall(r\"\\D\", eightiessong) #Returns a match where the string does not contain digits\n",
    "print(x)\n",
    "\n",
    "x=re.findall(r\"\\s\",eightiessong) #Returns a match where the string contains blank space \n",
    "print(x)\n",
    "\n",
    "x=re.findall(r\"\\S\",eightiessong) #... no blank space\n",
    "print(x)\n",
    "\n",
    "x=re.findall(r\"\\w\",eightiessong) #... contains any word characters\n",
    "print(x)\n",
    "\n",
    "x=re.findall(r\"\\W\",eightiessong) #... does NOT contain word characters\n",
    "print(x)\n",
    "\n",
    "x=re.findall(r\"number\\Z\",eightiessong) #... if specified character is at end of string\n",
    "print(x) #it's not at the END of the string so Python returns an empty list\n"
   ]
  },
  {
   "cell_type": "code",
   "execution_count": null,
   "metadata": {},
   "outputs": [],
   "source": []
  }
 ],
 "metadata": {
  "kernelspec": {
   "display_name": "Python 3 (ipykernel)",
   "language": "python",
   "name": "python3"
  },
  "language_info": {
   "codemirror_mode": {
    "name": "ipython",
    "version": 3
   },
   "file_extension": ".py",
   "mimetype": "text/x-python",
   "name": "python",
   "nbconvert_exporter": "python",
   "pygments_lexer": "ipython3",
   "version": "3.12.4"
  }
 },
 "nbformat": 4,
 "nbformat_minor": 4
}
