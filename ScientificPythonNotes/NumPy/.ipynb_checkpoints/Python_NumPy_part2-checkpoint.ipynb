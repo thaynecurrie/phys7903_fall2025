{
 "cells": [
  {
   "cell_type": "markdown",
   "metadata": {},
   "source": [
    "# _Python for Scientific Data Analysis_\n",
    "\n",
    "# NumPy/SciPy\n",
    "\n",
    "## Section 2: Array Arithmetic and Universal Functions\n",
    "(note: parts of this section are not displaying well on Github: check the Markdown file version)"
   ]
  },
  {
   "cell_type": "markdown",
   "metadata": {},
   "source": [
    "### Arithmetic\n",
    "\n",
    "As stated in the previous section, arrays are important because they enable you to express batch operations on data\n",
    "without writing any for loops. I.e. they allow for _vectorization_ which will almost always be faster than looping.    Any arithmetic operations between equal-size arrays applies the operation element-wise.\n",
    "\n",
    "Beyond the simple example given before, here are some examples of array arithmetic:"
   ]
  },
  {
   "cell_type": "code",
   "execution_count": 2,
   "metadata": {},
   "outputs": [
    {
     "name": "stdout",
     "output_type": "stream",
     "text": [
      "(2, 3)\n"
     ]
    }
   ],
   "source": [
    "import numpy as np\n",
    "\n",
    "arr = np.array([[1., 2., 3.], [4., 5., 6.]])\n",
    "\n",
    "arr\n",
    "\n",
    "#array([[ 1., 2., 3.],\n",
    "#[ 4., 5., 6.]])\n",
    "print(arr.shape)"
   ]
  },
  {
   "cell_type": "code",
   "execution_count": 3,
   "metadata": {},
   "outputs": [
    {
     "data": {
      "text/plain": [
       "array([[ 1.,  4.,  9.],\n",
       "       [16., 25., 36.]])"
      ]
     },
     "execution_count": 3,
     "metadata": {},
     "output_type": "execute_result"
    }
   ],
   "source": [
    "arr * arr\n",
    "#array([[ 1., 4., 9.],\n",
    "#[ 16., 25., 36.]])"
   ]
  },
  {
   "cell_type": "code",
   "execution_count": 4,
   "metadata": {},
   "outputs": [
    {
     "data": {
      "text/plain": [
       "array([[0., 0., 0.],\n",
       "       [0., 0., 0.]])"
      ]
     },
     "execution_count": 4,
     "metadata": {},
     "output_type": "execute_result"
    }
   ],
   "source": [
    "arr - arr\n",
    "#array([[ 0., 0., 0.],\n",
    "#[ 0., 0., 0.]])"
   ]
  },
  {
   "cell_type": "markdown",
   "metadata": {},
   "source": [
    "Arithmetic operations with scalars propagate the scalar argument to each element in\n",
    "the array:"
   ]
  },
  {
   "cell_type": "code",
   "execution_count": 6,
   "metadata": {},
   "outputs": [
    {
     "data": {
      "text/plain": [
       "array([[1.        , 0.5       , 0.33333333],\n",
       "       [0.25      , 0.2       , 0.16666667]])"
      ]
     },
     "execution_count": 6,
     "metadata": {},
     "output_type": "execute_result"
    }
   ],
   "source": [
    "\n",
    "1 / arr\n",
    "\n",
    "#array([[ 1. , 0.5 , 0.3333],\n",
    "#[ 0.25 , 0.2 , 0.1667]])"
   ]
  },
  {
   "cell_type": "code",
   "execution_count": 7,
   "metadata": {},
   "outputs": [
    {
     "data": {
      "text/plain": [
       "array([[1.        , 1.41421356, 1.73205081],\n",
       "       [2.        , 2.23606798, 2.44948974]])"
      ]
     },
     "execution_count": 7,
     "metadata": {},
     "output_type": "execute_result"
    }
   ],
   "source": [
    "arr ** 0.5\n",
    "\n",
    "#array([[ 1. , 1.4142, 1.7321],\n",
    "#[ 2. , 2.2361, 2.4495]])\n"
   ]
  },
  {
   "cell_type": "markdown",
   "metadata": {},
   "source": [
    "Comparisons between arrays of the same size yield boolean arrays:"
   ]
  },
  {
   "cell_type": "code",
   "execution_count": 6,
   "metadata": {},
   "outputs": [
    {
     "data": {
      "text/plain": [
       "array([[ 0.,  4.,  1.],\n",
       "       [ 7.,  2., 12.]])"
      ]
     },
     "execution_count": 6,
     "metadata": {},
     "output_type": "execute_result"
    }
   ],
   "source": [
    "arr2 = np.array([[0., 4., 1.], [7., 2., 12.]])\n",
    "arr2"
   ]
  },
  {
   "cell_type": "code",
   "execution_count": 8,
   "metadata": {},
   "outputs": [
    {
     "name": "stdout",
     "output_type": "stream",
     "text": [
      "[[False  True False]\n",
      " [ True False  True]]\n"
     ]
    }
   ],
   "source": [
    "arr2 > arr\n",
    "#array([[False, True, False],\n",
    "#[ True, False, True]], dtype=bool)\n",
    "\n",
    "arr3=arr2 > arr\n",
    "print(arr3)"
   ]
  },
  {
   "cell_type": "markdown",
   "metadata": {},
   "source": [
    "Operations between arrays of different sizes is called _broadcasting_: we will discuss that later.\n",
    "\n",
    "### Universal and Other Key Functions\n",
    "\n",
    "First, there are _aggregate_ functions that perform an operation on a set of values and produce a single result.   Generally, these are self-explanatory but we give details below.\n",
    "\n",
    "They are called by ``np.[functionname]``.  e.g. if an array is ``np.array([3,4,5,6])`` then we can compute the mean value by``np.mean(a)``.\n",
    "\n",
    "| Function| Description |\n",
    "| -------| ----------- | \n",
    "|sum|\tReturns the sum of array elements over a given axis.\n",
    "|prod|\tReturns the product of array elements over a given axis.\n",
    "|mean|\tComputes the arithmetic mean along the specified axis.\n",
    "|median|\tComputes the median along the specified axis.\n",
    "|std|\tComputes the standard deviation along the specified axis.\n",
    "|var|\tComputes the variance along the specified axis.\n",
    "|min|\tReturns the indices of the minimum values along an axis.\n",
    "|max|\tReturns the indices of the maximum values along an axis.\n",
    "|all|\tChecks if all array elements along a given axis evaluate to True.\n",
    "|any|\tChecks if any array element along a given axis evaluates to True.\n",
    "|cumsum|\tReturns the cumulative sum of the elements along a given axis.\n",
    "|cumprod|\tReturns the cumulative product of the elements along a given axis.\n",
    "\n",
    "NumPy contains _universal functions_ that perform vectorized operations on NumPy arrays. \n",
    "\n",
    "_unary_ universal functions perform element-wise transformations and are called as ``np.functionname(array)``.  E.g. ``np.exp(array)``, ``np.sqrt(array)``, ``np.floor(array)``.   Here are some examples:\n",
    "\n",
    "| Function| Description |\n",
    "| -------| ----------- | \n",
    "|abs, fabs | Compute the absolute value element-wise for integer, floating-point, or complex values\n",
    "|sqrt |Compute the square root of each element (equivalent to arr ** 0.5)\n",
    "|square |Compute the square of each element (equivalent to arr ** 2)\n",
    "|exp |Compute the exponent ex of each element\n",
    "|log, log10,log2, log1p |Natural logarithm (base e), log base 10, log base 2, and log(1 + x), respectively\n",
    "|sign |Compute the sign of each element: 1 (positive), 0 (zero), or â€“1 (negative)\n",
    "|ceil |Compute the ceiling of each element (i.e., smallest integer greater than or equal to that number)\n",
    "|floor | Compute the floor of each element (i.e., the largest integer less than or equal to each element)\n",
    "|rint |Round elements to the nearest integer, preserving the dtype\n",
    "|modf |Return fractional and integral parts of array as a separate array\n",
    "|isnan |Return boolean array indicating whether each value is NaN (Not a Number)\n",
    "|isfinite, isinf |Return boolean array indicating whether whether each element is finite (non-inf, non-NaN) or infinite,respectively\n",
    "|cos, cosh, sin,sinh, tan, tanh |Regular and hyperbolic trigonometric functions\n",
    "|arccos, arccosh,arcsin, arcsinh,arctan, arctanh | Inverse trigonometric functions\n",
    "|logical_not | Compute truth value of not x element-wise (equivalent to ~arr).\n",
    "\n",
    "_binary_ universal functions two two arrays and return a single array as a result.  They are called as ``np.functionname(array1,array2)``.  Here are some examples:\n",
    "\n",
    "| Function| Description |\n",
    "| -------| ----------- | \n",
    "|add |Add corresponding elements in arrays\n",
    "|subtract |Subtract elements in second array from first array\n",
    "|multiply| Multiply array elements\n",
    "|divide, floor_divide |Divide or floor divide (truncating the remainder)\n",
    "|power |Raise elements in first array to powers indicated in second array\n",
    "|maximum, fmax |Element-wise maximum; fmax ignores NaN\n",
    "|minimum, fmin |Element-wise minimum; fmin ignores NaN\n",
    "|mod |Element-wise modulus (remainder of division)\n",
    "|copysign |Copy sign of values in second argument to values in first argument\n",
    "|greater, greater\\_equal,less, less\\_equal,equal, not_equal|Perform element-wise comparison, yielding boolean array (equivalent to infix operators >, >=, <, <=, ==, !=)\n",
    "|logical\\_and,logical\\_or, logical\\_xor|Compute element-wise truth value of logical operation (equivalent to infix operators & |, ^)\n",
    "\n",
    "Some ufuncs can return multiple arrays -- e.g. ``np.modf`` which returns the fractional and integral parts of a floating point array.   But these are uncommon.\n"
   ]
  },
  {
   "cell_type": "code",
   "execution_count": null,
   "metadata": {},
   "outputs": [],
   "source": []
  }
 ],
 "metadata": {
  "kernelspec": {
   "display_name": "Python 3 (ipykernel)",
   "language": "python",
   "name": "python3"
  },
  "language_info": {
   "codemirror_mode": {
    "name": "ipython",
    "version": 3
   },
   "file_extension": ".py",
   "mimetype": "text/x-python",
   "name": "python",
   "nbconvert_exporter": "python",
   "pygments_lexer": "ipython3",
   "version": "3.12.4"
  }
 },
 "nbformat": 4,
 "nbformat_minor": 4
}
