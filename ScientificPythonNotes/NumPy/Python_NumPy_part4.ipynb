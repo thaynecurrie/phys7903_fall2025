{
 "cells": [
  {
   "cell_type": "markdown",
   "metadata": {},
   "source": [
    "# _Python for Scientific Data Analysis_\n",
    "\n",
    "# NumPy/SciPy\n",
    "\n",
    "## Section 4: More Array Operations: Concatenating, Stacking and Splitting, Repeating, and Meshgrid; Array Broadcasting\n",
    "\n",
    "### Concatenation \n",
    "\n",
    "#### _concatenating vectors and matrices_ \n",
    "\n",
    "NumPy allows a fairly straightforward way to concatenate arrays with the ``np.concatenate`` function.   The function accepts a list of arrays (i.e. enclosed by [ ]). Here's an example:"
   ]
  },
  {
   "cell_type": "code",
   "execution_count": 1,
   "metadata": {},
   "outputs": [],
   "source": [
    "import numpy as np"
   ]
  },
  {
   "cell_type": "code",
   "execution_count": 2,
   "metadata": {},
   "outputs": [
    {
     "name": "stdout",
     "output_type": "stream",
     "text": [
      "[[ 0.91419532 -1.12991015  0.27137995 -0.03532943]\n",
      " [ 0.17294762 -0.10380143  1.20117938 -1.97013815]\n",
      " [ 0.14314371  0.84651585  0.64002546 -0.61801732]\n",
      " [-1.84278932 -0.92922423  0.52820531 -0.62295754]\n",
      " [-0.67360529  0.43831893  0.56053548 -0.29168368]]\n",
      "\n",
      "(5, 4)\n"
     ]
    }
   ],
   "source": [
    "arr = np.random.randn(5, 4)\n",
    "print(arr)\n",
    "print('')\n",
    "print(arr.shape)"
   ]
  },
  {
   "cell_type": "code",
   "execution_count": 3,
   "metadata": {},
   "outputs": [
    {
     "name": "stdout",
     "output_type": "stream",
     "text": [
      "[[ 0.87014581 -1.15137073  0.24986993 -0.0107928 ]\n",
      " [ 0.12368277 -0.09244631  1.13469908 -1.82721004]\n",
      " [ 0.11803587  0.81064621  0.56151291 -0.76892583]\n",
      " [-1.83484653 -0.93498655  0.37631004 -0.64075553]\n",
      " [-0.82398499  0.40272898  0.59572897 -0.32350704]]\n",
      "(5, 4)\n"
     ]
    }
   ],
   "source": [
    "arr2=arr+np.random.randn(arr.shape[0],arr.shape[1])*0.1  #create another array that is just slightly different from the first one\n",
    "\n",
    "print(arr2)\n",
    "print(arr2.shape)"
   ]
  },
  {
   "cell_type": "code",
   "execution_count": 4,
   "metadata": {},
   "outputs": [
    {
     "name": "stdout",
     "output_type": "stream",
     "text": [
      "\n",
      "[[ 0.91419532 -1.12991015  0.27137995 -0.03532943]\n",
      " [ 0.17294762 -0.10380143  1.20117938 -1.97013815]\n",
      " [ 0.14314371  0.84651585  0.64002546 -0.61801732]\n",
      " [-1.84278932 -0.92922423  0.52820531 -0.62295754]\n",
      " [-0.67360529  0.43831893  0.56053548 -0.29168368]\n",
      " [ 0.87014581 -1.15137073  0.24986993 -0.0107928 ]\n",
      " [ 0.12368277 -0.09244631  1.13469908 -1.82721004]\n",
      " [ 0.11803587  0.81064621  0.56151291 -0.76892583]\n",
      " [-1.83484653 -0.93498655  0.37631004 -0.64075553]\n",
      " [-0.82398499  0.40272898  0.59572897 -0.32350704]]\n",
      "(5, 4) (10, 4)\n"
     ]
    }
   ],
   "source": [
    "print('')\n",
    "arr3=np.concatenate([arr,arr2])\n",
    "\n",
    "print(arr3)\n",
    "\n",
    "print(arr2.shape, arr3.shape)"
   ]
  },
  {
   "cell_type": "markdown",
   "metadata": {},
   "source": [
    "Note that the ``shape`` of the two input arrays  -- ``arr`` and ``arr2`` -- are each (5,4).   And the shape of the concatenated array is (10,4) (ten rows and four columns).  Now we can invoke the ``axis`` keyword to control _how_ these arrays are concatenated.  I.e. "
   ]
  },
  {
   "cell_type": "code",
   "execution_count": 5,
   "metadata": {},
   "outputs": [
    {
     "name": "stdout",
     "output_type": "stream",
     "text": [
      "[[ 0.91419532 -1.12991015  0.27137995 -0.03532943  0.87014581 -1.15137073\n",
      "   0.24986993 -0.0107928 ]\n",
      " [ 0.17294762 -0.10380143  1.20117938 -1.97013815  0.12368277 -0.09244631\n",
      "   1.13469908 -1.82721004]\n",
      " [ 0.14314371  0.84651585  0.64002546 -0.61801732  0.11803587  0.81064621\n",
      "   0.56151291 -0.76892583]\n",
      " [-1.84278932 -0.92922423  0.52820531 -0.62295754 -1.83484653 -0.93498655\n",
      "   0.37631004 -0.64075553]\n",
      " [-0.67360529  0.43831893  0.56053548 -0.29168368 -0.82398499  0.40272898\n",
      "   0.59572897 -0.32350704]]\n",
      "(5, 8)\n",
      "\n",
      "[[ 0.91419532 -1.12991015  0.27137995 -0.03532943]\n",
      " [ 0.17294762 -0.10380143  1.20117938 -1.97013815]\n",
      " [ 0.14314371  0.84651585  0.64002546 -0.61801732]\n",
      " [-1.84278932 -0.92922423  0.52820531 -0.62295754]\n",
      " [-0.67360529  0.43831893  0.56053548 -0.29168368]\n",
      " [ 0.87014581 -1.15137073  0.24986993 -0.0107928 ]\n",
      " [ 0.12368277 -0.09244631  1.13469908 -1.82721004]\n",
      " [ 0.11803587  0.81064621  0.56151291 -0.76892583]\n",
      " [-1.83484653 -0.93498655  0.37631004 -0.64075553]\n",
      " [-0.82398499  0.40272898  0.59572897 -0.32350704]]\n",
      "(10, 4)\n"
     ]
    }
   ],
   "source": [
    "\n",
    "arr4=np.concatenate([arr,arr2],axis=1)\n",
    "\n",
    "print(arr4)\n",
    "\n",
    "print(arr4.shape)\n",
    "\n",
    "print('')\n",
    "arr4b=np.concatenate([arr,arr2],axis=0) #same as original example\n",
    "\n",
    "print(arr4b)\n",
    "\n",
    "print(arr4b.shape)"
   ]
  },
  {
   "cell_type": "markdown",
   "metadata": {},
   "source": [
    "This yields an array ``arr4`` with a shape of (5,8) (i.e now we have five rows and eight columns) and ``arr4b`` which was our original example."
   ]
  },
  {
   "cell_type": "markdown",
   "metadata": {},
   "source": [
    "### Stacking and Splitting\n",
    "\n",
    "#### _array stacking_\n",
    "\n",
    "In the previous sections you found how you can create NumPy arrays as 1-D vectors and then reshape these 1-D vectors into 2-D arrays (matrices).   And you also saw how to combine arrays together via concatenation.   Now if, for whatever reason, you just are philosophically opposed to concatenation never fear: there is another NumPy operation at your disposal: _stacking_.   There are a couple of ways to stack arrays.\n",
    "\n",
    "* _hstack_ - stacks arrays horizontally\n",
    "* _vstack_ - stacks arrays vertically\n",
    "* _columnstack_ stacks vectors in columns\n",
    "\n",
    "A simple example:"
   ]
  },
  {
   "cell_type": "code",
   "execution_count": 6,
   "metadata": {},
   "outputs": [
    {
     "name": "stdout",
     "output_type": "stream",
     "text": [
      "(5,) (5,)\n"
     ]
    }
   ],
   "source": [
    "newarr=np.array([1,2,3,4,5])\n",
    "newarr2=np.array([6,7,8,9,10])\n",
    "print(newarr.shape,newarr2.shape)"
   ]
  },
  {
   "cell_type": "code",
   "execution_count": 7,
   "metadata": {},
   "outputs": [
    {
     "name": "stdout",
     "output_type": "stream",
     "text": [
      "[[ 1  2  3  4  5]\n",
      " [ 6  7  8  9 10]]\n",
      "(2, 5)\n"
     ]
    }
   ],
   "source": [
    "np.vstack([newarr,newarr2])\n",
    "result=np.vstack([newarr,newarr2])\n",
    "print(result)\n",
    "print(result.shape)"
   ]
  },
  {
   "cell_type": "code",
   "execution_count": 8,
   "metadata": {},
   "outputs": [
    {
     "name": "stdout",
     "output_type": "stream",
     "text": [
      "[ 1  2  3  4  5  6  7  8  9 10]\n",
      "(10,)\n"
     ]
    }
   ],
   "source": [
    "np.hstack([newarr,newarr2])\n",
    "result=np.hstack([newarr,newarr2])\n",
    "print(result)\n",
    "print(result.shape)"
   ]
  },
  {
   "cell_type": "code",
   "execution_count": 9,
   "metadata": {},
   "outputs": [
    {
     "name": "stdout",
     "output_type": "stream",
     "text": [
      "[[ 1  6]\n",
      " [ 2  7]\n",
      " [ 3  8]\n",
      " [ 4  9]\n",
      " [ 5 10]]\n",
      "(5, 2)\n"
     ]
    }
   ],
   "source": [
    "np.column_stack([newarr,newarr2])\n",
    "result_colstack=np.column_stack([newarr,newarr2])\n",
    "print(result_colstack)\n",
    "print(result_colstack.shape)"
   ]
  },
  {
   "cell_type": "markdown",
   "metadata": {},
   "source": [
    "A slightly more involved example with a matrix instead of a 1-D vector."
   ]
  },
  {
   "cell_type": "code",
   "execution_count": 10,
   "metadata": {},
   "outputs": [
    {
     "name": "stdout",
     "output_type": "stream",
     "text": [
      "[[ 0.91419532 -1.12991015  0.27137995 -0.03532943]\n",
      " [ 0.17294762 -0.10380143  1.20117938 -1.97013815]\n",
      " [ 0.14314371  0.84651585  0.64002546 -0.61801732]\n",
      " [-1.84278932 -0.92922423  0.52820531 -0.62295754]\n",
      " [-0.67360529  0.43831893  0.56053548 -0.29168368]\n",
      " [ 0.87014581 -1.15137073  0.24986993 -0.0107928 ]\n",
      " [ 0.12368277 -0.09244631  1.13469908 -1.82721004]\n",
      " [ 0.11803587  0.81064621  0.56151291 -0.76892583]\n",
      " [-1.83484653 -0.93498655  0.37631004 -0.64075553]\n",
      " [-0.82398499  0.40272898  0.59572897 -0.32350704]]\n",
      "(10, 4)\n"
     ]
    }
   ],
   "source": [
    "arr5=np.vstack([arr,arr2])\n",
    "print(arr5)\n",
    "print(arr5.shape)"
   ]
  },
  {
   "cell_type": "code",
   "execution_count": 11,
   "metadata": {},
   "outputs": [
    {
     "name": "stdout",
     "output_type": "stream",
     "text": [
      "[[ 0.91419532 -1.12991015  0.27137995 -0.03532943  0.87014581 -1.15137073\n",
      "   0.24986993 -0.0107928 ]\n",
      " [ 0.17294762 -0.10380143  1.20117938 -1.97013815  0.12368277 -0.09244631\n",
      "   1.13469908 -1.82721004]\n",
      " [ 0.14314371  0.84651585  0.64002546 -0.61801732  0.11803587  0.81064621\n",
      "   0.56151291 -0.76892583]\n",
      " [-1.84278932 -0.92922423  0.52820531 -0.62295754 -1.83484653 -0.93498655\n",
      "   0.37631004 -0.64075553]\n",
      " [-0.67360529  0.43831893  0.56053548 -0.29168368 -0.82398499  0.40272898\n",
      "   0.59572897 -0.32350704]]\n",
      "(5, 4) (5, 4) (5, 8)\n"
     ]
    }
   ],
   "source": [
    "      \n",
    "arr6=np.hstack([arr,arr2])\n",
    "print(arr6)\n",
    "print(arr.shape,arr2.shape,arr6.shape)"
   ]
  },
  {
   "cell_type": "markdown",
   "metadata": {},
   "source": [
    "\n",
    "You'll notice that in these cases the resulting arrays ``arr5`` and ``arr6`` are identical to ``arr3`` and ``arr4``, respectively."
   ]
  },
  {
   "cell_type": "code",
   "execution_count": 12,
   "metadata": {},
   "outputs": [
    {
     "name": "stdout",
     "output_type": "stream",
     "text": [
      "[[0. 0. 0. 0.]\n",
      " [0. 0. 0. 0.]\n",
      " [0. 0. 0. 0.]\n",
      " [0. 0. 0. 0.]\n",
      " [0. 0. 0. 0.]\n",
      " [0. 0. 0. 0.]\n",
      " [0. 0. 0. 0.]\n",
      " [0. 0. 0. 0.]\n",
      " [0. 0. 0. 0.]\n",
      " [0. 0. 0. 0.]]\n",
      "[[0. 0. 0. 0. 0. 0. 0. 0.]\n",
      " [0. 0. 0. 0. 0. 0. 0. 0.]\n",
      " [0. 0. 0. 0. 0. 0. 0. 0.]\n",
      " [0. 0. 0. 0. 0. 0. 0. 0.]\n",
      " [0. 0. 0. 0. 0. 0. 0. 0.]]\n"
     ]
    }
   ],
   "source": [
    "print(arr5-arr3)\n",
    "print(arr6-arr4)"
   ]
  },
  {
   "cell_type": "markdown",
   "metadata": {},
   "source": [
    "#### _array splitting_\n",
    "\n",
    "``split``  slices apart an array into multiple arrays along an axis .  For example, starting with ``arr3`` from before"
   ]
  },
  {
   "cell_type": "code",
   "execution_count": 13,
   "metadata": {},
   "outputs": [
    {
     "name": "stdout",
     "output_type": "stream",
     "text": [
      "[[ 0.91419532 -1.12991015  0.27137995 -0.03532943]\n",
      " [ 0.17294762 -0.10380143  1.20117938 -1.97013815]\n",
      " [ 0.14314371  0.84651585  0.64002546 -0.61801732]\n",
      " [-1.84278932 -0.92922423  0.52820531 -0.62295754]\n",
      " [-0.67360529  0.43831893  0.56053548 -0.29168368]\n",
      " [ 0.87014581 -1.15137073  0.24986993 -0.0107928 ]\n",
      " [ 0.12368277 -0.09244631  1.13469908 -1.82721004]\n",
      " [ 0.11803587  0.81064621  0.56151291 -0.76892583]\n",
      " [-1.83484653 -0.93498655  0.37631004 -0.64075553]\n",
      " [-0.82398499  0.40272898  0.59572897 -0.32350704]]\n",
      "\n"
     ]
    }
   ],
   "source": [
    "print(arr3)\n",
    "       \n",
    "print('')"
   ]
  },
  {
   "cell_type": "code",
   "execution_count": 14,
   "metadata": {},
   "outputs": [
    {
     "name": "stdout",
     "output_type": "stream",
     "text": [
      "[[ 0.91419532 -1.12991015  0.27137995 -0.03532943]]\n",
      "\n",
      "[[ 0.17294762 -0.10380143  1.20117938 -1.97013815]\n",
      " [ 0.14314371  0.84651585  0.64002546 -0.61801732]\n",
      " [-1.84278932 -0.92922423  0.52820531 -0.62295754]\n",
      " [-0.67360529  0.43831893  0.56053548 -0.29168368]\n",
      " [ 0.87014581 -1.15137073  0.24986993 -0.0107928 ]\n",
      " [ 0.12368277 -0.09244631  1.13469908 -1.82721004]\n",
      " [ 0.11803587  0.81064621  0.56151291 -0.76892583]\n",
      " [-1.83484653 -0.93498655  0.37631004 -0.64075553]\n",
      " [-0.82398499  0.40272898  0.59572897 -0.32350704]]\n",
      "(1, 4)\n",
      "(9, 4)\n"
     ]
    }
   ],
   "source": [
    "first,second=np.split(arr3,[1])\n",
    "\n",
    "print(first)\n",
    "\n",
    "print('')\n",
    "print(second)\n",
    "\n",
    "print(first.shape)\n",
    "print(second.shape)\n",
    "      "
   ]
  },
  {
   "cell_type": "code",
   "execution_count": 15,
   "metadata": {},
   "outputs": [
    {
     "name": "stdout",
     "output_type": "stream",
     "text": [
      "[[ 0.91419532 -1.12991015  0.27137995 -0.03532943]\n",
      " [ 0.17294762 -0.10380143  1.20117938 -1.97013815]\n",
      " [ 0.14314371  0.84651585  0.64002546 -0.61801732]\n",
      " [-1.84278932 -0.92922423  0.52820531 -0.62295754]\n",
      " [-0.67360529  0.43831893  0.56053548 -0.29168368]\n",
      " [ 0.87014581 -1.15137073  0.24986993 -0.0107928 ]\n",
      " [ 0.12368277 -0.09244631  1.13469908 -1.82721004]\n",
      " [ 0.11803587  0.81064621  0.56151291 -0.76892583]\n",
      " [-1.83484653 -0.93498655  0.37631004 -0.64075553]\n",
      " [-0.82398499  0.40272898  0.59572897 -0.32350704]]\n"
     ]
    }
   ],
   "source": [
    "print(arr3)\n",
    "#print('')"
   ]
  },
  {
   "cell_type": "code",
   "execution_count": 16,
   "metadata": {},
   "outputs": [],
   "source": [
    "first,second,third=np.split(arr3,[2,4])\n",
    "#first,second=np.split(arr3,[2,4])"
   ]
  },
  {
   "cell_type": "code",
   "execution_count": 17,
   "metadata": {},
   "outputs": [
    {
     "name": "stdout",
     "output_type": "stream",
     "text": [
      "[[ 0.91419532 -1.12991015  0.27137995 -0.03532943]\n",
      " [ 0.17294762 -0.10380143  1.20117938 -1.97013815]]\n",
      "\n",
      "[[ 0.14314371  0.84651585  0.64002546 -0.61801732]\n",
      " [-1.84278932 -0.92922423  0.52820531 -0.62295754]]\n",
      "\n",
      "[[-0.67360529  0.43831893  0.56053548 -0.29168368]\n",
      " [ 0.87014581 -1.15137073  0.24986993 -0.0107928 ]\n",
      " [ 0.12368277 -0.09244631  1.13469908 -1.82721004]\n",
      " [ 0.11803587  0.81064621  0.56151291 -0.76892583]\n",
      " [-1.83484653 -0.93498655  0.37631004 -0.64075553]\n",
      " [-0.82398499  0.40272898  0.59572897 -0.32350704]]\n",
      "\n",
      "[[ 0.91419532 -1.12991015  0.27137995 -0.03532943]\n",
      " [ 0.17294762 -0.10380143  1.20117938 -1.97013815]] [[ 0.14314371  0.84651585  0.64002546 -0.61801732]\n",
      " [-1.84278932 -0.92922423  0.52820531 -0.62295754]]\n",
      "(2, 4) (2, 4)\n"
     ]
    }
   ],
   "source": [
    "print(first)\n",
    "print('')\n",
    "print(second)\n",
    "print('')\n",
    "print(third)\n",
    "print('')\n",
    "       \n",
    "print(first,second)\n",
    "print(first.shape,second.shape)"
   ]
  },
  {
   "cell_type": "code",
   "execution_count": 18,
   "metadata": {},
   "outputs": [
    {
     "name": "stdout",
     "output_type": "stream",
     "text": [
      "the second is [array([[ 0.91419532],\n",
      "       [ 0.17294762],\n",
      "       [ 0.14314371],\n",
      "       [-1.84278932],\n",
      "       [-0.67360529],\n",
      "       [ 0.87014581],\n",
      "       [ 0.12368277],\n",
      "       [ 0.11803587],\n",
      "       [-1.83484653],\n",
      "       [-0.82398499]]), array([[-1.12991015,  0.27137995, -0.03532943],\n",
      "       [-0.10380143,  1.20117938, -1.97013815],\n",
      "       [ 0.84651585,  0.64002546, -0.61801732],\n",
      "       [-0.92922423,  0.52820531, -0.62295754],\n",
      "       [ 0.43831893,  0.56053548, -0.29168368],\n",
      "       [-1.15137073,  0.24986993, -0.0107928 ],\n",
      "       [-0.09244631,  1.13469908, -1.82721004],\n",
      "       [ 0.81064621,  0.56151291, -0.76892583],\n",
      "       [-0.93498655,  0.37631004, -0.64075553],\n",
      "       [ 0.40272898,  0.59572897, -0.32350704]])]\n",
      "<class 'numpy.ndarray'> <class 'numpy.ndarray'> <class 'list'>\n"
     ]
    }
   ],
   "source": [
    "secondv2=np.split(arr3,[1],axis=1)\n",
    "\n",
    "#print(first)\n",
    "#print('')\n",
    "print('the second is',secondv2)\n",
    "#print(first.shape,second.shape)\n",
    "print(type(first),type(second),type(secondv2)) #note this is tricky!)\n",
    "#print(arr3.shape)"
   ]
  },
  {
   "cell_type": "markdown",
   "metadata": {},
   "source": [
    "### Repeating Array Elements\n",
    "\n",
    "It's often useful to create an array that is a repeat or replication of another array some number of times.   E.g. IDL's replicate function does this for scalars: with some trickery you can make it work for vectors and arrays.   Python has stand-alone functions for exactly this purpose.\n",
    "\n",
    "Two useful tools for repeating or replicating arrays to produce larger arrays are the\n",
    "``repeat`` and ``tile`` functions. \n",
    "\n",
    "``repeat`` replicates each element in an array some number\n",
    "of times, producing a larger array.  E.g."
   ]
  },
  {
   "cell_type": "code",
   "execution_count": 19,
   "metadata": {},
   "outputs": [
    {
     "name": "stdout",
     "output_type": "stream",
     "text": [
      "[0 1 2]\n",
      "3\n"
     ]
    }
   ],
   "source": [
    "a=np.arange(3)\n",
    "#array([0,1,2])\n",
    "print(a)\n",
    "print(len(a))"
   ]
  },
  {
   "cell_type": "code",
   "execution_count": 20,
   "metadata": {},
   "outputs": [
    {
     "name": "stdout",
     "output_type": "stream",
     "text": [
      "[0 0 0 1 1 1 2 2 2]\n"
     ]
    },
    {
     "data": {
      "text/plain": [
       "9"
      ]
     },
     "execution_count": 20,
     "metadata": {},
     "output_type": "execute_result"
    }
   ],
   "source": [
    "print(a.repeat(3))\n",
    "#array([0, 0, 0, 1, 1, 1, 2, 2, 2])\n",
    "resultr=a.repeat(3)\n",
    "len(resultr)"
   ]
  },
  {
   "cell_type": "markdown",
   "metadata": {},
   "source": [
    "By default, if you pass an integer, each element will be repeated that number of times.\n",
    "If you pass an array of integers, each element can be repeated a different number of\n",
    "times:"
   ]
  },
  {
   "cell_type": "code",
   "execution_count": 21,
   "metadata": {},
   "outputs": [
    {
     "data": {
      "text/plain": [
       "array([0, 0, 1, 1, 1, 2, 2, 2, 2])"
      ]
     },
     "execution_count": 21,
     "metadata": {},
     "output_type": "execute_result"
    }
   ],
   "source": [
    "\n",
    "a.repeat([2,3,4])\n",
    "#array([0, 0, 1, 1, 1, 2, 2, 2, 2])\n"
   ]
  },
  {
   "cell_type": "markdown",
   "metadata": {},
   "source": [
    "Multidimensional arrays can have their elements repeated along a particular axis."
   ]
  },
  {
   "cell_type": "code",
   "execution_count": 28,
   "metadata": {},
   "outputs": [
    {
     "name": "stdout",
     "output_type": "stream",
     "text": [
      "[[-0.27941683  1.75847934]\n",
      " [-1.17544882 -0.26526276]]\n"
     ]
    },
    {
     "data": {
      "text/plain": [
       "(2, 2)"
      ]
     },
     "execution_count": 28,
     "metadata": {},
     "output_type": "execute_result"
    }
   ],
   "source": [
    "arr = np.random.randn(2, 2)\n",
    "print(arr)\n",
    "arr.shape\n"
   ]
  },
  {
   "cell_type": "code",
   "execution_count": 29,
   "metadata": {},
   "outputs": [
    {
     "name": "stdout",
     "output_type": "stream",
     "text": [
      "[[-0.27941683  1.75847934]\n",
      " [-0.27941683  1.75847934]\n",
      " [-1.17544882 -0.26526276]\n",
      " [-1.17544882 -0.26526276]]\n"
     ]
    }
   ],
   "source": [
    "print(arr.repeat(2,axis=0))\n"
   ]
  },
  {
   "cell_type": "code",
   "execution_count": 30,
   "metadata": {},
   "outputs": [
    {
     "data": {
      "text/plain": [
       "array([[-0.27941683, -0.27941683,  1.75847934,  1.75847934],\n",
       "       [-1.17544882, -1.17544882, -0.26526276, -0.26526276]])"
      ]
     },
     "execution_count": 30,
     "metadata": {},
     "output_type": "execute_result"
    }
   ],
   "source": [
    "     \n",
    "arr.repeat(2,axis=1)"
   ]
  },
  {
   "cell_type": "markdown",
   "metadata": {},
   "source": [
    "Note that if no axis is passed, the array will be flattened first, which is likely not what\n",
    "you want. Similarly, you can pass an array of integers when repeating a multidimensional\n",
    "array to repeat a given slice a different number of times:"
   ]
  },
  {
   "cell_type": "code",
   "execution_count": 31,
   "metadata": {},
   "outputs": [
    {
     "data": {
      "text/plain": [
       "array([[-0.27941683,  1.75847934],\n",
       "       [-0.27941683,  1.75847934],\n",
       "       [-0.27941683,  1.75847934],\n",
       "       [-1.17544882, -0.26526276],\n",
       "       [-1.17544882, -0.26526276]])"
      ]
     },
     "execution_count": 31,
     "metadata": {},
     "output_type": "execute_result"
    }
   ],
   "source": [
    "arr.repeat([3,2], axis=0)"
   ]
  },
  {
   "cell_type": "markdown",
   "metadata": {},
   "source": [
    "``tile`` is different. tile, on the other hand, is a shortcut for stacking copies of an array along an axis.\n",
    "Visually you can think of it as being akin to “laying down tiles”:"
   ]
  },
  {
   "cell_type": "code",
   "execution_count": 32,
   "metadata": {},
   "outputs": [
    {
     "name": "stdout",
     "output_type": "stream",
     "text": [
      "[[-0.27941683  1.75847934]\n",
      " [-1.17544882 -0.26526276]]\n"
     ]
    }
   ],
   "source": [
    "print(arr)\n",
    "       "
   ]
  },
  {
   "cell_type": "code",
   "execution_count": 33,
   "metadata": {},
   "outputs": [
    {
     "name": "stdout",
     "output_type": "stream",
     "text": [
      "[[-0.27941683  1.75847934 -0.27941683  1.75847934]\n",
      " [-1.17544882 -0.26526276 -1.17544882 -0.26526276]]\n"
     ]
    },
    {
     "data": {
      "text/plain": [
       "(2, 4)"
      ]
     },
     "execution_count": 33,
     "metadata": {},
     "output_type": "execute_result"
    }
   ],
   "source": [
    "np.tile(arr,2)\n",
    "result=np.tile(arr,2)\n",
    "print(result)\n",
    "result.shape"
   ]
  },
  {
   "cell_type": "markdown",
   "metadata": {},
   "source": [
    "The second argument is the number of tiles; with a scalar, the tiling is made row by\n",
    "row, rather than column by column. The second argument to tile can be a tuple\n",
    "indicating the layout of the “tiling”:"
   ]
  },
  {
   "cell_type": "code",
   "execution_count": 38,
   "metadata": {},
   "outputs": [
    {
     "name": "stdout",
     "output_type": "stream",
     "text": [
      "[[-0.27941683  1.75847934]\n",
      " [-1.17544882 -0.26526276]]\n",
      "\n",
      "[[-0.27941683  1.75847934]\n",
      " [-1.17544882 -0.26526276]\n",
      " [-0.27941683  1.75847934]\n",
      " [-1.17544882 -0.26526276]]\n",
      "\n",
      "[[-0.27941683  1.75847934 -0.27941683  1.75847934]\n",
      " [-1.17544882 -0.26526276 -1.17544882 -0.26526276]]\n",
      "\n",
      "[[-0.27941683  1.75847934 -0.27941683  1.75847934]\n",
      " [-1.17544882 -0.26526276 -1.17544882 -0.26526276]\n",
      " [-0.27941683  1.75847934 -0.27941683  1.75847934]\n",
      " [-1.17544882 -0.26526276 -1.17544882 -0.26526276]\n",
      " [-0.27941683  1.75847934 -0.27941683  1.75847934]\n",
      " [-1.17544882 -0.26526276 -1.17544882 -0.26526276]]\n",
      "difference  [[0. 0. 0. 0.]\n",
      " [0. 0. 0. 0.]]\n"
     ]
    }
   ],
   "source": [
    "print(arr)\n",
    "print('')\n",
    "\n",
    "print(np.tile(arr,(2,1)))\n",
    "\n",
    "print('')\n",
    "\n",
    "       \n",
    "print(np.tile(arr,(1,2)))\n",
    "\n",
    "print('')\n",
    "print(np.tile(arr,(3,2)))\n",
    "\n",
    "#some additional tests\n",
    "print('difference ',np.tile(arr,2)-np.tile(arr,(1,2))) #i.e. these two things are the same"
   ]
  },
  {
   "cell_type": "markdown",
   "metadata": {},
   "source": [
    "### Meshgrid\n",
    "\n",
    "NumPy arrays allow you to vectorize array expressions that might otherwise require writing loops (which Python is a lot slower at than C, Fortran, and Julia).   \n",
    "\n",
    "One example of this is the ``np.meshgrid`` function, which takes two one-dimensional arrays and produces two two-dimensional matrices corresponding to all pairs of (x,y) in the two arrays.  \n",
    "\n",
    "E.g."
   ]
  },
  {
   "cell_type": "code",
   "execution_count": 49,
   "metadata": {},
   "outputs": [
    {
     "name": "stdout",
     "output_type": "stream",
     "text": [
      "[-5.   -4.75 -4.5  -4.25 -4.   -3.75 -3.5  -3.25 -3.   -2.75 -2.5  -2.25\n",
      " -2.   -1.75 -1.5  -1.25 -1.   -0.75 -0.5  -0.25  0.    0.25  0.5   0.75\n",
      "  1.    1.25  1.5   1.75  2.    2.25  2.5   2.75  3.    3.25  3.5   3.75\n",
      "  4.    4.25  4.5   4.75]\n",
      "40\n"
     ]
    }
   ],
   "source": [
    "points=np.arange(-5,5,0.25)\n",
    "print(points)\n",
    "print(len(points))\n",
    "\n"
   ]
  },
  {
   "cell_type": "code",
   "execution_count": 51,
   "metadata": {},
   "outputs": [
    {
     "name": "stdout",
     "output_type": "stream",
     "text": [
      "40 (40, 40) (40, 40)\n"
     ]
    }
   ],
   "source": [
    "xs,ys= np.meshgrid(points,points) #returns a two-element list of NumPy arrays\n",
    "\n",
    "print(len(points),xs.shape,ys.shape)\n"
   ]
  },
  {
   "cell_type": "markdown",
   "metadata": {},
   "source": [
    "Here, both xs and ys are arrays of dimension(1000,1000).\n",
    "\n",
    "The use of ``meshgrid`` is that it allows an easy evaluation of functions of x and y (i.e. f(x,y))."
   ]
  },
  {
   "cell_type": "code",
   "execution_count": 121,
   "metadata": {},
   "outputs": [
    {
     "data": {
      "image/png": "[encoded data removed]",
      "text/plain": [
       "<Figure size 640x480 with 2 Axes>"
      ]
     },
     "metadata": {},
     "output_type": "display_data"
    }
   ],
   "source": [
    "#e.g. create a grid of distances from some center point\n",
    "\n",
    "#let's have a detector with a square array with dimensions of 400 by 400 pixels\n",
    "#set the pixel scale to be 0.01 milli-arcseconds per pixel\n",
    "\n",
    "points=np.arange(400)\n",
    "#set the pixel scale to some value\n",
    "pixscale=0.01\n",
    "\n",
    "xarr,yarr=np.meshgrid(points,points)\n",
    "\n",
    "#Ex. 1\n",
    "center=np.array( (len(points)//2,len(points)//2) ) #set the center to be at pixel 200,200 [indexed from 0]\n",
    "#OR\n",
    "#Ex. 2\n",
    "#offset=150\n",
    "#center=np.array( (len(points)//2-offset,len(points)//2) ) #set the center to be at pixel 100,200 [indexed from 0]\n",
    "\n",
    "#print(center) a diagnostic\n",
    "distance_from_center=np.sqrt( (xarr-center[0])**2 + (yarr-center[1])**2 )*pixscale \n",
    "\n",
    "##NOTE: in real images that you will read in for astronomy/planetary science -- i.e. from a fits file -- the dimensions are SWITCHED\n",
    "#i.e. image = f(y,x), not f(x,y)\n",
    "\n",
    "#now do a simple image display setup (we will discuss this later in the course)\n",
    "\n",
    "import matplotlib.pyplot as plt #importing the plotting library Matplotlib\n",
    "\n",
    "\n",
    "fig, ax = plt.subplots() #will explain later\n",
    "\n",
    "\n",
    " #define the extent manually: note, this is technically not needed \n",
    "extrange=list(np.array([np.min(xarr),np.max(xarr),np.min(yarr),np.max(yarr)]))\n",
    "\n",
    "darr=ax.imshow(distance_from_center,origin='lower',cmap='viridis',extent=extrange) #plotting an image, returning the result as an object\n",
    "#darr=ax.imshow(distance_from_center,origin='lower',cmap='viridis')\n",
    "\n",
    "#plot the image object intensity scale\n",
    "ax.set_xlabel('X Value')\n",
    "ax.set_ylabel('Y Value')\n",
    "fig.colorbar(darr,ax=ax,orientation='vertical',label='Distance from Center (arcseconds)')\n",
    "plt.show()\n"
   ]
  },
  {
   "cell_type": "markdown",
   "metadata": {},
   "source": [
    "### Array Broadcasting\n",
    "\n",
    "Broadcasting refers to how arithmetic works between NumPy arrays of different shapes.  E.g. a vector array and a scalar.  "
   ]
  },
  {
   "cell_type": "code",
   "execution_count": 135,
   "metadata": {},
   "outputs": [
    {
     "data": {
      "text/plain": [
       "array([ 0,  4,  8, 12, 16])"
      ]
     },
     "execution_count": 135,
     "metadata": {},
     "output_type": "execute_result"
    }
   ],
   "source": [
    "arr=np.arange(5)\n",
    "\n",
    "arr*4\n"
   ]
  },
  {
   "cell_type": "markdown",
   "metadata": {},
   "source": [
    "Here, the array ``arr`` is not repeated four times but instead each element of the array is multiplied by a scalar value of 4.   We say that four is _broadcast_ to all of the array elements.   \n",
    "\n",
    "For example, we can demean each column of an array by subtracting the column\n",
    "means. In this case, it is very simple:"
   ]
  },
  {
   "cell_type": "code",
   "execution_count": 136,
   "metadata": {},
   "outputs": [
    {
     "name": "stdout",
     "output_type": "stream",
     "text": [
      "[[-0.55075259  0.2942546   1.21468386]\n",
      " [ 0.75565717  1.34832144 -0.44158696]\n",
      " [-0.50261635 -0.77157997 -0.20184986]\n",
      " [ 0.43467822 -0.8845213   0.76781266]]\n",
      "\n"
     ]
    }
   ],
   "source": [
    "arr = np.random.randn(4, 3)\n",
    "print(arr)\n",
    "print('')"
   ]
  },
  {
   "cell_type": "code",
   "execution_count": 138,
   "metadata": {},
   "outputs": [
    {
     "name": "stdout",
     "output_type": "stream",
     "text": [
      "[ 0.03424162 -0.00338131  0.33476492]\n",
      "\n",
      "(3,)\n"
     ]
    }
   ],
   "source": [
    "\n",
    "print(np.mean(arr,axis=0))\n",
    "print('')\n",
    "\n",
    "print(np.mean(arr,axis=0).shape)"
   ]
  },
  {
   "cell_type": "code",
   "execution_count": 139,
   "metadata": {},
   "outputs": [
    {
     "name": "stdout",
     "output_type": "stream",
     "text": [
      "[[-0.5849942   0.29763591  0.87991894]\n",
      " [ 0.72141555  1.35170275 -0.77635188]\n",
      " [-0.53685796 -0.76819866 -0.53661479]\n",
      " [ 0.40043661 -0.88113999  0.43304773]]\n",
      "\n"
     ]
    }
   ],
   "source": [
    "\n",
    "demeaned=arr-np.mean(arr,axis=0)\n",
    "print(demeaned)\n",
    "print('')"
   ]
  },
  {
   "cell_type": "code",
   "execution_count": 144,
   "metadata": {},
   "outputs": [
    {
     "name": "stdout",
     "output_type": "stream",
     "text": [
      "[2.77555756e-17 2.77555756e-17 1.38777878e-17]\n"
     ]
    }
   ],
   "source": [
    "#or\n",
    "#print(demeaned.mean(0))\n",
    "print(np.mean(demeaned,axis=0))\n",
    "#array([-0., 0., -0.])"
   ]
  },
  {
   "cell_type": "markdown",
   "metadata": {},
   "source": [
    "Improper array broadcasting (or miscasting) is the source of many Python coding errors.   Which brings us to the broadcasting \"rule\":\n",
    "\n",
    "_**Two arrays are compatible for broadcasting if for each trailing dimension (i.e., starting\n",
    "from the end) the axis lengths match or if either of the lengths is 1. Broadcasting is\n",
    "then performed over the missing or length 1 dimensions.**_\n",
    "\n",
    "For example, for a (4,3) NumPy array and a (3,) array, the result is a (4,3) array where the (3,) array operates on each row of the first array.   For a (4,3) array and a (4,1) array, the result is a (4,3) array where the (4,1) array operates on every column.\n",
    "\n",
    "Note that if you ask Python to do an impossible broadcast, you will get an error that looks something like this:"
   ]
  },
  {
   "cell_type": "markdown",
   "metadata": {},
   "source": [
    "```\n",
    "row_means=arr.mean(1)\n",
    "arr-row_means\n",
    "Traceback (most recent call last):\n",
    "  File \"<stdin>\", line 1, in <module>\n",
    "ValueError: operands could not be broadcast together with shapes (4,3) (4,) \n",
    "```"
   ]
  },
  {
   "cell_type": "code",
   "execution_count": 148,
   "metadata": {},
   "outputs": [
    {
     "name": "stdout",
     "output_type": "stream",
     "text": [
      "[ 0.31939529  0.55413055 -0.49201539  0.10598986]\n",
      "(4,)\n"
     ]
    }
   ],
   "source": [
    "#row_means=arr.mean(1)\n",
    "row_means=np.mean(arr,axis=1)\n",
    "print(row_means)\n",
    "print(row_means.shape)\n",
    "#arr-row_means"
   ]
  },
  {
   "cell_type": "markdown",
   "metadata": {},
   "source": [
    "However, reshaping the array can avoid a broadcasting error:"
   ]
  },
  {
   "cell_type": "code",
   "execution_count": 151,
   "metadata": {},
   "outputs": [
    {
     "name": "stdout",
     "output_type": "stream",
     "text": [
      "[ 0.31939529  0.55413055 -0.49201539  0.10598986]\n",
      "(4,)\n"
     ]
    }
   ],
   "source": [
    "#ow_means=arr.mean(1)\n",
    "#arr-row_means\n",
    "row_means=np.mean(arr,axis=1)\n",
    "print(row_means)\n",
    "print(row_means.shape)"
   ]
  },
  {
   "cell_type": "code",
   "execution_count": 152,
   "metadata": {},
   "outputs": [
    {
     "name": "stdout",
     "output_type": "stream",
     "text": [
      "[[-0.55075259  0.2942546   1.21468386]\n",
      " [ 0.75565717  1.34832144 -0.44158696]\n",
      " [-0.50261635 -0.77157997 -0.20184986]\n",
      " [ 0.43467822 -0.8845213   0.76781266]]\n"
     ]
    },
    {
     "data": {
      "text/plain": [
       "array([[-0.87014788, -0.02514069,  0.89528857],\n",
       "       [ 0.20152662,  0.79419089, -0.99571751],\n",
       "       [-0.01060096, -0.27956457,  0.29016553],\n",
       "       [ 0.32868836, -0.99051116,  0.6618228 ]])"
      ]
     },
     "execution_count": 152,
     "metadata": {},
     "output_type": "execute_result"
    }
   ],
   "source": [
    "print(arr)\n",
    "arr-row_means.reshape(4,1)\n",
    "#arr-row_means"
   ]
  },
  {
   "cell_type": "markdown",
   "metadata": {},
   "source": [
    "A common problem, therefore, is needing to add a new axis with length 1 specifically\n",
    "for broadcasting purposes. Using reshape is one option, but inserting an axis\n",
    "requires constructing a tuple indicating the new shape. This can often be a tedious\n",
    "exercise. Thus, NumPy arrays offer a special syntax for inserting new axes by indexing.\n",
    "We use the special np.newaxis attribute along with “full” slices to insert the new\n",
    "axis:"
   ]
  },
  {
   "cell_type": "code",
   "execution_count": 153,
   "metadata": {},
   "outputs": [
    {
     "data": {
      "text/plain": [
       "(4, 1, 4)"
      ]
     },
     "execution_count": 153,
     "metadata": {},
     "output_type": "execute_result"
    }
   ],
   "source": [
    "\n",
    "arr=np.zeros((4,4))\n",
    "\n",
    "arr_3d=arr[:,np.newaxis,:]\n",
    "arr_3d.shape\n",
    "#(4,1,4)\n"
   ]
  },
  {
   "cell_type": "markdown",
   "metadata": {},
   "source": [
    "Another example:"
   ]
  },
  {
   "cell_type": "code",
   "execution_count": 157,
   "metadata": {},
   "outputs": [
    {
     "name": "stdout",
     "output_type": "stream",
     "text": [
      "[ 2.85197054 -0.55659879 -0.28577167]\n"
     ]
    }
   ],
   "source": [
    "arr_1d=np.random.normal(size=3)\n",
    "print(arr_1d)"
   ]
  },
  {
   "cell_type": "code",
   "execution_count": 158,
   "metadata": {},
   "outputs": [
    {
     "data": {
      "text/plain": [
       "array([[ 2.85197054],\n",
       "       [-0.55659879],\n",
       "       [-0.28577167]])"
      ]
     },
     "execution_count": 158,
     "metadata": {},
     "output_type": "execute_result"
    }
   ],
   "source": [
    "arr_1d[:,np.newaxis] #a column vector"
   ]
  },
  {
   "cell_type": "code",
   "execution_count": 159,
   "metadata": {},
   "outputs": [
    {
     "name": "stdout",
     "output_type": "stream",
     "text": [
      "(3,) (1, 3)\n"
     ]
    }
   ],
   "source": [
    "        \n",
    "arr_1d[np.newaxis,:] #a row vector\n",
    "\n",
    "print(arr_1d.shape,arr_1d[np.newaxis,:].shape)\n"
   ]
  },
  {
   "cell_type": "markdown",
   "metadata": {},
   "source": [
    "The same broadcasting rule governing arithmetic operations also applies to setting\n",
    "values via array indexing. In a simple case, we can do things like:"
   ]
  },
  {
   "cell_type": "code",
   "execution_count": 162,
   "metadata": {},
   "outputs": [
    {
     "name": "stdout",
     "output_type": "stream",
     "text": [
      "[[5. 5. 5.]\n",
      " [5. 5. 5.]\n",
      " [5. 5. 5.]\n",
      " [5. 5. 5.]]\n"
     ]
    }
   ],
   "source": [
    "\n",
    "arr = np.zeros((4, 3)) #4x3 matrix\n",
    "arr[:] = 5\n",
    "print(arr)\n",
    "\n"
   ]
  },
  {
   "cell_type": "markdown",
   "metadata": {},
   "source": [
    "However, if we had a one-dimensional array of values we wanted to set into the columns\n",
    "of the array, we can do that as long as the shape is compatible:"
   ]
  },
  {
   "cell_type": "code",
   "execution_count": 163,
   "metadata": {},
   "outputs": [
    {
     "name": "stdout",
     "output_type": "stream",
     "text": [
      "[ 1.28 -0.42  0.44  1.6 ]\n"
     ]
    }
   ],
   "source": [
    " col = np.array([1.28, -0.42, 0.44, 1.6])\n",
    " print(col)"
   ]
  },
  {
   "cell_type": "code",
   "execution_count": 164,
   "metadata": {},
   "outputs": [
    {
     "name": "stdout",
     "output_type": "stream",
     "text": [
      "[[ 1.28  1.28  1.28]\n",
      " [-0.42 -0.42 -0.42]\n",
      " [ 0.44  0.44  0.44]\n",
      " [ 1.6   1.6   1.6 ]]\n",
      "(4,) (4, 3)\n"
     ]
    }
   ],
   "source": [
    " arr[:] = col[:, np.newaxis]\n",
    " print(arr)\n",
    " print(col.shape,arr.shape)"
   ]
  },
  {
   "cell_type": "code",
   "execution_count": 165,
   "metadata": {},
   "outputs": [
    {
     "data": {
      "text/plain": [
       "array([[-1.37 , -1.37 , -1.37 ],\n",
       "       [ 0.509,  0.509,  0.509],\n",
       "       [ 0.44 ,  0.44 ,  0.44 ],\n",
       "       [ 1.6  ,  1.6  ,  1.6  ]])"
      ]
     },
     "execution_count": 165,
     "metadata": {},
     "output_type": "execute_result"
    }
   ],
   "source": [
    " arr[:2] = [[-1.37], [0.509]]\n",
    " arr\n",
    " #arr[:2] = [[-1.37, 0.509]]"
   ]
  },
  {
   "cell_type": "markdown",
   "metadata": {},
   "source": [
    " Note, though that ``arr[:2] = [[-1.37, 0.509]]`` triggers a broadcasting error.\n",
    " "
   ]
  },
  {
   "cell_type": "markdown",
   "metadata": {},
   "source": [
    "```\n",
    " Traceback (most recent call last):\n",
    "  File \"<stdin>\", line 1, in <module>\n",
    "ValueError: could not broadcast input array from shape (1,2) into shape (2,3)\n",
    "```"
   ]
  },
  {
   "cell_type": "code",
   "execution_count": null,
   "metadata": {},
   "outputs": [],
   "source": []
  }
 ],
 "metadata": {
  "kernelspec": {
   "display_name": "Python 3 (ipykernel)",
   "language": "python",
   "name": "python3"
  },
  "language_info": {
   "codemirror_mode": {
    "name": "ipython",
    "version": 3
   },
   "file_extension": ".py",
   "mimetype": "text/x-python",
   "name": "python",
   "nbconvert_exporter": "python",
   "pygments_lexer": "ipython3",
   "version": "3.12.4"
  }
 },
 "nbformat": 4,
 "nbformat_minor": 4
}
