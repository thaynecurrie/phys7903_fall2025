{
 "cells": [
  {
   "cell_type": "markdown",
   "metadata": {},
   "source": [
    "# _Python for Scientific Data Analysis_\n",
    "\n",
    "# NumPy/SciPy\n",
    "\n",
    "## Section 3: Array Slicing and Reshaping\n",
    "\n",
    "### Array Slicing\n",
    "\n",
    "#### _Basic Slicing and Caveats_\n",
    "\n",
    "We already covered array slicing in the **Data Structures** section.  But because this is so important, we will review what we said before.  We will also describe in more detail \"boolean slicing\".\n",
    "\n",
    "Let's start with a NumPy array created from one of the functions described in the previous section: "
   ]
  },
  {
   "cell_type": "code",
   "execution_count": 2,
   "metadata": {},
   "outputs": [
    {
     "data": {
      "text/plain": [
       "array([0, 1, 2, 3, 4, 5, 6, 7, 8, 9])"
      ]
     },
     "execution_count": 2,
     "metadata": {},
     "output_type": "execute_result"
    }
   ],
   "source": [
    "import numpy as np\n",
    "\n",
    "a = np.arange(10)\n",
    "\n",
    "a"
   ]
  },
  {
   "cell_type": "markdown",
   "metadata": {},
   "source": [
    "This equals ``array([0, 1, 2, 3, 4, 5, 6, 7, 8, 9])``.  \n",
    "\n",
    "And do some slicing.  "
   ]
  },
  {
   "cell_type": "code",
   "execution_count": 3,
   "metadata": {},
   "outputs": [
    {
     "name": "stdout",
     "output_type": "stream",
     "text": [
      "4\n",
      "[3 4 5 6]\n"
     ]
    }
   ],
   "source": [
    "print(a[4])\n",
    "#a[4]=4 \n",
    "print(a[3:7] )"
   ]
  },
  {
   "cell_type": "markdown",
   "metadata": {},
   "source": [
    "We can also _redefine_ array elements from slicing.  \n",
    "\n",
    "E.g."
   ]
  },
  {
   "cell_type": "code",
   "execution_count": 4,
   "metadata": {},
   "outputs": [
    {
     "name": "stdout",
     "output_type": "stream",
     "text": [
      "[ 0  1 12 12 12  5  6  7  8  9]\n"
     ]
    }
   ],
   "source": [
    "a[2:5]=12 \n",
    "print(a)"
   ]
  },
  {
   "cell_type": "markdown",
   "metadata": {},
   "source": [
    "After that operation, ``a= array([ 0,  1, 12, 12, 12,  5,  6,  7,  8,  9])``.  As you can see, if you assign a scalar value to a slice, as in arr[2:5] = 12, the value is\n",
    "propagated (or broadcasted henceforth) to the entire selection. An important first distinction\n",
    "from Python’s built-in lists is that array slices are views on the original array.\n",
    "This means that the data is not copied, and any modifications to the view will be\n",
    "reflected in the source array."
   ]
  },
  {
   "cell_type": "markdown",
   "metadata": {},
   "source": [
    "To give an example of this, I first create a slice of arr:"
   ]
  },
  {
   "cell_type": "code",
   "execution_count": 5,
   "metadata": {},
   "outputs": [],
   "source": [
    "arr_slice=a[2:5]\n",
    "\n",
    "arr2=a.copy()\n",
    "arr_slice=arr2[2:5]\n",
    "#which equals ``array([12,12,12])"
   ]
  },
  {
   "cell_type": "markdown",
   "metadata": {},
   "source": [
    "Now, when I change values in arr_slice, the mutations are reflected in the original\n",
    "array arr: "
   ]
  },
  {
   "cell_type": "code",
   "execution_count": 6,
   "metadata": {},
   "outputs": [],
   "source": [
    "arr_slice[1] = 12345"
   ]
  },
  {
   "cell_type": "markdown",
   "metadata": {},
   "source": [
    "then ``a=array([    0,     1,    12, 12345,    12,     5,     6,     7,  8, 9])``."
   ]
  },
  {
   "cell_type": "code",
   "execution_count": 7,
   "metadata": {},
   "outputs": [
    {
     "name": "stdout",
     "output_type": "stream",
     "text": [
      "[ 0  1 12 12 12  5  6  7  8  9]\n"
     ]
    }
   ],
   "source": [
    "print(a)"
   ]
  },
  {
   "cell_type": "markdown",
   "metadata": {},
   "source": [
    "**CAUTION !!!** Now, this is a bit different than the form in other languages (e.g. IDL).   If you want a copy of a slice of an ndarray instead of a view, you will need to explicitly copy the array—for example, ``arr[2:5].copy()``."
   ]
  },
  {
   "cell_type": "markdown",
   "metadata": {},
   "source": [
    "#### _Higher Dimensional Slicing_\n",
    "\n",
    "With higher dimensional arrays, you have many more options. In a two-dimensional\n",
    "array, the elements at each index are no longer scalars but rather one-dimensional\n",
    "arrays:"
   ]
  },
  {
   "cell_type": "code",
   "execution_count": 8,
   "metadata": {},
   "outputs": [
    {
     "data": {
      "text/plain": [
       "array([7, 8, 9])"
      ]
     },
     "execution_count": 8,
     "metadata": {},
     "output_type": "execute_result"
    }
   ],
   "source": [
    "\n",
    "arr2d = np.array([[1, 2, 3], [4, 5, 6], [7, 8, 9]])\n",
    "arr2d[2]\n",
    "\n"
   ]
  },
  {
   "cell_type": "markdown",
   "metadata": {},
   "source": [
    "Thus, individual elements can be accessed recursively. But that is a bit too much\n",
    "work, so you can pass a comma-separated list of indices to select individual elements.\n",
    "So these are equivalent:"
   ]
  },
  {
   "cell_type": "code",
   "execution_count": 9,
   "metadata": {},
   "outputs": [
    {
     "name": "stdout",
     "output_type": "stream",
     "text": [
      "3\n",
      "3\n"
     ]
    }
   ],
   "source": [
    "#equivalent statements\n",
    "\n",
    "print(arr2d[0][2])\n",
    "print(arr2d[0,2])\n",
    "#both equal 3\n",
    "\n"
   ]
  },
  {
   "cell_type": "markdown",
   "metadata": {},
   "source": [
    "#### _Indexing with Slicing_\n",
    "\n",
    "Another example shows how indexing is treated with slicing for NumPy arrays."
   ]
  },
  {
   "cell_type": "code",
   "execution_count": 10,
   "metadata": {},
   "outputs": [
    {
     "name": "stdout",
     "output_type": "stream",
     "text": [
      "[[1 2 3]\n",
      " [4 5 6]]\n",
      "[[1 2 3]\n",
      " [4 5 6]]\n"
     ]
    }
   ],
   "source": [
    "\n",
    "arr2d = np.array([[1, 2, 3],[4, 5, 6],[7, 8, 9]])\n",
    "#array([[1, 2, 3],\n",
    "#[4, 5, 6]])\n",
    "print(arr2d[0:2,:]) #select the first two rows of arr2d\n",
    "print(arr2d[:2]) #same thing"
   ]
  },
  {
   "cell_type": "markdown",
   "metadata": {},
   "source": [
    "As you can see, it has sliced along axis 0, the first axis. A slice, therefore, selects a\n",
    "range of elements along an axis. It can be helpful to read the expression arr2d[:2] as\n",
    "“select the first two rows of arr2d.”\n",
    "\n",
    "You can pass multiple slices just like you can pass multiple indexes:\n",
    "\n",
    "``arr2d[:2, 1:]`` equals ``array([[2, 3],\n",
    "[5, 6]])``.  \n",
    "\n",
    "When slicing like this, you always obtain array views of the same number of dimensions.\n",
    "By mixing integer indexes and slices, you get lower dimensional slices.\n",
    "For example, I can select the second row but only the first two columns like so:\n",
    "``arr2d[1, :2]`` equals ``array([4, 5])``.  \n",
    "\n",
    "Similarly, I can select the third column but only the first two rows like so:\n",
    "``arr2d[:2, 2]`` equals ``array([3, 6])``.  "
   ]
  },
  {
   "cell_type": "markdown",
   "metadata": {},
   "source": [
    "Note that a colon by itself means to take the entire\n",
    "axis, so you can slice just the higher dimensional axes (i.e. slice on columns) as shown below"
   ]
  },
  {
   "cell_type": "code",
   "execution_count": 11,
   "metadata": {},
   "outputs": [
    {
     "data": {
      "text/plain": [
       "array([[1],\n",
       "       [4],\n",
       "       [7]])"
      ]
     },
     "execution_count": 11,
     "metadata": {},
     "output_type": "execute_result"
    }
   ],
   "source": [
    "arr2d[:,:1] #all rows, first column\n"
   ]
  },
  {
   "cell_type": "markdown",
   "metadata": {},
   "source": [
    "assigning to a slice expression assigns to the whole selection:\n",
    "\n",
    "e.g. ``arr2d[:2, 1:] = 0``"
   ]
  },
  {
   "cell_type": "code",
   "execution_count": 12,
   "metadata": {},
   "outputs": [
    {
     "data": {
      "text/plain": [
       "array([[1, 0, 0],\n",
       "       [4, 0, 0],\n",
       "       [7, 8, 9]])"
      ]
     },
     "execution_count": 12,
     "metadata": {},
     "output_type": "execute_result"
    }
   ],
   "source": [
    "arr2d[:2,1:] = 0\n",
    "\n",
    "arr2d"
   ]
  },
  {
   "cell_type": "markdown",
   "metadata": {},
   "source": [
    "#### _Slicing with Boolean Indexing_\n",
    "\n",
    "##### _One Way_\n",
    "\n",
    "Let’s consider an example where we have some data in a NumPy array and an array of names\n",
    "with duplicates. We use the randn function in ``numpy.random`` to generate\n",
    "some random normally distributed data:"
   ]
  },
  {
   "cell_type": "code",
   "execution_count": 13,
   "metadata": {},
   "outputs": [
    {
     "name": "stdout",
     "output_type": "stream",
     "text": [
      "[[ 0.21847153  1.42859947 -0.03041361 -0.91456334]\n",
      " [ 0.99925905  1.5756301   0.38621698 -0.62638064]\n",
      " [ 0.53376023 -0.06377105  0.73455409 -0.92946029]\n",
      " [ 0.73426515  0.89067501  1.07956317  1.18302649]\n",
      " [-0.33858059  0.02414259  0.9501873  -1.65231321]\n",
      " [-1.11074288  0.10261214  1.73963321  1.37889974]\n",
      " [-0.14922563 -1.44125955  1.11278644 -1.12114456]]\n",
      "(7, 4)\n"
     ]
    }
   ],
   "source": [
    "\n",
    "names = np.array(['Bob', 'Joe', 'Will', 'Bob', 'Will', 'Joe', 'Joe'])\n",
    "data = np.random.randn(7,4)\n",
    "\n",
    "print(data)\n",
    "print(data.shape)"
   ]
  },
  {
   "cell_type": "markdown",
   "metadata": {},
   "source": [
    "Suppose each name corresponds to a row in the data array and we wanted to select\n",
    "all the rows with corresponding name 'Bob'. Like arithmetic operations, comparisons\n",
    "(such as ==) with arrays are also vectorized. Thus, comparing names with the\n",
    "string 'Bob' yields a boolean array:"
   ]
  },
  {
   "cell_type": "code",
   "execution_count": 14,
   "metadata": {},
   "outputs": [
    {
     "data": {
      "text/plain": [
       "array([ True, False, False,  True, False, False, False])"
      ]
     },
     "execution_count": 14,
     "metadata": {},
     "output_type": "execute_result"
    }
   ],
   "source": [
    "#``names == 'Bob'; array([ True, False, False,  True, False, False, False])``\n",
    "\n",
    "names == 'Bob'\n",
    "#nn=np.where(names == 'Bob')"
   ]
  },
  {
   "cell_type": "markdown",
   "metadata": {},
   "source": [
    "This boolean array can be passed when indexing the array:"
   ]
  },
  {
   "cell_type": "code",
   "execution_count": 15,
   "metadata": {},
   "outputs": [
    {
     "data": {
      "text/plain": [
       "array([[ 0.21847153,  1.42859947, -0.03041361, -0.91456334],\n",
       "       [ 0.73426515,  0.89067501,  1.07956317,  1.18302649]])"
      ]
     },
     "execution_count": 15,
     "metadata": {},
     "output_type": "execute_result"
    }
   ],
   "source": [
    "data[names == 'Bob']"
   ]
  },
  {
   "cell_type": "markdown",
   "metadata": {},
   "source": [
    "Note: the boolean array must be of the same length as the array axis it’s indexing. \n",
    "\n",
    "In these examples, I select from the rows where names == 'Bob' and index the columns,\n",
    "too:"
   ]
  },
  {
   "cell_type": "code",
   "execution_count": 16,
   "metadata": {},
   "outputs": [
    {
     "name": "stdout",
     "output_type": "stream",
     "text": [
      "[[-0.03041361 -0.91456334]\n",
      " [ 1.07956317  1.18302649]]\n"
     ]
    }
   ],
   "source": [
    "print(data[names == 'Bob', 2:])"
   ]
  },
  {
   "cell_type": "code",
   "execution_count": 17,
   "metadata": {},
   "outputs": [
    {
     "name": "stdout",
     "output_type": "stream",
     "text": [
      "[-0.91456334  1.18302649]\n"
     ]
    }
   ],
   "source": [
    "       \n",
    "print(data[names == 'Bob', 3])"
   ]
  },
  {
   "cell_type": "markdown",
   "metadata": {},
   "source": [
    "To select everything but 'Bob' for column 2, you can either use != or negate the condition using ``~``: e.g. ``data[names != 'Bob', 2:]`` or ``data[~(names == 'Bob'),2:]``."
   ]
  },
  {
   "cell_type": "code",
   "execution_count": 18,
   "metadata": {},
   "outputs": [
    {
     "name": "stdout",
     "output_type": "stream",
     "text": [
      "[[ 0.38621698 -0.62638064]\n",
      " [ 0.73455409 -0.92946029]\n",
      " [ 0.9501873  -1.65231321]\n",
      " [ 1.73963321  1.37889974]\n",
      " [ 1.11278644 -1.12114456]]\n",
      "\n",
      "[[ 0.38621698 -0.62638064]\n",
      " [ 0.73455409 -0.92946029]\n",
      " [ 0.9501873  -1.65231321]\n",
      " [ 1.73963321  1.37889974]\n",
      " [ 1.11278644 -1.12114456]]\n"
     ]
    }
   ],
   "source": [
    "noBob=data[names != 'Bob',2:]\n",
    "goawayBob = data[~(names == 'Bob'),2:]\n",
    "\n",
    "print(noBob)\n",
    "print('')\n",
    "print(goawayBob)"
   ]
  },
  {
   "cell_type": "markdown",
   "metadata": {},
   "source": [
    "Selecting two of the three names to combine multiple boolean conditions, use\n",
    "boolean arithmetic operators like ``&`` (and) and ``|`` (or):"
   ]
  },
  {
   "cell_type": "code",
   "execution_count": 19,
   "metadata": {},
   "outputs": [
    {
     "data": {
      "text/plain": [
       "array([[ 0.21847153,  1.42859947, -0.03041361, -0.91456334],\n",
       "       [ 0.53376023, -0.06377105,  0.73455409, -0.92946029],\n",
       "       [ 0.73426515,  0.89067501,  1.07956317,  1.18302649],\n",
       "       [-0.33858059,  0.02414259,  0.9501873 , -1.65231321]])"
      ]
     },
     "execution_count": 19,
     "metadata": {},
     "output_type": "execute_result"
    }
   ],
   "source": [
    "mask = (names == 'Bob') | (names == 'Will')\n",
    "#data[mask]\n",
    "\n",
    "data[mask]\n",
    "#mask"
   ]
  },
  {
   "cell_type": "markdown",
   "metadata": {},
   "source": [
    "Setting values with boolean arrays works in a common-sense way. To set all of the\n",
    "negative values in data to 0 we need only do:"
   ]
  },
  {
   "cell_type": "code",
   "execution_count": 20,
   "metadata": {},
   "outputs": [
    {
     "name": "stdout",
     "output_type": "stream",
     "text": [
      "[[ 0.21847153  1.42859947 -0.03041361 -0.91456334]\n",
      " [ 0.99925905  1.5756301   0.38621698 -0.62638064]\n",
      " [ 0.53376023 -0.06377105  0.73455409 -0.92946029]\n",
      " [ 0.73426515  0.89067501  1.07956317  1.18302649]\n",
      " [-0.33858059  0.02414259  0.9501873  -1.65231321]\n",
      " [-1.11074288  0.10261214  1.73963321  1.37889974]\n",
      " [-0.14922563 -1.44125955  1.11278644 -1.12114456]]\n"
     ]
    }
   ],
   "source": [
    "print(data)"
   ]
  },
  {
   "cell_type": "code",
   "execution_count": 21,
   "metadata": {},
   "outputs": [
    {
     "name": "stdout",
     "output_type": "stream",
     "text": [
      "\n",
      "[[0.21847153 1.42859947 0.         0.        ]\n",
      " [0.99925905 1.5756301  0.38621698 0.        ]\n",
      " [0.53376023 0.         0.73455409 0.        ]\n",
      " [0.73426515 0.89067501 1.07956317 1.18302649]\n",
      " [0.         0.02414259 0.9501873  0.        ]\n",
      " [0.         0.10261214 1.73963321 1.37889974]\n",
      " [0.         0.         1.11278644 0.        ]]\n"
     ]
    }
   ],
   "source": [
    "data2=data.copy()\n",
    "data2[data<0]=0\n",
    "print('')\n",
    "print(data2)"
   ]
  },
  {
   "cell_type": "markdown",
   "metadata": {},
   "source": [
    "Setting whole rows or columns using a one-dimensional boolean array is also easy:"
   ]
  },
  {
   "cell_type": "code",
   "execution_count": 22,
   "metadata": {},
   "outputs": [
    {
     "data": {
      "text/plain": [
       "array([[ 0.21847153,  1.42859947, -0.03041361, -0.91456334],\n",
       "       [ 0.53376023, -0.06377105,  0.73455409, -0.92946029],\n",
       "       [ 0.73426515,  0.89067501,  1.07956317,  1.18302649],\n",
       "       [-0.33858059,  0.02414259,  0.9501873 , -1.65231321]])"
      ]
     },
     "execution_count": 22,
     "metadata": {},
     "output_type": "execute_result"
    }
   ],
   "source": [
    "data[names != 'Joe']"
   ]
  },
  {
   "cell_type": "markdown",
   "metadata": {},
   "source": [
    "##### _Boolean Slicing with np.where_\n",
    "\n",
    "Another way to do very complex slicing is with the ``where`` function (e.g. ``np.where[set of boolean conditions]``).   E.g. you can write the previous slicing as:"
   ]
  },
  {
   "cell_type": "code",
   "execution_count": 23,
   "metadata": {},
   "outputs": [
    {
     "name": "stdout",
     "output_type": "stream",
     "text": [
      "[[ 0.21847153  1.42859947 -0.03041361 -0.91456334]\n",
      " [ 0.99925905  1.5756301   0.38621698 -0.62638064]\n",
      " [ 0.53376023 -0.06377105  0.73455409 -0.92946029]\n",
      " [ 0.73426515  0.89067501  1.07956317  1.18302649]\n",
      " [-0.33858059  0.02414259  0.9501873  -1.65231321]\n",
      " [-1.11074288  0.10261214  1.73963321  1.37889974]\n",
      " [-0.14922563 -1.44125955  1.11278644 -1.12114456]]\n"
     ]
    }
   ],
   "source": [
    "#let's go back to our original data array...\n",
    "data3=data.copy()\n",
    "print(data)"
   ]
  },
  {
   "cell_type": "code",
   "execution_count": 24,
   "metadata": {},
   "outputs": [
    {
     "data": {
      "text/plain": [
       "array([[ 7.        ,  7.        ,  7.        ,  7.        ],\n",
       "       [ 0.99925905,  1.5756301 ,  0.38621698, -0.62638064],\n",
       "       [ 7.        ,  7.        ,  7.        ,  7.        ],\n",
       "       [ 7.        ,  7.        ,  7.        ,  7.        ],\n",
       "       [ 7.        ,  7.        ,  7.        ,  7.        ],\n",
       "       [-1.11074288,  0.10261214,  1.73963321,  1.37889974],\n",
       "       [-0.14922563, -1.44125955,  1.11278644, -1.12114456]])"
      ]
     },
     "execution_count": 24,
     "metadata": {},
     "output_type": "execute_result"
    }
   ],
   "source": [
    "bad=np.where(names != 'Joe')\n",
    "data3[bad]=7\n",
    "data3"
   ]
  },
  {
   "cell_type": "markdown",
   "metadata": {},
   "source": [
    "The ``where`` function allows for highly complex slicing.   E.g."
   ]
  },
  {
   "cell_type": "code",
   "execution_count": 25,
   "metadata": {},
   "outputs": [
    {
     "data": {
      "text/plain": [
       "array([[ 0.21847153,  1.42859947, -0.03041361, -0.91456334],\n",
       "       [ 0.99925905,  1.5756301 ,  0.38621698, -0.62638064],\n",
       "       [ 0.53376023, -0.06377105,  0.73455409, -0.92946029],\n",
       "       [ 0.73426515,  0.89067501,  1.07956317,  1.18302649],\n",
       "       [-0.33858059,  0.02414259,  0.9501873 , -1.65231321],\n",
       "       [-1.11074288,  0.10261214,  1.73963321,  1.37889974],\n",
       "       [-0.14922563, -1.44125955,  1.11278644, -1.12114456]])"
      ]
     },
     "execution_count": 25,
     "metadata": {},
     "output_type": "execute_result"
    }
   ],
   "source": [
    "data4=data.copy()\n",
    "data4"
   ]
  },
  {
   "cell_type": "code",
   "execution_count": 26,
   "metadata": {},
   "outputs": [
    {
     "data": {
      "text/plain": [
       "array([[ 9.        ,  9.        ,  9.        ,  9.        ],\n",
       "       [ 0.99925905,  1.5756301 ,  0.38621698, -0.62638064],\n",
       "       [ 9.        ,  9.        ,  9.        ,  9.        ],\n",
       "       [ 9.        ,  9.        ,  9.        ,  9.        ],\n",
       "       [ 9.        ,  9.        ,  9.        ,  9.        ],\n",
       "       [-1.11074288,  0.10261214,  1.73963321,  1.37889974],\n",
       "       [-0.14922563, -1.44125955,  1.11278644, -1.12114456]])"
      ]
     },
     "execution_count": 26,
     "metadata": {},
     "output_type": "execute_result"
    }
   ],
   "source": [
    "bad=np.where( (names == 'Will') | ( (data4[:,0] > 0) & (names == 'Bob')))\n",
    "data4[bad]=9\n",
    "data4"
   ]
  },
  {
   "cell_type": "code",
   "execution_count": 27,
   "metadata": {},
   "outputs": [
    {
     "name": "stdout",
     "output_type": "stream",
     "text": [
      "[ 0.21847153  0.99925905  0.53376023  0.73426515 -0.33858059 -1.11074288\n",
      " -0.14922563]\n",
      "[ 9.          0.99925905  9.          9.          9.         -1.11074288\n",
      " -0.14922563]\n"
     ]
    }
   ],
   "source": [
    "print(data[:,0])\n",
    "print(data4[:,0])"
   ]
  },
  {
   "cell_type": "markdown",
   "metadata": {},
   "source": [
    "##### _Expressing Conditional Logic as Array Operations with np.where_\n",
    "\n",
    "Where can do even more complex operations.  Essentially it is a vectorized version of the ternary expression ``x if condition else y``.   Before, we were just using it as ``x if condition`` just to find indexes of an array.   Now we can use it to do more complex operations.\n",
    "\n",
    "E.g. say we have two arrays of values and a boolean array:"
   ]
  },
  {
   "cell_type": "code",
   "execution_count": 28,
   "metadata": {},
   "outputs": [],
   "source": [
    "\n",
    "xarr = np.array([1.1, 1.2, 1.3, 1.4, 1.5])\n",
    "yarr = np.array([2.1, 2.2, 2.3, 2.4, 2.5])\n",
    "cond = np.array([True, False, True, True, False])\n",
    "\n"
   ]
  },
  {
   "cell_type": "markdown",
   "metadata": {},
   "source": [
    "Suppose we wanted to take a value from xarr whenever the corresponding value in\n",
    "cond is True, and otherwise take the value from yarr. A list comprehension doing\n",
    "this might look like:\n",
    "\n",
    "```\n",
    "result = [(x if c else y)\n",
    " for x, y, c in zip(xarr, yarr, cond)]\n",
    "\n",
    "```"
   ]
  },
  {
   "cell_type": "markdown",
   "metadata": {},
   "source": [
    "For our simple example, this is fine but it is slow for large arrays and hard to pull off for multi-dimensional arrays.  ``np.where`` is the solution:"
   ]
  },
  {
   "cell_type": "code",
   "execution_count": 29,
   "metadata": {},
   "outputs": [
    {
     "data": {
      "text/plain": [
       "array([1.1, 2.2, 1.3, 1.4, 2.5])"
      ]
     },
     "execution_count": 29,
     "metadata": {},
     "output_type": "execute_result"
    }
   ],
   "source": [
    "result = np.where(cond, xarr, yarr)\n",
    "#array([ 1.1, 2.2, 1.3, 1.4, 2.5])\n",
    "result"
   ]
  },
  {
   "cell_type": "markdown",
   "metadata": {},
   "source": [
    "Another example:"
   ]
  },
  {
   "cell_type": "code",
   "execution_count": 30,
   "metadata": {},
   "outputs": [
    {
     "name": "stdout",
     "output_type": "stream",
     "text": [
      "[[ 0.21847153  1.42859947 -0.03041361 -0.91456334]\n",
      " [ 0.99925905  1.5756301   0.38621698 -0.62638064]\n",
      " [ 0.53376023 -0.06377105  0.73455409 -0.92946029]\n",
      " [ 0.73426515  0.89067501  1.07956317  1.18302649]\n",
      " [-0.33858059  0.02414259  0.9501873  -1.65231321]\n",
      " [-1.11074288  0.10261214  1.73963321  1.37889974]\n",
      " [-0.14922563 -1.44125955  1.11278644 -1.12114456]]\n"
     ]
    }
   ],
   "source": [
    "data3=data.copy()\n",
    "print(data3)"
   ]
  },
  {
   "cell_type": "code",
   "execution_count": 31,
   "metadata": {},
   "outputs": [
    {
     "name": "stdout",
     "output_type": "stream",
     "text": [
      "[[ 0.21847153  1.42859947 -0.03041361 -0.91456334]\n",
      " [ 0.99925905  1.5756301   0.38621698 -0.62638064]\n",
      " [ 0.53376023 -0.06377105  0.73455409 -0.92946029]\n",
      " [ 0.73426515  0.89067501  1.07956317  1.18302649]\n",
      " [-0.33858059  0.02414259  0.9501873  -1.65231321]\n",
      " [-1.11074288  0.10261214  1.73963321  1.37889974]\n",
      " [-0.14922563 -1.44125955  1.11278644 -1.12114456]]\n",
      "\n",
      "[[0.21847153 1.42859947 0.03041361 0.91456334]\n",
      " [0.99925905 1.5756301  0.38621698 0.62638064]\n",
      " [0.53376023 0.06377105 0.73455409 0.92946029]\n",
      " [0.73426515 0.89067501 1.07956317 1.18302649]\n",
      " [0.33858059 0.02414259 0.9501873  1.65231321]\n",
      " [1.11074288 0.10261214 1.73963321 1.37889974]\n",
      " [0.14922563 1.44125955 1.11278644 1.12114456]]\n",
      "\n",
      "[[0.21847153 1.42859947 0.03041361 0.91456334]\n",
      " [0.99925905 1.5756301  0.38621698 0.62638064]\n",
      " [0.53376023 0.06377105 0.73455409 0.92946029]\n",
      " [0.73426515 0.89067501 1.07956317 1.18302649]\n",
      " [0.33858059 0.02414259 0.9501873  1.65231321]\n",
      " [1.11074288 0.10261214 1.73963321 1.37889974]\n",
      " [0.14922563 1.44125955 1.11278644 1.12114456]]\n"
     ]
    }
   ],
   "source": [
    "good=data3 > 0\n",
    "data3c=np.where(good,data3,-1*data3)\n",
    "print(data3)\n",
    "print('')\n",
    "print(data3c)\n",
    "print('')\n",
    "print(np.abs(data3))"
   ]
  },
  {
   "cell_type": "markdown",
   "metadata": {},
   "source": [
    "### Array Shapes and Reshaping\n",
    "\n",
    "NumPy arrays have given dimensions: the ``shape`` of a NumPy array distinguishes vectors or matrices of different sizes.   The attribute ``.shape`` for a NumPy array returns its dimensionality in the form of a tuple of its dimensions.   "
   ]
  },
  {
   "cell_type": "markdown",
   "metadata": {},
   "source": [
    "E.g. for the matrix ``a=np.array([[3,4,5],[6,7,8]])`` the shape can be returned from ``a.shape #yields (2,3)``. "
   ]
  },
  {
   "cell_type": "code",
   "execution_count": 32,
   "metadata": {},
   "outputs": [
    {
     "name": "stdout",
     "output_type": "stream",
     "text": [
      "(2, 3)\n",
      "2\n",
      "3\n"
     ]
    }
   ],
   "source": [
    "a=np.array([[3,4,5],[6,7,8]])\n",
    "\n",
    "print(a.shape)\n",
    "\n",
    "print(a.shape[0]) #how many rows?\n",
    "print(a.shape[1]) #how many columns?\n"
   ]
  },
  {
   "cell_type": "markdown",
   "metadata": {},
   "source": [
    "A vector returns ``([number],)``: e.g. ``a=np.array([3,4,5,6,7,8])`` returns as ``a.shape #(6,)``."
   ]
  },
  {
   "cell_type": "code",
   "execution_count": 33,
   "metadata": {},
   "outputs": [
    {
     "name": "stdout",
     "output_type": "stream",
     "text": [
      "(6,)\n"
     ]
    }
   ],
   "source": [
    "a=np.array([3,4,5,6,7,8])\n",
    "print(a.shape)\n"
   ]
  },
  {
   "cell_type": "markdown",
   "metadata": {},
   "source": [
    "#### _reshape_\n",
    "\n",
    "We can give a view of the array where we change the dimensions of the array while keeping the same number of elements with the ``.reshape`` function.\n",
    "\n",
    "E.g. for ``arr=np.array([8,6,7,5,3,0])`` we can reshape it as ``arr.reshape(2,3)``, which returns ``array([[8, 6, 7],[5, 3, 0]])``.  \n",
    "       "
   ]
  },
  {
   "cell_type": "code",
   "execution_count": 34,
   "metadata": {},
   "outputs": [
    {
     "data": {
      "text/plain": [
       "array([[8, 6, 7],\n",
       "       [5, 3, 0]])"
      ]
     },
     "execution_count": 34,
     "metadata": {},
     "output_type": "execute_result"
    }
   ],
   "source": [
    "arr=np.array([8,6,7,5,3,0]) # a vector\n",
    "arr.reshape(2,3) #reshaped into a 2D array"
   ]
  },
  {
   "cell_type": "markdown",
   "metadata": {},
   "source": [
    "       Figure 4.2 in Fuhrer gives a nice overview of what happens when you ``reshape`` an array different ways.   E.g. for ``arr`` in the above example, we get the following results from different reshapings:\n",
    "       "
   ]
  },
  {
   "cell_type": "code",
   "execution_count": 35,
   "metadata": {},
   "outputs": [
    {
     "data": {
      "text/plain": [
       "array([[8, 6, 7, 5, 3, 0]])"
      ]
     },
     "execution_count": 35,
     "metadata": {},
     "output_type": "execute_result"
    }
   ],
   "source": [
    "arr=np.array([8,6,7,5,3,0])\n",
    "\n",
    "arr.reshape(1,6)\n",
    "#yields array([[8, 6, 7, 5, 3, 0]]) ... i.e. the same as before"
   ]
  },
  {
   "cell_type": "code",
   "execution_count": 36,
   "metadata": {},
   "outputs": [
    {
     "data": {
      "text/plain": [
       "array([[8],\n",
       "       [6],\n",
       "       [7],\n",
       "       [5],\n",
       "       [3],\n",
       "       [0]])"
      ]
     },
     "execution_count": 36,
     "metadata": {},
     "output_type": "execute_result"
    }
   ],
   "source": [
    "arr.reshape(6,1)\n",
    "#yields a column matrix\n",
    "#array([[8],\n",
    "#       [6],\n",
    "#       [7],\n",
    "#       [5],\n",
    "#       [3],\n",
    "#       [0]])"
   ]
  },
  {
   "cell_type": "code",
   "execution_count": 37,
   "metadata": {},
   "outputs": [
    {
     "data": {
      "text/plain": [
       "array([[8, 6, 7],\n",
       "       [5, 3, 0]])"
      ]
     },
     "execution_count": 37,
     "metadata": {},
     "output_type": "execute_result"
    }
   ],
   "source": [
    "arr.reshape(2,3)\n",
    "#yields \n",
    "#array([[8, 6, 7],\n",
    "#       [5, 3, 0]])"
   ]
  },
  {
   "cell_type": "code",
   "execution_count": 38,
   "metadata": {},
   "outputs": [
    {
     "data": {
      "text/plain": [
       "array([[8, 6],\n",
       "       [7, 5],\n",
       "       [3, 0]])"
      ]
     },
     "execution_count": 38,
     "metadata": {},
     "output_type": "execute_result"
    }
   ],
   "source": [
    "arr.reshape(3,2)\n",
    "#yields\n",
    "#array([[8, 6],\n",
    "#       [7, 5],\n",
    "#       [3, 0]])    "
   ]
  },
  {
   "cell_type": "markdown",
   "metadata": {},
   "source": [
    "Now say you have an array of some dimensions and you want to reshape it so it has, say, two columns and \"some\" number of rows but that you don't know the number of rows beforehand, or vice versa.   I.e. you specify one shape but want Python to specify (er, _compute_) the other one.  You can let Python determine this by setting the second parameter to ``-1``.   E.g. "
   ]
  },
  {
   "cell_type": "code",
   "execution_count": 39,
   "metadata": {},
   "outputs": [
    {
     "data": {
      "text/plain": [
       "(2, 4)"
      ]
     },
     "execution_count": 39,
     "metadata": {},
     "output_type": "execute_result"
    }
   ],
   "source": [
    "v=np.array([1,2,3,4,5,6,7,8])\n",
    "M=v.reshape(2,-1)\n",
    "M.shape\n",
    "#returns (2,4)"
   ]
  },
  {
   "cell_type": "code",
   "execution_count": 40,
   "metadata": {},
   "outputs": [
    {
     "data": {
      "text/plain": [
       "(4, 2)"
      ]
     },
     "execution_count": 40,
     "metadata": {},
     "output_type": "execute_result"
    }
   ],
   "source": [
    "M=v.reshape(-1,2)\n",
    "M.shape\n",
    "#returns (4,2)"
   ]
  },
  {
   "cell_type": "markdown",
   "metadata": {},
   "source": [
    "#### _Transpose_\n",
    "\n",
    "A special form of reshaping used often in linear algebra is _**transposing**_, which shwithces the two shape elements of the matrix (e.g. columns--> rows; rows--> columns).    The transpose of a matrix _**A**_ is a matrix _**B**_ such that:\n",
    "_B <sub>ij</sub>_ = _B <sub>ji</sub>_ .\n",
    "\n",
    "The simplest to do a transpose with a NumPy array is ...  ``array.T``, e.g. for a matrix A, the transpose B is ``B= A.T``.   An alternative way is with the ``np.transpose()`` operation: e.g. ``B=np.transpose(A)``.\n",
    "\n",
    "Note that transposing just returns a view of the array: it does not copy.\n",
    "\n",
    "Array transposing becomes very useful later when we try to do matrix operations.   E.g. when computing the inner matrix product using ``np.dot``:"
   ]
  },
  {
   "cell_type": "code",
   "execution_count": 41,
   "metadata": {},
   "outputs": [
    {
     "name": "stdout",
     "output_type": "stream",
     "text": [
      "(4, 3)\n",
      "[[ 1  4  7 10]\n",
      " [ 2  5  8 11]\n",
      " [ 3  6  9 12]]\n",
      "(3, 4)\n"
     ]
    }
   ],
   "source": [
    "a=np.array([[1,2,3],[4,5,6],[7,8,9],[10,11,12]])\n",
    "print(a.shape)\n",
    "print(a.T)\n",
    "b=a.T\n",
    "print(b.shape)"
   ]
  },
  {
   "cell_type": "code",
   "execution_count": 42,
   "metadata": {},
   "outputs": [
    {
     "name": "stdout",
     "output_type": "stream",
     "text": [
      "[[ 14  32  50  68]\n",
      " [ 32  77 122 167]\n",
      " [ 50 122 194 266]\n",
      " [ 68 167 266 365]]\n"
     ]
    },
    {
     "data": {
      "text/plain": [
       "(4, 4)"
      ]
     },
     "execution_count": 42,
     "metadata": {},
     "output_type": "execute_result"
    }
   ],
   "source": [
    "result1=np.dot(a,a.T)\n",
    "print(result1)\n",
    "\n",
    "result1.shape\n",
    "#(4,4)"
   ]
  },
  {
   "cell_type": "code",
   "execution_count": 43,
   "metadata": {},
   "outputs": [
    {
     "name": "stdout",
     "output_type": "stream",
     "text": [
      "[[166 188 210]\n",
      " [188 214 240]\n",
      " [210 240 270]]\n"
     ]
    },
    {
     "data": {
      "text/plain": [
       "(3, 3)"
      ]
     },
     "execution_count": 43,
     "metadata": {},
     "output_type": "execute_result"
    }
   ],
   "source": [
    "result2=np.dot(a.T,a)\n",
    "print(result2)\n",
    "\n",
    "result2.shape\n",
    "#(3, 3)\n",
    "\n",
    " "
   ]
  },
  {
   "cell_type": "markdown",
   "metadata": {},
   "source": [
    "#### _flatten_ and _ravel_\n",
    "\n",
    "With ``reshape`` we have found a way to convert a 1-D vector into 2-D matrix: i.e. reshape-ing an array to a higher dimension.  We can also do the opposite -- converting a 2+D array into a 1-D vector -- using the ``flatten`` or ``ravel`` function.   These two functions largely do the same thing (as described above).  \n",
    "\n",
    "There are some key differences between these two, mainly on that ``flatten`` returns a copy of an array while ``ravel`` returns a view: these are described in more detail [here](https://www.naukri.com/code360/library/difference-between-flatten-and-ravel-functions-in-numpy) [what's the difference between a copy and a view? see [here](https://www.w3schools.com/python/numpy/numpy_copy_vs_view.asp) .\n",
    "\n",
    "Here are examples of ``flatten`` and ``ravel`` in action:"
   ]
  },
  {
   "cell_type": "code",
   "execution_count": 44,
   "metadata": {},
   "outputs": [
    {
     "name": "stdout",
     "output_type": "stream",
     "text": [
      "[[ 0  1  2]\n",
      " [ 3  4  5]\n",
      " [ 6  7  8]\n",
      " [ 9 10 11]\n",
      " [12 13 14]]\n",
      "(5, 3)\n"
     ]
    }
   ],
   "source": [
    "arr = np.arange(15).reshape((5, 3))\n",
    "arr\n",
    "#array([[ 0, 1, 2],\n",
    "#[ 3, 4, 5],\n",
    "#[ 6, 7, 8],\n",
    "#[ 9, 10, 11],\n",
    "#[12, 13, 14]])\n",
    "print(arr)\n",
    "print(arr.shape)"
   ]
  },
  {
   "cell_type": "code",
   "execution_count": 45,
   "metadata": {},
   "outputs": [
    {
     "name": "stdout",
     "output_type": "stream",
     "text": [
      "[ 0  1  2  3  4  5  6  7  8  9 10 11 12 13 14]\n"
     ]
    }
   ],
   "source": [
    "print(arr.flatten())\n",
    "#array([ 0,  1,  2,  3,  4,  5,  6,  7,  8,  9, 10, 11, 12, 13, 14])"
   ]
  },
  {
   "cell_type": "code",
   "execution_count": 46,
   "metadata": {},
   "outputs": [
    {
     "name": "stdout",
     "output_type": "stream",
     "text": [
      "[[ 0  1  2]\n",
      " [ 3  4  5]\n",
      " [ 6  7  8]\n",
      " [ 9 10 11]\n",
      " [12 13 14]]\n",
      "[ 0  1  2  3  4  5  6  7  8  9 10 11 12 13 14]\n"
     ]
    }
   ],
   "source": [
    "print(arr)\n",
    "print(arr.ravel())\n",
    "#array([ 0,  1,  2,  3,  4,  5,  6,  7,  8,  9, 10, 11, 12, 13, 14])\n",
    "\n",
    "#print(arr)"
   ]
  },
  {
   "cell_type": "markdown",
   "metadata": {},
   "source": [
    "A short caveat ... Note that data can be reshaped or raveled in different orders.   One order is \"row-major\" order, where values within each row of data are stored in adjacent memory locations (you traverse higher dimensions first).  The alternative to row major ordering is column major\n",
    "order, which means that values within each column of data are stored in adjacent\n",
    "memory locations (you traverse higher dimensions last).   \"Row major\" order is traditionally known as \"C order\" and \"column major\" order is traditionally known as \"Fortran order\".  \n",
    "\n",
    "By default, NumPy arrays are created in _row major_ order.  But both ``ravel`` and ``flatten`` have an order keyword that allows you to switch to _column major_ order.   E.g."
   ]
  },
  {
   "cell_type": "code",
   "execution_count": 47,
   "metadata": {},
   "outputs": [
    {
     "data": {
      "text/plain": [
       "array([[ 0,  1,  2,  3],\n",
       "       [ 4,  5,  6,  7],\n",
       "       [ 8,  9, 10, 11]])"
      ]
     },
     "execution_count": 47,
     "metadata": {},
     "output_type": "execute_result"
    }
   ],
   "source": [
    "\n",
    "arr = np.arange(12).reshape((3, 4))\n",
    "arr\n",
    "#array([[ 0, 1, 2, 3],\n",
    "#[ 4, 5, 6, 7],\n",
    "#[ 8, 9, 10, 11]])"
   ]
  },
  {
   "cell_type": "code",
   "execution_count": 48,
   "metadata": {},
   "outputs": [
    {
     "name": "stdout",
     "output_type": "stream",
     "text": [
      "[ 0  1  2  3  4  5  6  7  8  9 10 11]\n"
     ]
    }
   ],
   "source": [
    "print(arr.ravel()) #default ordering\n",
    "#array([ 0, 1, 2, 3, 4, 5, 6, 7, 8, 9, 10, 11])"
   ]
  },
  {
   "cell_type": "code",
   "execution_count": 49,
   "metadata": {},
   "outputs": [
    {
     "name": "stdout",
     "output_type": "stream",
     "text": [
      "[ 0  4  8  1  5  9  2  6 10  3  7 11]\n"
     ]
    }
   ],
   "source": [
    "print(arr.ravel('F'))\n",
    "#array([ 0, 4, 8, 1, 5, 9, 2, 6, 10, 3, 7, 11])"
   ]
  },
  {
   "cell_type": "markdown",
   "metadata": {},
   "source": [
    "### The Axis Keyword\n",
    "\n",
    "Before proceeding to the next section, it's worth highlighting a particularly important keyword for many NumPy functions, since it crops up everwhere: ``axis``.   Usually this is invoked as ``np.[functionname](array,axis=[some number])``.   Basically it means \"apply the vectorized NumPy function only along a given axis instead of for the array as a whole\"\n",
    "\n",
    "You will immediately see that this is extremely powerful.   \n",
    "\n",
    "For example..."
   ]
  },
  {
   "cell_type": "code",
   "execution_count": 50,
   "metadata": {},
   "outputs": [
    {
     "name": "stdout",
     "output_type": "stream",
     "text": [
      "[[ 0.82783885  0.42263685 -0.55961516 -0.45700583]\n",
      " [-0.20124512 -1.44755234 -0.96952385 -0.54525433]\n",
      " [-1.78371372 -0.45267913  1.29457349 -1.97652175]\n",
      " [ 1.65497953 -0.767285   -0.07030475 -0.39374256]\n",
      " [-0.07079331  0.16613893  1.05352087  0.60620648]]\n"
     ]
    }
   ],
   "source": [
    "arr = np.random.randn(5, 4)\n",
    "print(arr)"
   ]
  },
  {
   "cell_type": "code",
   "execution_count": 51,
   "metadata": {},
   "outputs": [
    {
     "name": "stdout",
     "output_type": "stream",
     "text": [
      "the shape is  (5, 4)\n",
      "\n"
     ]
    }
   ],
   "source": [
    "print('the shape is ',arr.shape)\n",
    "print('')"
   ]
  },
  {
   "cell_type": "code",
   "execution_count": 52,
   "metadata": {},
   "outputs": [
    {
     "name": "stdout",
     "output_type": "stream",
     "text": [
      "\n",
      "-3.669341865084495\n",
      "\n"
     ]
    }
   ],
   "source": [
    "arr2=np.sum(arr)\n",
    "print('')\n",
    "print(arr2)\n",
    "print('')"
   ]
  },
  {
   "cell_type": "code",
   "execution_count": 53,
   "metadata": {},
   "outputs": [
    {
     "name": "stdout",
     "output_type": "stream",
     "text": [
      "[ 0.42706622 -2.0787407   0.74865061 -2.766318  ]\n"
     ]
    }
   ],
   "source": [
    "arr2=np.sum(arr,axis=0)\n",
    "print(arr2)"
   ]
  },
  {
   "cell_type": "code",
   "execution_count": 54,
   "metadata": {},
   "outputs": [
    {
     "name": "stdout",
     "output_type": "stream",
     "text": [
      "\n",
      "[ 0.2338547  -3.16357564 -2.91834111  0.42364721  1.75507297]\n"
     ]
    }
   ],
   "source": [
    "print('')\n",
    "arr2=np.sum(arr,axis=1)\n",
    "print(arr2)"
   ]
  },
  {
   "cell_type": "markdown",
   "metadata": {},
   "source": [
    "In this case, for \"axis=0\", NumPy performs a sum over _each row in a column_.  Since there are 4 columns, the shape and len of the resulting array ``arr2`` is (4,) and 4, respectively.   For \"axis=1\", NumPy performs a sum over _each column in a row_.   "
   ]
  },
  {
   "cell_type": "markdown",
   "metadata": {},
   "source": [
    "Here's another example with the same array"
   ]
  },
  {
   "cell_type": "code",
   "execution_count": 55,
   "metadata": {},
   "outputs": [
    {
     "name": "stdout",
     "output_type": "stream",
     "text": [
      "[[ 0.08429433  0.13475168  0.59970609  0.5365529 ]\n",
      " [ 0.18444092 -0.48324869  0.68824158  0.18152838]\n",
      " [ 0.29889273  0.58317754 -0.60294463 -1.80444384]\n",
      " [ 1.02698897  0.74783436  0.64923363 -0.01137499]\n",
      " [-0.62013136  1.03558001  1.11272342 -0.52455434]]\n",
      "0.24166682598588274\n",
      "[ 0.18444092  0.58317754  0.64923363 -0.01137499]\n",
      "[ 0.33565229  0.18298465 -0.15202595  0.69853399  0.25551283]\n"
     ]
    }
   ],
   "source": [
    "\n",
    "arr = np.random.randn(5, 4)\n",
    "print(arr)\n",
    "\n",
    "arr2=np.median(arr)\n",
    "print(arr2)\n",
    "\n",
    "arr2=np.median(arr,axis=0)\n",
    "print(arr2)\n",
    "\n",
    "arr2=np.median(arr,axis=1)\n",
    "print(arr2)\n",
    "\n"
   ]
  },
  {
   "cell_type": "markdown",
   "metadata": {},
   "source": [
    "You can also call combinations of axes: e.g. ``np.median(array,axis=[0,1])``."
   ]
  },
  {
   "cell_type": "code",
   "execution_count": null,
   "metadata": {},
   "outputs": [],
   "source": []
  },
  {
   "cell_type": "code",
   "execution_count": null,
   "metadata": {},
   "outputs": [],
   "source": []
  },
  {
   "cell_type": "code",
   "execution_count": null,
   "metadata": {},
   "outputs": [],
   "source": []
  },
  {
   "cell_type": "code",
   "execution_count": null,
   "metadata": {},
   "outputs": [],
   "source": []
  },
  {
   "cell_type": "code",
   "execution_count": null,
   "metadata": {},
   "outputs": [],
   "source": []
  },
  {
   "cell_type": "code",
   "execution_count": null,
   "metadata": {},
   "outputs": [],
   "source": []
  },
  {
   "cell_type": "code",
   "execution_count": null,
   "metadata": {},
   "outputs": [],
   "source": []
  },
  {
   "cell_type": "code",
   "execution_count": null,
   "metadata": {},
   "outputs": [],
   "source": []
  },
  {
   "cell_type": "code",
   "execution_count": null,
   "metadata": {},
   "outputs": [],
   "source": []
  }
 ],
 "metadata": {
  "kernelspec": {
   "display_name": "Python 3 (ipykernel)",
   "language": "python",
   "name": "python3"
  },
  "language_info": {
   "codemirror_mode": {
    "name": "ipython",
    "version": 3
   },
   "file_extension": ".py",
   "mimetype": "text/x-python",
   "name": "python",
   "nbconvert_exporter": "python",
   "pygments_lexer": "ipython3",
   "version": "3.12.4"
  }
 },
 "nbformat": 4,
 "nbformat_minor": 4
}
