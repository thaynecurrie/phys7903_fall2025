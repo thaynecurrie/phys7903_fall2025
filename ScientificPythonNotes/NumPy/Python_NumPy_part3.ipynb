{
 "cells": [
  {
   "cell_type": "markdown",
   "metadata": {},
   "source": [
    "# _Python for Scientific Data Analysis_\n",
    "\n",
    "# NumPy/SciPy\n",
    "\n",
    "## Section 3: Array Slicing and Reshaping\n",
    "\n",
    "### Array Slicing\n",
    "\n",
    "#### _Basic Slicing and Caveats_\n",
    "\n",
    "We already covered array slicing in the **Data Structures** section.  But because this is so important, we will review what we said before.  We will also describe in more detail \"boolean slicing\".\n",
    "\n",
    "Let's start with a NumPy array created from one of the functions described in the previous section: "
   ]
  },
  {
   "cell_type": "code",
   "execution_count": 63,
   "metadata": {},
   "outputs": [
    {
     "data": {
      "text/plain": [
       "array([0, 1, 2, 3, 4, 5, 6, 7, 8, 9])"
      ]
     },
     "execution_count": 63,
     "metadata": {},
     "output_type": "execute_result"
    }
   ],
   "source": [
    "import numpy as np\n",
    "\n",
    "a = np.arange(10)\n",
    "#aorig=a.copy() #this will be important a few cells down\n",
    "\n",
    "a"
   ]
  },
  {
   "cell_type": "markdown",
   "metadata": {},
   "source": [
    "This equals ``array([0, 1, 2, 3, 4, 5, 6, 7, 8, 9])``.  \n",
    "\n",
    "And do some slicing.  "
   ]
  },
  {
   "cell_type": "code",
   "execution_count": 64,
   "metadata": {},
   "outputs": [
    {
     "name": "stdout",
     "output_type": "stream",
     "text": [
      "4\n",
      "[3 4 5 6]\n"
     ]
    }
   ],
   "source": [
    "print(a[4])\n",
    "#a[4]=4 \n",
    "print(a[3:7] )"
   ]
  },
  {
   "cell_type": "markdown",
   "metadata": {},
   "source": [
    "We can also _redefine_ array elements from slicing.  \n",
    "\n",
    "E.g."
   ]
  },
  {
   "cell_type": "code",
   "execution_count": 65,
   "metadata": {},
   "outputs": [
    {
     "name": "stdout",
     "output_type": "stream",
     "text": [
      "[ 0  1 12 12 12  5  6  7  8  9]\n"
     ]
    }
   ],
   "source": [
    "a[2:5]=12 \n",
    "aorig=a.copy() #this will be important a few cells below\n",
    "print(a)"
   ]
  },
  {
   "cell_type": "markdown",
   "metadata": {},
   "source": [
    "After that operation, ``a= array([ 0,  1, 12, 12, 12,  5,  6,  7,  8,  9])``.  As you can see, if you assign a scalar value to a slice, as in arr[2:5] = 12, the value is\n",
    "propagated (or broadcasted henceforth) to the entire selection. "
   ]
  },
  {
   "cell_type": "markdown",
   "metadata": {},
   "source": [
    "An important first distinction\n",
    "from Python’s built-in lists is that array slices are views on the original array.\n",
    "This means that the data is not copied, and any modifications to the view will be\n",
    "reflected in the source array."
   ]
  },
  {
   "cell_type": "markdown",
   "metadata": {},
   "source": [
    "To give an example of this, I first create a slice of arr:"
   ]
  },
  {
   "cell_type": "code",
   "execution_count": 66,
   "metadata": {},
   "outputs": [
    {
     "name": "stdout",
     "output_type": "stream",
     "text": [
      "arrslice is [12 12 12]\n",
      "and a is  [ 0  1 12 12 12  5  6  7  8  9]\n"
     ]
    }
   ],
   "source": [
    "arr_slice=a[2:5]\n",
    "print('arrslice is',arr_slice)\n",
    "print('and a is ',a)"
   ]
  },
  {
   "cell_type": "code",
   "execution_count": 67,
   "metadata": {},
   "outputs": [],
   "source": [
    "#arr2=a.copy()\n",
    "#arr_slice=arr2[2:5]\n",
    "#print(arr_slice)\n",
    "#which equals ``array([12,12,12])"
   ]
  },
  {
   "cell_type": "markdown",
   "metadata": {},
   "source": [
    "Now, when I change values in arr_slice, the mutations are reflected in the original\n",
    "array arr: "
   ]
  },
  {
   "cell_type": "code",
   "execution_count": 68,
   "metadata": {},
   "outputs": [
    {
     "name": "stdout",
     "output_type": "stream",
     "text": [
      "arrslice is [   12 12345    12]\n"
     ]
    }
   ],
   "source": [
    "arr_slice[1] = 12345\n",
    "print('arrslice is',arr_slice)"
   ]
  },
  {
   "cell_type": "markdown",
   "metadata": {},
   "source": [
    "then ``a=array([    0,     1,    12, 12345,    12,     5,     6,     7,  8, 9])``."
   ]
  },
  {
   "cell_type": "code",
   "execution_count": 69,
   "metadata": {},
   "outputs": [
    {
     "name": "stdout",
     "output_type": "stream",
     "text": [
      "a is  [    0     1    12 12345    12     5     6     7     8     9]\n"
     ]
    }
   ],
   "source": [
    "print('a is ',a)"
   ]
  },
  {
   "cell_type": "markdown",
   "metadata": {},
   "source": [
    "**CAUTION !!!** Now, this is a bit different than the form in other languages (e.g. IDL).   If you want a copy of a slice of an ndarray instead of a view, you will need to explicitly copy the array—for example, ``arr[2:5].copy()``."
   ]
  },
  {
   "cell_type": "code",
   "execution_count": 70,
   "metadata": {},
   "outputs": [
    {
     "name": "stdout",
     "output_type": "stream",
     "text": [
      "arr slice is [   12 12345    12]\n",
      "a(original) is [ 0  1 12 12 12  5  6  7  8  9]\n"
     ]
    }
   ],
   "source": [
    "arr2=aorig.copy()\n",
    "arr_slice=arr2[2:5]\n",
    "arr_slice[1]=12345\n",
    "print('arr slice is',arr_slice)\n",
    "print('a(original) is',aorig)"
   ]
  },
  {
   "cell_type": "markdown",
   "metadata": {},
   "source": [
    "#### _Higher Dimensional Slicing_\n",
    "\n",
    "With higher dimensional arrays, you have many more options. In a two-dimensional\n",
    "array, the elements at each index are no longer scalars but rather one-dimensional\n",
    "arrays:"
   ]
  },
  {
   "cell_type": "code",
   "execution_count": 71,
   "metadata": {},
   "outputs": [
    {
     "data": {
      "text/plain": [
       "array([7, 8, 9])"
      ]
     },
     "execution_count": 71,
     "metadata": {},
     "output_type": "execute_result"
    }
   ],
   "source": [
    "\n",
    "arr2d = np.array([[1, 2, 3], [4, 5, 6], [7, 8, 9]])\n",
    "arr2d[2]\n",
    "\n"
   ]
  },
  {
   "cell_type": "markdown",
   "metadata": {},
   "source": [
    "Thus, individual elements can be accessed recursively. But that is a bit too much\n",
    "work, so you can pass a comma-separated list of indices to select individual elements.\n",
    "So these are equivalent:"
   ]
  },
  {
   "cell_type": "code",
   "execution_count": 72,
   "metadata": {},
   "outputs": [
    {
     "name": "stdout",
     "output_type": "stream",
     "text": [
      "3\n",
      "3\n"
     ]
    }
   ],
   "source": [
    "#equivalent statements\n",
    "\n",
    "print(arr2d[0][2])\n",
    "print(arr2d[0,2])\n",
    "#both equal 3\n",
    "\n"
   ]
  },
  {
   "cell_type": "markdown",
   "metadata": {},
   "source": [
    "#### _Indexing with Slicing_\n",
    "\n",
    "Another example shows how indexing is treated with slicing for NumPy arrays."
   ]
  },
  {
   "cell_type": "code",
   "execution_count": 73,
   "metadata": {},
   "outputs": [
    {
     "name": "stdout",
     "output_type": "stream",
     "text": [
      "[[1 2 3]\n",
      " [4 5 6]]\n",
      "[[1 2 3]\n",
      " [4 5 6]]\n"
     ]
    }
   ],
   "source": [
    "\n",
    "arr2d = np.array([[1, 2, 3],[4, 5, 6],[7, 8, 9]])\n",
    "#array([[1, 2, 3],\n",
    "#[4, 5, 6]])\n",
    "print(arr2d[0:2,:]) #select the first two rows of arr2d\n",
    "print(arr2d[:2]) #same thing"
   ]
  },
  {
   "cell_type": "markdown",
   "metadata": {},
   "source": [
    "As you can see, it has sliced along axis 0, the first axis. A slice, therefore, selects a\n",
    "range of elements along an axis. It can be helpful to read the expression arr2d[:2] as\n",
    "“select the first two rows of arr2d.”\n",
    "\n",
    "You can pass multiple slices just like you can pass multiple indexes:\n",
    "\n",
    "``arr2d[:2, 1:]`` equals ``array([[2, 3],\n",
    "[5, 6]])``.  \n",
    "\n",
    "When slicing like this, you always obtain array views of the same number of dimensions.\n",
    "By mixing integer indexes and slices, you get lower dimensional slices.\n",
    "For example, I can select the second row but only the first two columns like so:\n",
    "``arr2d[1, :2]`` equals ``array([4, 5])``.  \n",
    "\n",
    "Similarly, I can select the third column but only the first two rows like so:\n",
    "``arr2d[:2, 2]`` equals ``array([3, 6])``.  "
   ]
  },
  {
   "cell_type": "markdown",
   "metadata": {},
   "source": [
    "Note that a colon by itself means to take the entire\n",
    "axis, so you can slice just the higher dimensional axes (i.e. slice on columns) as shown below"
   ]
  },
  {
   "cell_type": "code",
   "execution_count": 74,
   "metadata": {},
   "outputs": [
    {
     "data": {
      "text/plain": [
       "array([[1],\n",
       "       [4],\n",
       "       [7]])"
      ]
     },
     "execution_count": 74,
     "metadata": {},
     "output_type": "execute_result"
    }
   ],
   "source": [
    "arr2d[:,:1] #all rows, first column\n"
   ]
  },
  {
   "cell_type": "markdown",
   "metadata": {},
   "source": [
    "assigning to a slice expression assigns to the whole selection:\n",
    "\n",
    "e.g. ``arr2d[:2, 1:] = 0``"
   ]
  },
  {
   "cell_type": "code",
   "execution_count": 75,
   "metadata": {},
   "outputs": [
    {
     "data": {
      "text/plain": [
       "array([[1, 0, 0],\n",
       "       [4, 0, 0],\n",
       "       [7, 8, 9]])"
      ]
     },
     "execution_count": 75,
     "metadata": {},
     "output_type": "execute_result"
    }
   ],
   "source": [
    "arr2d[:2,1:] = 0\n",
    "\n",
    "arr2d"
   ]
  },
  {
   "cell_type": "markdown",
   "metadata": {},
   "source": [
    "#### _Slicing with Boolean Indexing_\n",
    "\n",
    "##### _One Way_\n",
    "\n",
    "Let’s consider an example where we have some data in a NumPy array and an array of names\n",
    "with duplicates. We use the randn function in ``numpy.random`` to generate\n",
    "some random normally distributed data:"
   ]
  },
  {
   "cell_type": "code",
   "execution_count": 76,
   "metadata": {},
   "outputs": [
    {
     "name": "stdout",
     "output_type": "stream",
     "text": [
      "[[ 0.40589606  0.86722511  0.88569683  0.71526261]\n",
      " [ 0.02744962  0.78309156  0.71081451  0.19107963]\n",
      " [-1.22753022  0.67518798  0.10034629 -1.28492231]\n",
      " [ 1.92246592  0.34639818 -0.11334612 -2.1924558 ]\n",
      " [ 0.22222781 -0.10281449  1.79768333 -0.00762204]\n",
      " [-1.83579966 -0.02168377 -0.96209171 -0.07363781]\n",
      " [ 1.33375547  0.40231607 -0.07758362 -1.13158048]]\n",
      "(7, 4)\n"
     ]
    }
   ],
   "source": [
    "\n",
    "names = np.array(['Bob', 'Joe', 'Will', 'Bob', 'Will', 'Joe', 'Joe'])\n",
    "data = np.random.randn(7,4)\n",
    "\n",
    "print(data)\n",
    "print(data.shape)"
   ]
  },
  {
   "cell_type": "markdown",
   "metadata": {},
   "source": [
    "Suppose each name corresponds to a row in the data array and we wanted to select\n",
    "all the rows with corresponding name 'Bob'. Like arithmetic operations, comparisons\n",
    "(such as ==) with arrays are also vectorized. Thus, comparing names with the\n",
    "string 'Bob' yields a boolean array:"
   ]
  },
  {
   "cell_type": "code",
   "execution_count": 77,
   "metadata": {},
   "outputs": [
    {
     "data": {
      "text/plain": [
       "array([ True, False, False,  True, False, False, False])"
      ]
     },
     "execution_count": 77,
     "metadata": {},
     "output_type": "execute_result"
    }
   ],
   "source": [
    "#``names == 'Bob'; array([ True, False, False,  True, False, False, False])``\n",
    "\n",
    "names == 'Bob'\n",
    "#nn=np.where(names == 'Bob')"
   ]
  },
  {
   "cell_type": "markdown",
   "metadata": {},
   "source": [
    "This boolean array can be passed when indexing the array:"
   ]
  },
  {
   "cell_type": "code",
   "execution_count": 78,
   "metadata": {},
   "outputs": [
    {
     "data": {
      "text/plain": [
       "array([[ 0.40589606,  0.86722511,  0.88569683,  0.71526261],\n",
       "       [ 1.92246592,  0.34639818, -0.11334612, -2.1924558 ]])"
      ]
     },
     "execution_count": 78,
     "metadata": {},
     "output_type": "execute_result"
    }
   ],
   "source": [
    "data[names == 'Bob']"
   ]
  },
  {
   "cell_type": "markdown",
   "metadata": {},
   "source": [
    "Note: the boolean array must be of the same length as the array axis it’s indexing. \n",
    "\n",
    "In these examples, I select from the rows where names == 'Bob' and index the columns,\n",
    "too:"
   ]
  },
  {
   "cell_type": "code",
   "execution_count": 79,
   "metadata": {},
   "outputs": [
    {
     "name": "stdout",
     "output_type": "stream",
     "text": [
      "[[ 0.88569683  0.71526261]\n",
      " [-0.11334612 -2.1924558 ]]\n"
     ]
    }
   ],
   "source": [
    "print(data[names == 'Bob', 2:])"
   ]
  },
  {
   "cell_type": "code",
   "execution_count": 80,
   "metadata": {},
   "outputs": [
    {
     "name": "stdout",
     "output_type": "stream",
     "text": [
      "[ 0.71526261 -2.1924558 ]\n"
     ]
    }
   ],
   "source": [
    "       \n",
    "print(data[names == 'Bob', 3])"
   ]
  },
  {
   "cell_type": "markdown",
   "metadata": {},
   "source": [
    "To select everything but 'Bob' for column 2, you can either use != or negate the condition using ``~``: e.g. ``data[names != 'Bob', 2:]`` or ``data[~(names == 'Bob'),2:]``."
   ]
  },
  {
   "cell_type": "code",
   "execution_count": 81,
   "metadata": {},
   "outputs": [
    {
     "name": "stdout",
     "output_type": "stream",
     "text": [
      "[[ 0.71081451  0.19107963]\n",
      " [ 0.10034629 -1.28492231]\n",
      " [ 1.79768333 -0.00762204]\n",
      " [-0.96209171 -0.07363781]\n",
      " [-0.07758362 -1.13158048]]\n",
      "\n",
      "[[ 0.71081451  0.19107963]\n",
      " [ 0.10034629 -1.28492231]\n",
      " [ 1.79768333 -0.00762204]\n",
      " [-0.96209171 -0.07363781]\n",
      " [-0.07758362 -1.13158048]]\n"
     ]
    }
   ],
   "source": [
    "noBob=data[names != 'Bob',2:]\n",
    "goawayBob = data[~(names == 'Bob'),2:]\n",
    "\n",
    "print(noBob)\n",
    "print('')\n",
    "print(goawayBob)"
   ]
  },
  {
   "cell_type": "markdown",
   "metadata": {},
   "source": [
    "Selecting two of the three names to combine multiple boolean conditions, use\n",
    "boolean arithmetic operators like ``&`` (and) and ``|`` (or):"
   ]
  },
  {
   "cell_type": "code",
   "execution_count": 82,
   "metadata": {},
   "outputs": [
    {
     "data": {
      "text/plain": [
       "array([[ 0.40589606,  0.86722511,  0.88569683,  0.71526261],\n",
       "       [-1.22753022,  0.67518798,  0.10034629, -1.28492231],\n",
       "       [ 1.92246592,  0.34639818, -0.11334612, -2.1924558 ],\n",
       "       [ 0.22222781, -0.10281449,  1.79768333, -0.00762204]])"
      ]
     },
     "execution_count": 82,
     "metadata": {},
     "output_type": "execute_result"
    }
   ],
   "source": [
    "mask = (names == 'Bob') | (names == 'Will')\n",
    "#data[mask]\n",
    "\n",
    "data[mask]\n",
    "#mask"
   ]
  },
  {
   "cell_type": "markdown",
   "metadata": {},
   "source": [
    "Setting values with boolean arrays works in a common-sense way. To set all of the\n",
    "negative values in data to 0 we need only do:"
   ]
  },
  {
   "cell_type": "code",
   "execution_count": 83,
   "metadata": {},
   "outputs": [
    {
     "name": "stdout",
     "output_type": "stream",
     "text": [
      "[[ 0.40589606  0.86722511  0.88569683  0.71526261]\n",
      " [ 0.02744962  0.78309156  0.71081451  0.19107963]\n",
      " [-1.22753022  0.67518798  0.10034629 -1.28492231]\n",
      " [ 1.92246592  0.34639818 -0.11334612 -2.1924558 ]\n",
      " [ 0.22222781 -0.10281449  1.79768333 -0.00762204]\n",
      " [-1.83579966 -0.02168377 -0.96209171 -0.07363781]\n",
      " [ 1.33375547  0.40231607 -0.07758362 -1.13158048]]\n"
     ]
    }
   ],
   "source": [
    "print(data)"
   ]
  },
  {
   "cell_type": "code",
   "execution_count": 84,
   "metadata": {},
   "outputs": [
    {
     "name": "stdout",
     "output_type": "stream",
     "text": [
      "\n",
      "[[0.40589606 0.86722511 0.88569683 0.71526261]\n",
      " [0.02744962 0.78309156 0.71081451 0.19107963]\n",
      " [0.         0.67518798 0.10034629 0.        ]\n",
      " [1.92246592 0.34639818 0.         0.        ]\n",
      " [0.22222781 0.         1.79768333 0.        ]\n",
      " [0.         0.         0.         0.        ]\n",
      " [1.33375547 0.40231607 0.         0.        ]]\n"
     ]
    }
   ],
   "source": [
    "data2=data.copy()\n",
    "data2[data<0]=0\n",
    "print('')\n",
    "print(data2)"
   ]
  },
  {
   "cell_type": "markdown",
   "metadata": {},
   "source": [
    "Setting whole rows or columns using a one-dimensional boolean array is also easy:"
   ]
  },
  {
   "cell_type": "code",
   "execution_count": 85,
   "metadata": {},
   "outputs": [
    {
     "data": {
      "text/plain": [
       "array([[ 0.40589606,  0.86722511,  0.88569683,  0.71526261],\n",
       "       [-1.22753022,  0.67518798,  0.10034629, -1.28492231],\n",
       "       [ 1.92246592,  0.34639818, -0.11334612, -2.1924558 ],\n",
       "       [ 0.22222781, -0.10281449,  1.79768333, -0.00762204]])"
      ]
     },
     "execution_count": 85,
     "metadata": {},
     "output_type": "execute_result"
    }
   ],
   "source": [
    "data[names != 'Joe']"
   ]
  },
  {
   "cell_type": "markdown",
   "metadata": {},
   "source": [
    "##### _Boolean Slicing with np.where_\n",
    "\n",
    "Another way to do very complex slicing is with the ``where`` function (e.g. ``np.where[set of boolean conditions]``).   E.g. you can write the previous slicing as:"
   ]
  },
  {
   "cell_type": "code",
   "execution_count": 86,
   "metadata": {},
   "outputs": [
    {
     "name": "stdout",
     "output_type": "stream",
     "text": [
      "[[ 0.40589606  0.86722511  0.88569683  0.71526261]\n",
      " [ 0.02744962  0.78309156  0.71081451  0.19107963]\n",
      " [-1.22753022  0.67518798  0.10034629 -1.28492231]\n",
      " [ 1.92246592  0.34639818 -0.11334612 -2.1924558 ]\n",
      " [ 0.22222781 -0.10281449  1.79768333 -0.00762204]\n",
      " [-1.83579966 -0.02168377 -0.96209171 -0.07363781]\n",
      " [ 1.33375547  0.40231607 -0.07758362 -1.13158048]]\n"
     ]
    }
   ],
   "source": [
    "#let's go back to our original data array...\n",
    "data3=data.copy()\n",
    "print(data)"
   ]
  },
  {
   "cell_type": "code",
   "execution_count": 87,
   "metadata": {},
   "outputs": [
    {
     "data": {
      "text/plain": [
       "array([[ 7.        ,  7.        ,  7.        ,  7.        ],\n",
       "       [ 0.02744962,  0.78309156,  0.71081451,  0.19107963],\n",
       "       [ 7.        ,  7.        ,  7.        ,  7.        ],\n",
       "       [ 7.        ,  7.        ,  7.        ,  7.        ],\n",
       "       [ 7.        ,  7.        ,  7.        ,  7.        ],\n",
       "       [-1.83579966, -0.02168377, -0.96209171, -0.07363781],\n",
       "       [ 1.33375547,  0.40231607, -0.07758362, -1.13158048]])"
      ]
     },
     "execution_count": 87,
     "metadata": {},
     "output_type": "execute_result"
    }
   ],
   "source": [
    "bad=np.where(names != 'Joe')\n",
    "data3[bad]=7\n",
    "data3"
   ]
  },
  {
   "cell_type": "markdown",
   "metadata": {},
   "source": [
    "The ``where`` function allows for highly complex slicing.   E.g."
   ]
  },
  {
   "cell_type": "code",
   "execution_count": 88,
   "metadata": {},
   "outputs": [
    {
     "data": {
      "text/plain": [
       "array([[ 0.40589606,  0.86722511,  0.88569683,  0.71526261],\n",
       "       [ 0.02744962,  0.78309156,  0.71081451,  0.19107963],\n",
       "       [-1.22753022,  0.67518798,  0.10034629, -1.28492231],\n",
       "       [ 1.92246592,  0.34639818, -0.11334612, -2.1924558 ],\n",
       "       [ 0.22222781, -0.10281449,  1.79768333, -0.00762204],\n",
       "       [-1.83579966, -0.02168377, -0.96209171, -0.07363781],\n",
       "       [ 1.33375547,  0.40231607, -0.07758362, -1.13158048]])"
      ]
     },
     "execution_count": 88,
     "metadata": {},
     "output_type": "execute_result"
    }
   ],
   "source": [
    "data4=data.copy()\n",
    "data4"
   ]
  },
  {
   "cell_type": "code",
   "execution_count": 89,
   "metadata": {},
   "outputs": [
    {
     "data": {
      "text/plain": [
       "array([[ 9.        ,  9.        ,  9.        ,  9.        ],\n",
       "       [ 0.02744962,  0.78309156,  0.71081451,  0.19107963],\n",
       "       [ 9.        ,  9.        ,  9.        ,  9.        ],\n",
       "       [ 9.        ,  9.        ,  9.        ,  9.        ],\n",
       "       [ 9.        ,  9.        ,  9.        ,  9.        ],\n",
       "       [-1.83579966, -0.02168377, -0.96209171, -0.07363781],\n",
       "       [ 1.33375547,  0.40231607, -0.07758362, -1.13158048]])"
      ]
     },
     "execution_count": 89,
     "metadata": {},
     "output_type": "execute_result"
    }
   ],
   "source": [
    "bad=np.where( (names == 'Will') | ( (data4[:,0] > 0) & (names == 'Bob')))\n",
    "data4[bad]=9\n",
    "data4"
   ]
  },
  {
   "cell_type": "code",
   "execution_count": 90,
   "metadata": {},
   "outputs": [
    {
     "name": "stdout",
     "output_type": "stream",
     "text": [
      "[ 0.40589606  0.02744962 -1.22753022  1.92246592  0.22222781 -1.83579966\n",
      "  1.33375547]\n",
      "[ 9.          0.02744962  9.          9.          9.         -1.83579966\n",
      "  1.33375547]\n"
     ]
    }
   ],
   "source": [
    "print(data[:,0])\n",
    "print(data4[:,0])"
   ]
  },
  {
   "cell_type": "markdown",
   "metadata": {},
   "source": [
    "##### _Expressing Conditional Logic as Array Operations with np.where_\n",
    "\n",
    "Where can do even more complex operations.  Essentially it is a vectorized version of the ternary expression ``x if condition else y``.   Before, we were just using it as ``x if condition`` just to find indexes of an array.   Now we can use it to do more complex operations.\n",
    "\n",
    "E.g. say we have two arrays of values and a boolean array:"
   ]
  },
  {
   "cell_type": "code",
   "execution_count": 91,
   "metadata": {},
   "outputs": [],
   "source": [
    "\n",
    "xarr = np.array([1.1, 1.2, 1.3, 1.4, 1.5])\n",
    "yarr = np.array([2.1, 2.2, 2.3, 2.4, 2.5])\n",
    "cond = np.array([True, False, True, True, False])\n",
    "\n"
   ]
  },
  {
   "cell_type": "markdown",
   "metadata": {},
   "source": [
    "Suppose we wanted to take a value from xarr whenever the corresponding value in\n",
    "cond is True, and otherwise take the value from yarr. A list comprehension doing\n",
    "this might look like:\n",
    "\n",
    "```\n",
    "result = [(x if c else y)\n",
    " for x, y, c in zip(xarr, yarr, cond)]\n",
    "\n",
    "```"
   ]
  },
  {
   "cell_type": "markdown",
   "metadata": {},
   "source": [
    "For our simple example, this is fine but it is slow for large arrays and hard to pull off for multi-dimensional arrays.  ``np.where`` is the solution:"
   ]
  },
  {
   "cell_type": "code",
   "execution_count": 92,
   "metadata": {},
   "outputs": [
    {
     "data": {
      "text/plain": [
       "array([1.1, 2.2, 1.3, 1.4, 2.5])"
      ]
     },
     "execution_count": 92,
     "metadata": {},
     "output_type": "execute_result"
    }
   ],
   "source": [
    "result = np.where(cond, xarr, yarr)\n",
    "#array([ 1.1, 2.2, 1.3, 1.4, 2.5])\n",
    "result"
   ]
  },
  {
   "cell_type": "markdown",
   "metadata": {},
   "source": [
    "Another example:"
   ]
  },
  {
   "cell_type": "code",
   "execution_count": 93,
   "metadata": {},
   "outputs": [
    {
     "name": "stdout",
     "output_type": "stream",
     "text": [
      "[[ 0.40589606  0.86722511  0.88569683  0.71526261]\n",
      " [ 0.02744962  0.78309156  0.71081451  0.19107963]\n",
      " [-1.22753022  0.67518798  0.10034629 -1.28492231]\n",
      " [ 1.92246592  0.34639818 -0.11334612 -2.1924558 ]\n",
      " [ 0.22222781 -0.10281449  1.79768333 -0.00762204]\n",
      " [-1.83579966 -0.02168377 -0.96209171 -0.07363781]\n",
      " [ 1.33375547  0.40231607 -0.07758362 -1.13158048]]\n"
     ]
    }
   ],
   "source": [
    "data3=data.copy()\n",
    "print(data3)"
   ]
  },
  {
   "cell_type": "code",
   "execution_count": 94,
   "metadata": {},
   "outputs": [
    {
     "name": "stdout",
     "output_type": "stream",
     "text": [
      "[[ 0.40589606  0.86722511  0.88569683  0.71526261]\n",
      " [ 0.02744962  0.78309156  0.71081451  0.19107963]\n",
      " [-1.22753022  0.67518798  0.10034629 -1.28492231]\n",
      " [ 1.92246592  0.34639818 -0.11334612 -2.1924558 ]\n",
      " [ 0.22222781 -0.10281449  1.79768333 -0.00762204]\n",
      " [-1.83579966 -0.02168377 -0.96209171 -0.07363781]\n",
      " [ 1.33375547  0.40231607 -0.07758362 -1.13158048]]\n",
      "\n",
      "[[0.40589606 0.86722511 0.88569683 0.71526261]\n",
      " [0.02744962 0.78309156 0.71081451 0.19107963]\n",
      " [1.22753022 0.67518798 0.10034629 1.28492231]\n",
      " [1.92246592 0.34639818 0.11334612 2.1924558 ]\n",
      " [0.22222781 0.10281449 1.79768333 0.00762204]\n",
      " [1.83579966 0.02168377 0.96209171 0.07363781]\n",
      " [1.33375547 0.40231607 0.07758362 1.13158048]]\n",
      "\n",
      "[[0.40589606 0.86722511 0.88569683 0.71526261]\n",
      " [0.02744962 0.78309156 0.71081451 0.19107963]\n",
      " [1.22753022 0.67518798 0.10034629 1.28492231]\n",
      " [1.92246592 0.34639818 0.11334612 2.1924558 ]\n",
      " [0.22222781 0.10281449 1.79768333 0.00762204]\n",
      " [1.83579966 0.02168377 0.96209171 0.07363781]\n",
      " [1.33375547 0.40231607 0.07758362 1.13158048]]\n"
     ]
    }
   ],
   "source": [
    "good=data3 > 0\n",
    "data3c=np.where(good,data3,-1*data3)\n",
    "print(data3)\n",
    "print('')\n",
    "print(data3c)\n",
    "print('')\n",
    "print(np.abs(data3))"
   ]
  },
  {
   "cell_type": "markdown",
   "metadata": {},
   "source": [
    "### Array Shapes and Reshaping\n",
    "\n",
    "NumPy arrays have given dimensions: the ``shape`` of a NumPy array distinguishes vectors or matrices of different sizes.   The attribute ``.shape`` for a NumPy array returns its dimensionality in the form of a tuple of its dimensions.   "
   ]
  },
  {
   "cell_type": "markdown",
   "metadata": {},
   "source": [
    "E.g. for the matrix ``a=np.array([[3,4,5],[6,7,8]])`` the shape can be returned from ``a.shape #yields (2,3)``. "
   ]
  },
  {
   "cell_type": "code",
   "execution_count": 95,
   "metadata": {},
   "outputs": [
    {
     "name": "stdout",
     "output_type": "stream",
     "text": [
      "(2, 3)\n",
      "2\n",
      "3\n"
     ]
    }
   ],
   "source": [
    "a=np.array([[3,4,5],[6,7,8]])\n",
    "\n",
    "print(a.shape)\n",
    "\n",
    "print(a.shape[0]) #how many rows?\n",
    "print(a.shape[1]) #how many columns?\n"
   ]
  },
  {
   "cell_type": "markdown",
   "metadata": {},
   "source": [
    "A vector returns ``([number],)``: e.g. ``a=np.array([3,4,5,6,7,8])`` returns as ``a.shape #(6,)``."
   ]
  },
  {
   "cell_type": "code",
   "execution_count": 96,
   "metadata": {},
   "outputs": [
    {
     "name": "stdout",
     "output_type": "stream",
     "text": [
      "(6,)\n"
     ]
    }
   ],
   "source": [
    "a=np.array([3,4,5,6,7,8])\n",
    "print(a.shape)\n"
   ]
  },
  {
   "cell_type": "markdown",
   "metadata": {},
   "source": [
    "#### _reshape_\n",
    "\n",
    "We can give a view of the array where we change the dimensions of the array while keeping the same number of elements with the ``.reshape`` function.\n",
    "\n",
    "E.g. for ``arr=np.array([8,6,7,5,3,0])`` we can reshape it as ``arr.reshape(2,3)``, which returns ``array([[8, 6, 7],[5, 3, 0]])``.  \n",
    "       "
   ]
  },
  {
   "cell_type": "code",
   "execution_count": 100,
   "metadata": {},
   "outputs": [
    {
     "data": {
      "text/plain": [
       "array([[8, 6, 7],\n",
       "       [5, 3, 0]])"
      ]
     },
     "execution_count": 100,
     "metadata": {},
     "output_type": "execute_result"
    }
   ],
   "source": [
    "arr=np.array([8,6,7,5,3,0]) # a vector\n",
    "arr.reshape(2,3) #reshaped into a 2D array\n"
   ]
  },
  {
   "cell_type": "markdown",
   "metadata": {},
   "source": [
    "       Figure 4.2 in Fuhrer gives a nice overview of what happens when you ``reshape`` an array different ways.   E.g. for ``arr`` in the above example, we get the following results from different reshapings:\n",
    "       "
   ]
  },
  {
   "cell_type": "code",
   "execution_count": 104,
   "metadata": {},
   "outputs": [
    {
     "name": "stdout",
     "output_type": "stream",
     "text": [
      "[[8 6 7 5 3 0]]\n",
      "(1, 6)\n"
     ]
    }
   ],
   "source": [
    "arr=np.array([8,6,7,5,3,0])\n",
    "\n",
    "print(arr.reshape(1,6))\n",
    "#yields array([[8, 6, 7, 5, 3, 0]]) ... i.e. the same as before\n",
    "\n",
    "reshapedarr=arr.reshape(1,6)\n",
    "print(reshapedarr.shape)"
   ]
  },
  {
   "cell_type": "code",
   "execution_count": 105,
   "metadata": {},
   "outputs": [
    {
     "data": {
      "text/plain": [
       "array([[8],\n",
       "       [6],\n",
       "       [7],\n",
       "       [5],\n",
       "       [3],\n",
       "       [0]])"
      ]
     },
     "execution_count": 105,
     "metadata": {},
     "output_type": "execute_result"
    }
   ],
   "source": [
    "arr.reshape(6,1)\n",
    "#yields a column matrix\n",
    "#array([[8],\n",
    "#       [6],\n",
    "#       [7],\n",
    "#       [5],\n",
    "#       [3],\n",
    "#       [0]])"
   ]
  },
  {
   "cell_type": "code",
   "execution_count": 106,
   "metadata": {},
   "outputs": [
    {
     "data": {
      "text/plain": [
       "array([[8, 6, 7],\n",
       "       [5, 3, 0]])"
      ]
     },
     "execution_count": 106,
     "metadata": {},
     "output_type": "execute_result"
    }
   ],
   "source": [
    "arr.reshape(2,3)\n",
    "#yields \n",
    "#array([[8, 6, 7],\n",
    "#       [5, 3, 0]])"
   ]
  },
  {
   "cell_type": "code",
   "execution_count": 107,
   "metadata": {},
   "outputs": [
    {
     "data": {
      "text/plain": [
       "array([[8, 6],\n",
       "       [7, 5],\n",
       "       [3, 0]])"
      ]
     },
     "execution_count": 107,
     "metadata": {},
     "output_type": "execute_result"
    }
   ],
   "source": [
    "arr.reshape(3,2)\n",
    "#yields\n",
    "#array([[8, 6],\n",
    "#       [7, 5],\n",
    "#       [3, 0]])    "
   ]
  },
  {
   "cell_type": "markdown",
   "metadata": {},
   "source": [
    "Now say you have an array of some dimensions and you want to reshape it so it has, say, two columns and \"some\" number of rows but that you don't know the number of rows beforehand, or vice versa.   I.e. you specify one shape but want Python to specify (er, _compute_) the other one.  You can let Python determine this by setting the second parameter to ``-1``.   E.g. "
   ]
  },
  {
   "cell_type": "code",
   "execution_count": 108,
   "metadata": {},
   "outputs": [
    {
     "name": "stdout",
     "output_type": "stream",
     "text": [
      "the vshape is (8,)\n"
     ]
    },
    {
     "data": {
      "text/plain": [
       "(2, 4)"
      ]
     },
     "execution_count": 108,
     "metadata": {},
     "output_type": "execute_result"
    }
   ],
   "source": [
    "v=np.array([1,2,3,4,5,6,7,8])\n",
    "print('the vshape is',v.shape)\n",
    "M=v.reshape(2,-1)\n",
    "M.shape\n",
    "#returns (2,4)"
   ]
  },
  {
   "cell_type": "code",
   "execution_count": 109,
   "metadata": {},
   "outputs": [
    {
     "data": {
      "text/plain": [
       "(4, 2)"
      ]
     },
     "execution_count": 109,
     "metadata": {},
     "output_type": "execute_result"
    }
   ],
   "source": [
    "M=v.reshape(-1,2)\n",
    "M.shape\n",
    "#returns (4,2)"
   ]
  },
  {
   "cell_type": "markdown",
   "metadata": {},
   "source": [
    "#### _Transpose_\n",
    "\n",
    "A special form of reshaping used often in linear algebra is _**transposing**_, which shwithces the two shape elements of the matrix (e.g. columns--> rows; rows--> columns).    The transpose of a matrix _**A**_ is a matrix _**B**_ such that:\n",
    "_B <sub>ij</sub>_ = _B <sub>ji</sub>_ .\n",
    "\n",
    "The simplest to do a transpose with a NumPy array is ...  ``array.T``, e.g. for a matrix A, the transpose B is ``B= A.T``.   An alternative way is with the ``np.transpose()`` operation: e.g. ``B=np.transpose(A)``.\n",
    "\n",
    "Note that transposing just returns a view of the array: it does not copy.\n",
    "\n",
    "Array transposing becomes very useful later when we try to do matrix operations.   E.g. when computing the inner matrix product using ``np.dot``:"
   ]
  },
  {
   "cell_type": "code",
   "execution_count": 110,
   "metadata": {},
   "outputs": [
    {
     "name": "stdout",
     "output_type": "stream",
     "text": [
      "(4, 3)\n",
      "[[ 1  4  7 10]\n",
      " [ 2  5  8 11]\n",
      " [ 3  6  9 12]]\n",
      "(3, 4)\n"
     ]
    }
   ],
   "source": [
    "a=np.array([[1,2,3],[4,5,6],[7,8,9],[10,11,12]])\n",
    "print(a.shape)\n",
    "print(a.T)\n",
    "b=a.T\n",
    "print(b.shape)"
   ]
  },
  {
   "cell_type": "code",
   "execution_count": 112,
   "metadata": {},
   "outputs": [
    {
     "name": "stdout",
     "output_type": "stream",
     "text": [
      "a is [[ 1  2  3]\n",
      " [ 4  5  6]\n",
      " [ 7  8  9]\n",
      " [10 11 12]]\n",
      "the transpose of a is [[ 1  4  7 10]\n",
      " [ 2  5  8 11]\n",
      " [ 3  6  9 12]]\n",
      "\n",
      "[[ 14  32  50  68]\n",
      " [ 32  77 122 167]\n",
      " [ 50 122 194 266]\n",
      " [ 68 167 266 365]]\n"
     ]
    },
    {
     "data": {
      "text/plain": [
       "(4, 4)"
      ]
     },
     "execution_count": 112,
     "metadata": {},
     "output_type": "execute_result"
    }
   ],
   "source": [
    "print('a is',a)\n",
    "print('the transpose of a is',a.T)\n",
    "print('')\n",
    "result1=np.dot(a,a.T)\n",
    "print(result1)\n",
    "\n",
    "result1.shape\n",
    "#(4,4)"
   ]
  },
  {
   "cell_type": "code",
   "execution_count": 113,
   "metadata": {},
   "outputs": [
    {
     "name": "stdout",
     "output_type": "stream",
     "text": [
      "[[166 188 210]\n",
      " [188 214 240]\n",
      " [210 240 270]]\n"
     ]
    },
    {
     "data": {
      "text/plain": [
       "(3, 3)"
      ]
     },
     "execution_count": 113,
     "metadata": {},
     "output_type": "execute_result"
    }
   ],
   "source": [
    "result2=np.dot(a.T,a)\n",
    "print(result2)\n",
    "\n",
    "result2.shape\n",
    "#(3, 3)\n",
    "\n",
    " "
   ]
  },
  {
   "cell_type": "markdown",
   "metadata": {},
   "source": [
    "#### _flatten_ and _ravel_\n",
    "\n",
    "With ``reshape`` we have found a way to convert a 1-D vector into 2-D matrix: i.e. reshape-ing an array to a higher dimension.  We can also do the opposite -- converting a 2+D array into a 1-D vector -- using the ``flatten`` or ``ravel`` function.   These two functions largely do the same thing (as described above).  \n",
    "\n",
    "There are some key differences between these two, mainly on that ``flatten`` returns a copy of an array while ``ravel`` returns a view: these are described in more detail [here](https://www.naukri.com/code360/library/difference-between-flatten-and-ravel-functions-in-numpy) [what's the difference between a copy and a view? see [here](https://www.w3schools.com/python/numpy/numpy_copy_vs_view.asp) .\n",
    "\n",
    "Here are examples of ``flatten`` and ``ravel`` in action:"
   ]
  },
  {
   "cell_type": "code",
   "execution_count": 114,
   "metadata": {},
   "outputs": [
    {
     "name": "stdout",
     "output_type": "stream",
     "text": [
      "[[ 0  1  2]\n",
      " [ 3  4  5]\n",
      " [ 6  7  8]\n",
      " [ 9 10 11]\n",
      " [12 13 14]]\n",
      "(5, 3)\n"
     ]
    }
   ],
   "source": [
    "arr = np.arange(15).reshape((5, 3))\n",
    "arr\n",
    "#array([[ 0, 1, 2],\n",
    "#[ 3, 4, 5],\n",
    "#[ 6, 7, 8],\n",
    "#[ 9, 10, 11],\n",
    "#[12, 13, 14]])\n",
    "print(arr)\n",
    "print(arr.shape)"
   ]
  },
  {
   "cell_type": "code",
   "execution_count": 115,
   "metadata": {},
   "outputs": [
    {
     "name": "stdout",
     "output_type": "stream",
     "text": [
      "[ 0  1  2  3  4  5  6  7  8  9 10 11 12 13 14]\n",
      "(15,)\n"
     ]
    }
   ],
   "source": [
    "print(arr.flatten())\n",
    "#array([ 0,  1,  2,  3,  4,  5,  6,  7,  8,  9, 10, 11, 12, 13, 14])\n",
    "\n",
    "flatarr=arr.flatten()\n",
    "print(flatarr.shape)"
   ]
  },
  {
   "cell_type": "code",
   "execution_count": 116,
   "metadata": {},
   "outputs": [
    {
     "name": "stdout",
     "output_type": "stream",
     "text": [
      "[[ 0  1  2]\n",
      " [ 3  4  5]\n",
      " [ 6  7  8]\n",
      " [ 9 10 11]\n",
      " [12 13 14]]\n",
      "[ 0  1  2  3  4  5  6  7  8  9 10 11 12 13 14]\n",
      "(15,)\n"
     ]
    }
   ],
   "source": [
    "print(arr)\n",
    "print(arr.ravel())\n",
    "#array([ 0,  1,  2,  3,  4,  5,  6,  7,  8,  9, 10, 11, 12, 13, 14])\n",
    "\n",
    "#print(arr)\n",
    "ravarr=arr.ravel()\n",
    "print(ravarr.shape)"
   ]
  },
  {
   "cell_type": "markdown",
   "metadata": {},
   "source": [
    "A short caveat ... Note that data can be reshaped or raveled in different orders.   One order is \"row-major\" order, where values within each row of data are stored in adjacent memory locations (you traverse higher dimensions first).  The alternative to row major ordering is column major\n",
    "order, which means that values within each column of data are stored in adjacent\n",
    "memory locations (you traverse higher dimensions last).   \"Row major\" order is traditionally known as \"C order\" and \"column major\" order is traditionally known as \"Fortran order\".  \n",
    "\n",
    "By default, NumPy arrays are created in _row major_ order.  But both ``ravel`` and ``flatten`` have an order keyword that allows you to switch to _column major_ order.   E.g."
   ]
  },
  {
   "cell_type": "code",
   "execution_count": 117,
   "metadata": {},
   "outputs": [
    {
     "data": {
      "text/plain": [
       "array([[ 0,  1,  2,  3],\n",
       "       [ 4,  5,  6,  7],\n",
       "       [ 8,  9, 10, 11]])"
      ]
     },
     "execution_count": 117,
     "metadata": {},
     "output_type": "execute_result"
    }
   ],
   "source": [
    "\n",
    "arr = np.arange(12).reshape((3, 4))\n",
    "arr\n",
    "#array([[ 0, 1, 2, 3],\n",
    "#[ 4, 5, 6, 7],\n",
    "#[ 8, 9, 10, 11]])"
   ]
  },
  {
   "cell_type": "code",
   "execution_count": 118,
   "metadata": {},
   "outputs": [
    {
     "name": "stdout",
     "output_type": "stream",
     "text": [
      "[ 0  1  2  3  4  5  6  7  8  9 10 11]\n"
     ]
    }
   ],
   "source": [
    "print(arr.ravel()) #default ordering\n",
    "#array([ 0, 1, 2, 3, 4, 5, 6, 7, 8, 9, 10, 11])"
   ]
  },
  {
   "cell_type": "code",
   "execution_count": 119,
   "metadata": {},
   "outputs": [
    {
     "name": "stdout",
     "output_type": "stream",
     "text": [
      "[ 0  4  8  1  5  9  2  6 10  3  7 11]\n"
     ]
    }
   ],
   "source": [
    "print(arr.ravel('F'))\n",
    "#array([ 0, 4, 8, 1, 5, 9, 2, 6, 10, 3, 7, 11])"
   ]
  },
  {
   "cell_type": "markdown",
   "metadata": {},
   "source": [
    "### The Axis Keyword\n",
    "\n",
    "Before proceeding to the next section, it's worth highlighting a particularly important keyword for many NumPy functions, since it crops up everwhere: ``axis``.   Usually this is invoked as ``np.[functionname](array,axis=[some number])``.   Basically it means \"apply the vectorized NumPy function only along a given axis instead of for the array as a whole\"\n",
    "\n",
    "You will immediately see that this is extremely powerful.   \n",
    "\n",
    "For example..."
   ]
  },
  {
   "cell_type": "code",
   "execution_count": 120,
   "metadata": {},
   "outputs": [
    {
     "name": "stdout",
     "output_type": "stream",
     "text": [
      "[[ 1.25404828 -1.21158956  0.77471602 -1.41630308]\n",
      " [ 1.03968733 -0.37577578  0.61493572  0.06539048]\n",
      " [ 0.26268274  0.52187969 -1.53181993  1.3562622 ]\n",
      " [-0.7617328  -1.74497529  1.04352762  0.86671567]\n",
      " [-0.91580321 -0.90628153  0.47431567  0.39020102]]\n"
     ]
    }
   ],
   "source": [
    "arr = np.random.randn(5, 4)\n",
    "print(arr)"
   ]
  },
  {
   "cell_type": "code",
   "execution_count": 121,
   "metadata": {},
   "outputs": [
    {
     "name": "stdout",
     "output_type": "stream",
     "text": [
      "the shape is  (5, 4)\n",
      "\n"
     ]
    }
   ],
   "source": [
    "print('the shape is ',arr.shape)\n",
    "print('')"
   ]
  },
  {
   "cell_type": "code",
   "execution_count": 122,
   "metadata": {},
   "outputs": [
    {
     "name": "stdout",
     "output_type": "stream",
     "text": [
      "\n",
      "-0.19991873969783025\n",
      "\n"
     ]
    }
   ],
   "source": [
    "arr2=np.sum(arr)\n",
    "print('')\n",
    "print(arr2)\n",
    "print('')"
   ]
  },
  {
   "cell_type": "code",
   "execution_count": 123,
   "metadata": {},
   "outputs": [
    {
     "name": "stdout",
     "output_type": "stream",
     "text": [
      "[ 0.87888234 -3.71674246  1.3756751   1.26226628]\n"
     ]
    }
   ],
   "source": [
    "arr2=np.sum(arr,axis=0)\n",
    "print(arr2)"
   ]
  },
  {
   "cell_type": "code",
   "execution_count": 124,
   "metadata": {},
   "outputs": [
    {
     "name": "stdout",
     "output_type": "stream",
     "text": [
      "\n",
      "[-0.59912834  1.34423776  0.6090047  -0.5964648  -0.95756806]\n"
     ]
    }
   ],
   "source": [
    "print('')\n",
    "arr2=np.sum(arr,axis=1)\n",
    "print(arr2)"
   ]
  },
  {
   "cell_type": "markdown",
   "metadata": {},
   "source": [
    "In this case, for \"axis=0\", NumPy performs a sum over _each row in a column_.  Since there are 4 columns, the shape and len of the resulting array ``arr2`` is (4,) and 4, respectively.   For \"axis=1\", NumPy performs a sum over _each column in a row_.   "
   ]
  },
  {
   "cell_type": "markdown",
   "metadata": {},
   "source": [
    "Here's another example with the same array"
   ]
  },
  {
   "cell_type": "code",
   "execution_count": 125,
   "metadata": {},
   "outputs": [
    {
     "name": "stdout",
     "output_type": "stream",
     "text": [
      "[[ 0.91929859  0.80637816 -0.77191721  2.00102014]\n",
      " [ 1.02854473  0.56368626  0.26335452  0.51414762]\n",
      " [ 0.48126066 -0.00775359  0.36964142  0.04152267]\n",
      " [ 2.85974185 -0.91882971  0.15412471 -0.6877118 ]\n",
      " [-0.64358262 -1.72338378 -1.83544741 -2.42249038]]\n",
      "0.20873961526263515\n",
      "[ 0.91929859 -0.00775359  0.15412471  0.04152267]\n",
      "[ 0.86283837  0.53891694  0.20558205 -0.26679355 -1.77941559]\n"
     ]
    }
   ],
   "source": [
    "\n",
    "arr = np.random.randn(5, 4)\n",
    "print(arr)\n",
    "\n",
    "arr2=np.median(arr)\n",
    "print(arr2)\n",
    "\n",
    "arr2=np.median(arr,axis=0)\n",
    "print(arr2)\n",
    "\n",
    "arr2=np.median(arr,axis=1)\n",
    "print(arr2)\n",
    "\n"
   ]
  },
  {
   "cell_type": "markdown",
   "metadata": {},
   "source": [
    "You can also call combinations of axes: e.g. ``np.median(array,axis=[0,1])``."
   ]
  },
  {
   "cell_type": "code",
   "execution_count": null,
   "metadata": {},
   "outputs": [],
   "source": []
  },
  {
   "cell_type": "code",
   "execution_count": null,
   "metadata": {},
   "outputs": [],
   "source": []
  },
  {
   "cell_type": "code",
   "execution_count": null,
   "metadata": {},
   "outputs": [],
   "source": []
  },
  {
   "cell_type": "code",
   "execution_count": null,
   "metadata": {},
   "outputs": [],
   "source": []
  },
  {
   "cell_type": "code",
   "execution_count": null,
   "metadata": {},
   "outputs": [],
   "source": []
  },
  {
   "cell_type": "code",
   "execution_count": null,
   "metadata": {},
   "outputs": [],
   "source": []
  },
  {
   "cell_type": "code",
   "execution_count": null,
   "metadata": {},
   "outputs": [],
   "source": []
  },
  {
   "cell_type": "code",
   "execution_count": null,
   "metadata": {},
   "outputs": [],
   "source": []
  },
  {
   "cell_type": "code",
   "execution_count": null,
   "metadata": {},
   "outputs": [],
   "source": []
  }
 ],
 "metadata": {
  "kernelspec": {
   "display_name": "Python 3 (ipykernel)",
   "language": "python",
   "name": "python3"
  },
  "language_info": {
   "codemirror_mode": {
    "name": "ipython",
    "version": 3
   },
   "file_extension": ".py",
   "mimetype": "text/x-python",
   "name": "python",
   "nbconvert_exporter": "python",
   "pygments_lexer": "ipython3",
   "version": "3.12.4"
  }
 },
 "nbformat": 4,
 "nbformat_minor": 4
}
