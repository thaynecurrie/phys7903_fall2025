{
 "cells": [
  {
   "cell_type": "markdown",
   "metadata": {},
   "source": [
    "# _Python for Scientific Data Analysis_\n",
    "\n",
    "# Data Structures\n",
    "\n",
    "## Section 3: Sequence Functions, Comprehensions, and Lambda Functions\n",
    "\n",
    "Section 5 of the **_Basic Python_** Module describes the fundamentals of for-loops and while-loops.   There, the standard way to construct the loop is with the ``range`` function, which makes Python similar to looping in other languages like C, Fortran, or IDL (e.g. in IDL, ``for i=[min],[max] do begin; endfor``).   But unlike these, Python has another set of _sequence\\_functions_ and _comprehensions_ to make looping far more powerful and sleeker. "
   ]
  },
  {
   "cell_type": "markdown",
   "metadata": {},
   "source": [
    "### Sequence Functions\n",
    "\n",
    "#### _enumerate_ \n",
    "\n",
    "_Motivation_"
   ]
  },
  {
   "cell_type": "markdown",
   "metadata": {},
   "source": [
    "It’s common when iterating over a sequence to want to keep track of the index of the\n",
    "current item. A do-it-yourself approach would look like:"
   ]
  },
  {
   "cell_type": "code",
   "execution_count": 1,
   "metadata": {},
   "outputs": [
    {
     "name": "stdout",
     "output_type": "stream",
     "text": [
      "0 110\n",
      "1 120\n",
      "2 130\n",
      "3 140\n"
     ]
    }
   ],
   "source": [
    "\n",
    "collection=[11,12,13,14]\n",
    "i = 0\n",
    "\n",
    "for value in collection:\n",
    " result=value*10\n",
    " print(i,result)\n",
    " #prints\n",
    " #0 110\n",
    " #1 120\n",
    " #2 130\n",
    " #3 140\n",
    " \n",
    " i += 1 #advance the index\n"
   ]
  },
  {
   "cell_type": "markdown",
   "metadata": {},
   "source": [
    "Advancing the index manually by ``+=1`` is cumbersome to many,though. And a common coding mistake is to not update indexes properly at all.   E.g. "
   ]
  },
  {
   "cell_type": "code",
   "execution_count": 2,
   "metadata": {},
   "outputs": [
    {
     "name": "stdout",
     "output_type": "stream",
     "text": [
      "0 110\n",
      "0 120\n",
      "0 130\n",
      "0 140\n"
     ]
    }
   ],
   "source": [
    "#BAADDDD code\n",
    "collection=[11,12,13,14]\n",
    "i = 0\n",
    "\n",
    "for value in collection:\n",
    " result=value*10\n",
    " print(i,result)\n",
    " #prints\n",
    " #0 110\n",
    " #0 120\n",
    " #0 130\n",
    " #0 140\n"
   ]
  },
  {
   "cell_type": "markdown",
   "metadata": {},
   "source": [
    "Now one slightly wonky but totally legit work around is to create the index automatically using a combination of ``range`` and ``len``.  E.g."
   ]
  },
  {
   "cell_type": "code",
   "execution_count": 3,
   "metadata": {},
   "outputs": [
    {
     "name": "stdout",
     "output_type": "stream",
     "text": [
      "0 110\n",
      "1 120\n",
      "2 130\n",
      "3 140\n"
     ]
    }
   ],
   "source": [
    "\n",
    "for i in range(len(collection)):\n",
    " result=10*collection[i]\n",
    " print(i,result)\n",
    " \n",
    " #prints\n",
    " #0 110\n",
    " #1 120\n",
    " #2 130\n",
    " #3 140\n"
   ]
  },
  {
   "cell_type": "markdown",
   "metadata": {},
   "source": [
    "##### _Implementation_\n",
    "\n",
    "Since this situation is so common, Python has a built-in function, **_enumerate_**, which returns a\n",
    "sequence of (i, value) tuples automatically:"
   ]
  },
  {
   "cell_type": "code",
   "execution_count": 4,
   "metadata": {},
   "outputs": [
    {
     "name": "stdout",
     "output_type": "stream",
     "text": [
      "0 110\n",
      "1 120\n",
      "2 130\n",
      "3 140\n"
     ]
    }
   ],
   "source": [
    "\n",
    "for i,value in enumerate(collection):\n",
    " result=10*value\n",
    " print(i,result)\n",
    " #prints\n",
    " #0 110\n",
    " #1 120\n",
    " #2 130\n",
    " #3 140\n"
   ]
  },
  {
   "cell_type": "markdown",
   "metadata": {},
   "source": [
    "Note, that this also can work for **Numpy** arrays:"
   ]
  },
  {
   "cell_type": "code",
   "execution_count": 5,
   "metadata": {},
   "outputs": [
    {
     "name": "stdout",
     "output_type": "stream",
     "text": [
      "0 110\n",
      "1 120\n",
      "2 130\n",
      "3 140\n"
     ]
    }
   ],
   "source": [
    "import numpy as np\n",
    "\n",
    "collection2=np.array(collection)\n",
    "for i,value in enumerate(collection2):\n",
    " result=10*value\n",
    " print(i,result)\n",
    " #prints\n",
    " #0 110\n",
    " #1 120\n",
    " #2 130\n",
    " #3 140\n"
   ]
  },
  {
   "cell_type": "markdown",
   "metadata": {},
   "source": [
    "When you are indexing data, a helpful pattern that uses enumerate is computing a\n",
    "dict mapping the values of a sequence (which are assumed to be unique) to their\n",
    "locations in the sequence.  Here's an example:"
   ]
  },
  {
   "cell_type": "code",
   "execution_count": 6,
   "metadata": {},
   "outputs": [
    {
     "name": "stdout",
     "output_type": "stream",
     "text": [
      "{'Kirk': 0, 'Pike': 1, 'April': 2}\n"
     ]
    }
   ],
   "source": [
    "captainlist = ['Kirk', 'Pike', 'April']\n",
    "mapping = {}\n",
    "\n",
    "for i, v in enumerate(captainlist):\n",
    " mapping[v]=i\n",
    " \n",
    "print(mapping)\n",
    "#{'Kirk': 0, 'Pike': 1, 'April': 2}"
   ]
  },
  {
   "cell_type": "code",
   "execution_count": 7,
   "metadata": {},
   "outputs": [
    {
     "name": "stdout",
     "output_type": "stream",
     "text": [
      "{0: 'Kirk', 1: 'Pike', 2: 'April'}\n"
     ]
    }
   ],
   "source": [
    "##OR\n",
    "captainlist = ['Kirk', 'Pike', 'April']\n",
    "mapping = {}\n",
    "\n",
    "for i, v in enumerate(captainlist):\n",
    " mapping[i]=v\n",
    "\n",
    "print(mapping)\n",
    "#{0: 'Kirk', 1: 'Pike', 2: 'April'}"
   ]
  },
  {
   "cell_type": "markdown",
   "metadata": {},
   "source": [
    "#### _zip_\n",
    "\n",
    "The second major sequence function widely used in scientific Python -- and one I personally like a lot better --  is the **_zip_** function.   zip “pairs” up the elements of a number of lists, tuples, or other sequences to create a\n",
    "list of tuples. \n",
    "\n",
    "E.g."
   ]
  },
  {
   "cell_type": "code",
   "execution_count": 7,
   "metadata": {},
   "outputs": [
    {
     "data": {
      "text/plain": [
       "[('foo', 'one'), ('bar', 'two'), ('baz', 'three')]"
      ]
     },
     "execution_count": 7,
     "metadata": {},
     "output_type": "execute_result"
    }
   ],
   "source": [
    "\n",
    "seq1 = ['foo', 'bar', 'baz']\n",
    "seq2 = ['one', 'two', 'three']\n",
    "zipped=zip(seq1,seq2)\n",
    "\n",
    "list(zipped)\n",
    "#[('foo', 'one'), ('bar', 'two'), ('baz', 'three')]\n"
   ]
  },
  {
   "cell_type": "markdown",
   "metadata": {},
   "source": [
    "zip can take an arbitrary number of sequences, and the number of elements it produces\n",
    "is determined by the shortest sequence:"
   ]
  },
  {
   "cell_type": "code",
   "execution_count": 9,
   "metadata": {},
   "outputs": [
    {
     "data": {
      "text/plain": [
       "[('foo', 'one', False), ('bar', 'two', True), ('baz', 'three', True)]"
      ]
     },
     "execution_count": 9,
     "metadata": {},
     "output_type": "execute_result"
    }
   ],
   "source": [
    "seq3 = [False, True,True]\n",
    "list(zip(seq1, seq2, seq3))\n",
    "#[('foo', 'one', False), ('bar', 'two', True)]"
   ]
  },
  {
   "cell_type": "markdown",
   "metadata": {},
   "source": [
    "A very common use of zip is simultaneously iterating over multiple sequences, possibly\n",
    "also combined with _**enumerate**_:"
   ]
  },
  {
   "cell_type": "code",
   "execution_count": 10,
   "metadata": {},
   "outputs": [
    {
     "name": "stdout",
     "output_type": "stream",
     "text": [
      "0: foo, one\n",
      "1: bar, two\n",
      "2: baz, three\n"
     ]
    }
   ],
   "source": [
    "\n",
    "for i, (a, b) in enumerate(zip(seq1, seq2)):\n",
    " print('{0}: {1}, {2}'.format(i, a, b))\n",
    "\n",
    "#0: foo, one\n",
    "#1: bar, two\n",
    "#2: baz, three\n"
   ]
  },
  {
   "cell_type": "markdown",
   "metadata": {},
   "source": [
    "Another more complex (but more useful) example using a list and Numpy arrays"
   ]
  },
  {
   "cell_type": "code",
   "execution_count": 11,
   "metadata": {},
   "outputs": [
    {
     "name": "stdout",
     "output_type": "stream",
     "text": [
      "The absolute magnitude of star HIP 99770 with spectral type A5V is 1.850\n",
      "The absolute magnitude of star AF Lep with spectral type F8V is 4.159\n",
      "The absolute magnitude of star HR 8799 with spectral type F0V is 2.923\n",
      "The absolute magnitude of star Vega with spectral type A0V is 0.568\n"
     ]
    }
   ],
   "source": [
    "\n",
    "starname=['HIP 99770','AF Lep','HR 8799','Vega']\n",
    "spectype=['A5V','F8V','F0V','A0V']\n",
    "starmag=np.array([4.9,6.3,5.9,0.0])\n",
    "dstar=np.array([40.74,26.8, 39.4, 7.7])\n",
    "\n",
    "for i,j,k,l in zip(starname,spectype,starmag,dstar):\n",
    " absmag=k-5*np.log10(l/10.)\n",
    " print('The absolute magnitude of star {0:s} with spectral type {1:s} is {2:.3f}'.format(i,j,absmag))\n",
    "\n",
    "#The absolute magnitude of star HIP 99770 with spectral type A5V is 1.850\n",
    "#The absolute magnitude of star AF Lep with spectral type F8V is 4.159\n",
    "#The absolute magnitude of star HR 8799 with spectral type F0V is 2.923\n",
    "#The absolute magnitude of star Vega with spectral type A0V is 0.568\n"
   ]
  },
  {
   "cell_type": "markdown",
   "metadata": {},
   "source": [
    "It also works for dictionaries:"
   ]
  },
  {
   "cell_type": "code",
   "execution_count": null,
   "metadata": {},
   "outputs": [],
   "source": [
    "dict_one = {'name': 'William', 'last_name': 'Riker', 'job': 'Stepping Over Chairs'}\n",
    "dict_two = {'name': 'Wesley', 'last_name': 'Crusher', 'job': 'Shutting Up'}\n",
    "dict_three={'name': 'Mr','last_name':'Worf','job':'Getting Denied'}\n",
    "for (k1, v1), (k2, v2), (k3,v3) in zip(dict_one.items(), dict_two.items(),dict_three.items()):\n",
    "   print(k1, '->', v1)\n",
    "   print(k2, '->', v2)\n",
    "   print(k3, '->', v3)\n",
    "   \n",
    "#name -> William\n",
    "#name -> Wesley\n",
    "#name -> Mr\n",
    "#last_name -> Riker\n",
    "#last_name -> Crusher\n",
    "#last_name -> Worf\n",
    "#job -> Stepping Over Chairs\n",
    "#job -> Shutting Up\n",
    "#job -> Getting Denied"
   ]
  },
  {
   "cell_type": "code",
   "execution_count": 10,
   "metadata": {},
   "outputs": [
    {
     "name": "stdout",
     "output_type": "stream",
     "text": [
      "0 first name -> William\n",
      "0 first name -> Wesley\n",
      "0 first name -> Mr\n",
      "1 last_name -> Riker\n",
      "1 last_name -> Crusher\n",
      "1 last_name -> Worf\n",
      "2 job -> Stepping Over Chairs\n",
      "2 job -> Shutting Up\n",
      "2 job -> Getting Denied\n"
     ]
    }
   ],
   "source": [
    "#with indexing ...\n",
    "\n",
    "dict_one = {'first name': 'William', 'last_name': 'Riker', 'job': 'Stepping Over Chairs'}\n",
    "dict_two = {'first name': 'Wesley', 'last_name': 'Crusher', 'job': 'Shutting Up'}\n",
    "dict_three={'first name': 'Mr','last_name':'Worf','job':'Getting Denied'}\n",
    "for i,((k1, v1), (k2, v2), (k3,v3)) in enumerate(zip(dict_one.items(), dict_two.items(),dict_three.items())):\n",
    "   print(i,k1, '->', v1)\n",
    "   print(i,k2, '->', v2)\n",
    "   print(i,k3, '->', v3)"
   ]
  },
  {
   "cell_type": "markdown",
   "metadata": {},
   "source": [
    "#### _sorted_\n",
    "\n",
    "The sorted function returns a new sorted list from the elements of any sequence.  Here are some examples:"
   ]
  },
  {
   "cell_type": "code",
   "execution_count": 11,
   "metadata": {},
   "outputs": [
    {
     "data": {
      "text/plain": [
       "[0, 1, 2, 2, 3, 6, 7]"
      ]
     },
     "execution_count": 11,
     "metadata": {},
     "output_type": "execute_result"
    }
   ],
   "source": [
    "\n",
    "#list\n",
    "a=[7, 1, 2, 6, 0, 3, 2]\n",
    "sorted(a)\n",
    "#[0,1,2,2,3,6,7]\n"
   ]
  },
  {
   "cell_type": "code",
   "execution_count": 20,
   "metadata": {},
   "outputs": [
    {
     "data": {
      "text/plain": [
       "[0, 1, 2, 2, 3, 6, 7]"
      ]
     },
     "execution_count": 20,
     "metadata": {},
     "output_type": "execute_result"
    }
   ],
   "source": [
    "\n",
    "#tuple\n",
    "a=7,1,2,6,0,3,2\n",
    "\n",
    "#this is a list\n",
    "sorted(a)\n",
    "#[0,1,2,2,3,6,7]\n",
    "\n",
    "\n",
    "#type is confirmed by doing type(sorted(a))\n",
    "#type(sorted(a))"
   ]
  },
  {
   "cell_type": "code",
   "execution_count": 26,
   "metadata": {},
   "outputs": [
    {
     "data": {
      "text/plain": [
       "[0, 1, 2, 2, 3, 6, 7]"
      ]
     },
     "execution_count": 26,
     "metadata": {},
     "output_type": "execute_result"
    }
   ],
   "source": [
    "\n",
    "#array\n",
    "a=np.array([7, 1, 2, 6, 0, 3, 2])\n",
    "sorted(a)\n",
    "#[0,1,2,2,3,6,7]\n",
    "\n",
    "#print(sorted(a)*2)\n",
    "#[0, 1, 2, 2, 3, 6, 7, 0, 1, 2, 2, 3, 6, 7]\n",
    "\n",
    "#print(np.array(sorted(a))*2)\n",
    "#[ 0  2  4  4  6 12 14]"
   ]
  },
  {
   "cell_type": "markdown",
   "metadata": {},
   "source": [
    "#### _reversed_\n",
    "\n",
    "reversed iterates over the elements of a sequence in reverse order.  E.g."
   ]
  },
  {
   "cell_type": "code",
   "execution_count": 28,
   "metadata": {},
   "outputs": [
    {
     "name": "stdout",
     "output_type": "stream",
     "text": [
      "[0, 1, 2, 3, 4, 5, 6, 7, 8, 9, 10, 11]\n"
     ]
    },
    {
     "data": {
      "text/plain": [
       "[11, 10, 9, 8, 7, 6, 5, 4, 3, 2, 1, 0]"
      ]
     },
     "execution_count": 28,
     "metadata": {},
     "output_type": "execute_result"
    }
   ],
   "source": [
    "print(list(range(12)))\n",
    "list(reversed(range(12)))\n",
    "#[9, 8, 7, 6, 5, 4, 3, 2, 1, 0]\n"
   ]
  },
  {
   "cell_type": "markdown",
   "metadata": {},
   "source": [
    "or "
   ]
  },
  {
   "cell_type": "code",
   "execution_count": 17,
   "metadata": {},
   "outputs": [
    {
     "data": {
      "text/plain": [
       "['Odyssey',\n",
       " 'Sovereign',\n",
       " 'Galaxy',\n",
       " 'Ambassador',\n",
       " 'Excelsior',\n",
       " 'Constitution',\n",
       " 'Whatever Scott Bakula was On']"
      ]
     },
     "execution_count": 17,
     "metadata": {},
     "output_type": "execute_result"
    }
   ],
   "source": [
    "\n",
    "starship_classes=['Whatever Scott Bakula was On','Constitution','Excelsior','Ambassador','Galaxy','Sovereign','Odyssey']\n",
    "reverse_order=reversed(starship_classes)\n",
    "list(reverse_order)\n",
    "#['Odyssey','Sovereign', 'Galaxy', 'Ambassador', 'Excelsior', 'Constitution','Whatever Scott Bakula was On']\n",
    "\n"
   ]
  },
  {
   "cell_type": "markdown",
   "metadata": {},
   "source": [
    "### Comprehensions\n",
    "\n",
    "Comprehensions are extremely powerful ways of concisely writing code.  I LOVE comprehensions (and you should love them too)."
   ]
  },
  {
   "cell_type": "markdown",
   "metadata": {},
   "source": [
    "#### _List Comprehensions_ \n",
    "\n",
    "List comprehensions allow you to concisely form a new list by filtering the elements of a collection, transforming\n",
    "the elements passing the filter in one concise expression. They take the basic form:"
   ]
  },
  {
   "cell_type": "markdown",
   "metadata": {},
   "source": [
    "``[expr for val in collection if condition]``\n",
    "\n",
    "This is equivalent to the following for loop:\n",
    "\n",
    "```\n",
    "result = []\n",
    "for val in collection:\n",
    " if condition:\n",
    "  result.append(expr)\n",
    "```\n",
    "\n",
    "The filter condition can be omitted, leaving only the expression. For example, given a\n",
    "list of strings, we could filter out strings with length 2 or less and also convert them to\n",
    "uppercase like this:"
   ]
  },
  {
   "cell_type": "code",
   "execution_count": 30,
   "metadata": {},
   "outputs": [
    {
     "name": "stdout",
     "output_type": "stream",
     "text": [
      "['A', 'AS', 'BAT', 'CAR', 'DOVE', 'PYTHON']\n"
     ]
    }
   ],
   "source": [
    "strings = ['a', 'as', 'bat', 'car', 'dove', 'python']\n",
    "\n",
    "result=[x.upper() for x in strings]\n",
    "print(result)"
   ]
  },
  {
   "cell_type": "code",
   "execution_count": 31,
   "metadata": {},
   "outputs": [
    {
     "name": "stdout",
     "output_type": "stream",
     "text": [
      "['BAT', 'CAR', 'DOVE', 'PYTHON']\n"
     ]
    }
   ],
   "source": [
    "strings = ['a', 'as', 'bat', 'car', 'dove', 'python']\n",
    "result=[x.upper() for x in strings if len(x) > 2]\n",
    "#['BAT', 'CAR', 'DOVE', 'PYTHON']\n",
    "\n",
    "print(result)"
   ]
  },
  {
   "cell_type": "markdown",
   "metadata": {},
   "source": [
    "#### _Dictionary Comprehensions_ \n",
    "\n",
    "A dictionary comprehensions is a natural extension, producing dicts in an\n",
    "idiomatically similar way instead of lists. A dict comprehension looks like this:\n",
    "\n",
    "```\n",
    "dict_comp = {key-expr : value-expr for value in collection\n",
    "             if condition}\n",
    "```\n",
    "\n",
    "Here is one example:"
   ]
  },
  {
   "cell_type": "code",
   "execution_count": 23,
   "metadata": {},
   "outputs": [
    {
     "name": "stdout",
     "output_type": "stream",
     "text": [
      "{'a': 0, 'as': 1, 'bat': 2, 'car': 3, 'dove': 4, 'python': 5}\n",
      "{0: 'a', 1: 'as', 2: 'bat', 3: 'car', 4: 'dove', 5: 'python'}\n"
     ]
    }
   ],
   "source": [
    "strings = ['a', 'as', 'bat', 'car', 'dove', 'python']\n",
    "loc_mapping = {val : index for index, val in enumerate(strings)}\n",
    "print(loc_mapping)\n",
    "#{'a': 0, 'as': 1, 'bat': 2, 'car': 3, 'dove': 4, 'python': 5}\n",
    "\n",
    "loc_mapping2 = {index: val for index, val in enumerate(strings)}\n",
    "print(loc_mapping2)"
   ]
  },
  {
   "cell_type": "markdown",
   "metadata": {},
   "source": [
    "#### _with Arrays_ \n",
    "\n",
    "You can also use arrays with comprehensions if you are careful.  A common situation is where you have a list of numbers (say, something you want to read out of a file) but what you _actually_ want is a different number which does element-wise math, etc etc on that list. See example below"
   ]
  },
  {
   "cell_type": "code",
   "execution_count": 18,
   "metadata": {},
   "outputs": [
    {
     "name": "stdout",
     "output_type": "stream",
     "text": [
      "[7.38905609893065, 148.4131591025766, 403.4287934927351, 2980.9579870417283, 22026.465794806718, 162754.79141900392, 178482300.96318725, 1.2649087687328917]\n"
     ]
    }
   ],
   "source": [
    "alistofnums=[2,5,6,8,10,12,19,23.5e-2]\n",
    "\n",
    "#note: don't worry about the np.[stuff] calls yet\n",
    "result=[np.exp(np.float64(j)) for j in alistofnums]  #takes \"e to the [alistofnums] power\"\n",
    "\n",
    "print(result)\n",
    "\n"
   ]
  },
  {
   "cell_type": "markdown",
   "metadata": {},
   "source": [
    "### Lambda Functions\n",
    "\n",
    "Python has support for so-called anonymous or lambda functions, which are a way of\n",
    "writing functions consisting of a single statement, the result of which is the return\n",
    "value. They are defined with the lambda keyword, which has no meaning other than\n",
    "“we are declaring an anonymous function”.  \n",
    "\n",
    "E.g. you could write a separate function:"
   ]
  },
  {
   "cell_type": "markdown",
   "metadata": {},
   "source": [
    "```\n",
    "def short_function(x):\n",
    " return x * 2\n",
    "```"
   ]
  },
  {
   "cell_type": "markdown",
   "metadata": {},
   "source": [
    "Or, declare an equivalent lambda function:"
   ]
  },
  {
   "cell_type": "markdown",
   "metadata": {},
   "source": [
    "```\n",
    "equiv_anon = lambda x: x * 2\n",
    "\n",
    "```"
   ]
  },
  {
   "cell_type": "markdown",
   "metadata": {},
   "source": [
    "Here's another example:"
   ]
  },
  {
   "cell_type": "code",
   "execution_count": 33,
   "metadata": {},
   "outputs": [],
   "source": [
    "\n",
    "def apply_to_list(some_list, f):\n",
    "  return [f(x) for x in some_list]"
   ]
  },
  {
   "cell_type": "code",
   "execution_count": 35,
   "metadata": {},
   "outputs": [],
   "source": [
    "#now give a value for \"some list\" (or numpy array) and apply a lambda function\n",
    "numbers=np.array([np.pi,np.e,40.74,21.8])\n",
    "apply_to_list(numbers,lambda x: x**2/3.)\n",
    "#[3.289868133696453, 2.4630186996435497, 553.2492000000001, 158.41333333333333]\n",
    "\n",
    "result=apply_to_list(numbers,lambda x: x**2/3.)\n"
   ]
  },
  {
   "cell_type": "markdown",
   "metadata": {},
   "source": [
    "Now, lambda functions may seem a Rube Goldberg-machine-ish.  E.g. in the example above we could have just done this:"
   ]
  },
  {
   "cell_type": "code",
   "execution_count": 36,
   "metadata": {},
   "outputs": [
    {
     "name": "stdout",
     "output_type": "stream",
     "text": [
      "[3.289868133696453, 2.4630186996435497, 553.2492000000001, 158.41333333333333]\n"
     ]
    }
   ],
   "source": [
    "#``result=list(numbers**2/3.)``\n",
    "result=list(numbers**2/3.)\n",
    "print(result)"
   ]
  },
  {
   "cell_type": "markdown",
   "metadata": {},
   "source": [
    "and get the same answer and same data type.  Lambda functions become somewhat more useful if you use them as an anonymous function within _another_ function.   Here's an example:"
   ]
  },
  {
   "cell_type": "code",
   "execution_count": 37,
   "metadata": {},
   "outputs": [
    {
     "name": "stdout",
     "output_type": "stream",
     "text": [
      "[0.27956989 0.1319797  0.12763868]\n"
     ]
    }
   ],
   "source": [
    "\n",
    "def rangesep(x):\n",
    " return lambda a: x/a\n",
    " \n",
    "jupiterphyssep=rangesep(5.2) #5.2 = x in this case, jupiterphyssep is saved as a function\n",
    "distances=np.array([18.6,39.4,40.74])\n",
    "\n",
    "jupiterangsep=jupiterphyssep(distances) \n",
    "#now we tell it what 'a' is: it is the numpy array 'distances'-->answer\n",
    "#array([0.27956989, 0.1319797 , 0.12763868])\n",
    "print(jupiterangsep)"
   ]
  },
  {
   "cell_type": "markdown",
   "metadata": {},
   "source": [
    "Note how Python treats each one of these variables.  E.g. if you do ``type(jupiterphyssep)`` you get ``<class 'function'>``; ``type(jupiterangsep)`` is ``<class 'numpy.ndarray'>``."
   ]
  },
  {
   "cell_type": "code",
   "execution_count": 38,
   "metadata": {},
   "outputs": [
    {
     "name": "stdout",
     "output_type": "stream",
     "text": [
      "<class 'function'>\n",
      "<class 'numpy.ndarray'>\n"
     ]
    }
   ],
   "source": [
    "print(type(jupiterphyssep))\n",
    "print(type(jupiterangsep))"
   ]
  },
  {
   "cell_type": "markdown",
   "metadata": {},
   "source": [
    "Now, in this one instance again lambda functions still don't seem that particularly crucial (e.g. why not ``jupiterangsep=5.2/distances``?).   But if you have to perform this mathematical calculation repeatedly for different ``a`` values (in this case, different distances arrays) it can become more useful.  Still not convinced? We will later encounter another example of a lambda function that makes **_Matplotlib_** plotting work well."
   ]
  },
  {
   "cell_type": "code",
   "execution_count": null,
   "metadata": {},
   "outputs": [],
   "source": []
  }
 ],
 "metadata": {
  "kernelspec": {
   "display_name": "Python 3 (ipykernel)",
   "language": "python",
   "name": "python3"
  },
  "language_info": {
   "codemirror_mode": {
    "name": "ipython",
    "version": 3
   },
   "file_extension": ".py",
   "mimetype": "text/x-python",
   "name": "python",
   "nbconvert_exporter": "python",
   "pygments_lexer": "ipython3",
   "version": "3.12.4"
  }
 },
 "nbformat": 4,
 "nbformat_minor": 4
}
