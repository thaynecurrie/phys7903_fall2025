{
 "cells": [
  {
   "cell_type": "markdown",
   "metadata": {},
   "source": [
    "# _Python for Scientific Data Analysis_\n",
    "\n",
    "# Data Structures\n",
    "\n",
    "## Section 1: The Different Types of Data Structures\n",
    "\n",
    "As McKinney says \"_Python's data structures are simple but powerful. Mastering their use is a critical part\n",
    "of becoming a proficient Python programmer_.\"   \n",
    "\n",
    "Our discussion of data structures will generally follow a combination of McKinney's (mostly) and Fuhrer's (to a lesser extent).   \n",
    "\n",
    "Besides the _function_, which we have discussed already in _**Basic\\_Python**_, Python's key built-in data structures include: _tuple_, _list_, and _dictionary_.   For scientific Python, the **_Numpy_** package adds the critical, powerful _array_ structure (long form name of this is \"ndarray\").   In this section, we will start with _tuples_ and _lists_, then discuss _array_, and finally _dictionary_.  \n",
    "\n",
    "### Function\n",
    "Again, see previous discussion in _**Basic\\_Python**_. \n",
    "\n",
    "### Tuples\n",
    "\n",
    "#### _Introduction_\n",
    "\n",
    "A _tuple_ is a fixed-length, immutable sequence of Python objects.  The simplest way to create a tuple is with a comma-separated sequence of values:"
   ]
  },
  {
   "cell_type": "code",
   "execution_count": 1,
   "metadata": {},
   "outputs": [
    {
     "name": "stdout",
     "output_type": "stream",
     "text": [
      "(5, 6, 7, 8)\n",
      "('uno', 'dos', 'tres', 'quattro', 'sinco')\n"
     ]
    },
    {
     "data": {
      "text/plain": [
       "tuple"
      ]
     },
     "execution_count": 1,
     "metadata": {},
     "output_type": "execute_result"
    }
   ],
   "source": [
    "\n",
    "a=5,6,7,8\n",
    "b='uno','dos','tres','quattro','sinco'\n",
    "#printing >>> type(a), type(b) confirms that these are tuples\n",
    "print(a)\n",
    "print(b)\n",
    "type(a)"
   ]
  },
  {
   "cell_type": "markdown",
   "metadata": {},
   "source": [
    "You can make tuples more complicated: e.g. nested tuples (a tuple of tuples)"
   ]
  },
  {
   "cell_type": "code",
   "execution_count": 5,
   "metadata": {},
   "outputs": [
    {
     "name": "stdout",
     "output_type": "stream",
     "text": [
      "((5, 6, 7), (8, 'uno', 'dos'), ('tres', 9))\n",
      "<class 'tuple'>\n",
      "3\n"
     ]
    }
   ],
   "source": [
    "c=(5,6,7),(8,'uno','dos'),('tres',9)\n",
    "print(c)\n",
    "print(type(c)) #return the type of c\n",
    "print(len(c)) #return the length of c\n"
   ]
  },
  {
   "cell_type": "markdown",
   "metadata": {},
   "source": [
    "You can convert a list or numpy array or really any iterator/sequence to a tuple by the ``tuple`` command:"
   ]
  },
  {
   "cell_type": "code",
   "execution_count": 8,
   "metadata": {},
   "outputs": [
    {
     "name": "stdout",
     "output_type": "stream",
     "text": [
      "(5, 6, 7)\n",
      "(5, 6, 7)\n",
      "6\n",
      "('t', 'h', 'e', 's', 't', 'r', 'i', 'n', 'g')\n",
      "h\n"
     ]
    }
   ],
   "source": [
    "d=[5,6,7] # a list\n",
    "dtuple=tuple(d) #now a tuple\n",
    "\n",
    "import numpy as np\n",
    "e=np.array([5,6,7])\n",
    "etuple=tuple(e) #equals (5,6,7)\n",
    "\n",
    "f='thestring'\n",
    "ftuple = tuple(f) #equals 't,h,e,s,t,r,i,n,g'\n",
    "\n",
    "print(dtuple)\n",
    "print(etuple)\n",
    "print(etuple[1])\n",
    "print(ftuple)\n",
    "print(ftuple[1])"
   ]
  },
  {
   "cell_type": "code",
   "execution_count": null,
   "metadata": {},
   "outputs": [],
   "source": [
    "#now try this ...\n",
    "#f=5,6,7\n",
    "#f[1]=9"
   ]
  },
  {
   "cell_type": "markdown",
   "metadata": {},
   "source": [
    "As with other things, you can access elements of a tuple using square brackets.  E.g. in the above example ``etuple[1]`` will equal 6.  Tuples are not mutable -- i.e. you cannot change elements unlike, say, lists or numpy arrays.  I.e. ``f=[5,6,7]; f[1]=9; print(f)`` yields ``[5,9,7]`` because we were able to modify the element [1].  \n",
    "\n",
    "But ``f=5,6,7; f[1]=9`` leads to an error \n",
    "```\n",
    "Traceback (most recent call last):\n",
    "  File \"<stdin>\", line 1, in <module>\n",
    "TypeError: 'tuple' object does not support item assignment\n",
    "```\n",
    "because tuples are not mutable.  However, if the specific object inside a tuple is mutable, then you can modify it in-place:"
   ]
  },
  {
   "cell_type": "code",
   "execution_count": 9,
   "metadata": {},
   "outputs": [
    {
     "name": "stdout",
     "output_type": "stream",
     "text": [
      "first f (5, [6, 7, 3], 8)\n"
     ]
    },
    {
     "data": {
      "text/plain": [
       "([5, 6], ['foo', 'bar', 7], 9)"
      ]
     },
     "execution_count": 9,
     "metadata": {},
     "output_type": "execute_result"
    }
   ],
   "source": [
    "\n",
    "f=5,[6,7],8\n",
    "f[1].append(3) \n",
    "f # yields (5, [6, 7, 3], 8)\n",
    "#another example\n",
    "print('first f',f)\n",
    "f=[5,6],['foo','bar',7],9\n",
    "f[0].append(2)\n",
    "f[1].append(2)\n",
    "f #yields ([5, 6, 2], ['foo', 'bar', 7, 2], 9)\n",
    "f[1].pop() #this removes the 2 from the second element of f (which is a list)\n",
    "\n",
    "f #yields ([5, 6, 2], ['foo', 'bar', 7], 9)\n",
    "f[0].pop(-1)\n",
    "f # yields ([5, 6], ['foo', 'bar', 7], 9)\n"
   ]
  },
  {
   "cell_type": "markdown",
   "metadata": {},
   "source": [
    "You can concatenate tuples together to make longer tuples: e.g. ``a=5,6,7; b='foo',7,'bar'; c=a+b`` will yield the following for c ``(5, 6, 7, 'foo', 7, 'bar')``.   Also, multiple a tuple by an integer ``n`` will make ``n`` copies of the tuple: e.g. ``('foo','bar')*4`` will equal ``('foo', 'bar', 'foo', 'bar', 'foo', 'bar', 'foo', 'bar')``."
   ]
  },
  {
   "cell_type": "markdown",
   "metadata": {},
   "source": [
    "#### _Unpacking Tuples_\n",
    "\n",
    "If you try to _assign_ to a tuple-like expression of variables, Python will attempt to\n",
    "_unpack_ the value on the righthand side of the equals sign.  E.g. "
   ]
  },
  {
   "cell_type": "code",
   "execution_count": 10,
   "metadata": {},
   "outputs": [
    {
     "data": {
      "text/plain": [
       "6"
      ]
     },
     "execution_count": 10,
     "metadata": {},
     "output_type": "execute_result"
    }
   ],
   "source": [
    "thetuple=5,6,7\n",
    "a,b,c=thetuple\n",
    "b #returned as 6"
   ]
  },
  {
   "cell_type": "code",
   "execution_count": 11,
   "metadata": {},
   "outputs": [
    {
     "data": {
      "text/plain": [
       "(5, 6)"
      ]
     },
     "execution_count": 11,
     "metadata": {},
     "output_type": "execute_result"
    }
   ],
   "source": [
    "#or\n",
    "thetuple =4,(5,6),7\n",
    "a,(b,c),d=thetuple\n",
    "b,c #returns (5,6)"
   ]
  },
  {
   "cell_type": "markdown",
   "metadata": {},
   "source": [
    "You can also swap variable names, e.g.:\n",
    "\n",
    "```\n",
    ">>>a,b='foo',3\n",
    ">>>print(a) #returns 'foo'\n",
    ">>>print(b) #returns 3\n",
    "\n",
    ">>>b,a=a,b\n",
    ">>>print(a) #returns 3\n",
    ">>>print(b) #returns 'foo'\n",
    "\n",
    "```"
   ]
  },
  {
   "cell_type": "code",
   "execution_count": 12,
   "metadata": {},
   "outputs": [
    {
     "name": "stdout",
     "output_type": "stream",
     "text": [
      "foo\n",
      "3\n",
      "3\n",
      "foo\n"
     ]
    }
   ],
   "source": [
    "a,b='foo',3\n",
    "print(a)\n",
    "print(b)\n",
    "b,a=a,b\n",
    "print(a)\n",
    "print(b)"
   ]
  },
  {
   "cell_type": "markdown",
   "metadata": {},
   "source": [
    "### Lists\n",
    "We briefly discussed lists in the \"Basic\" section of Python, where we described a list as \"a container of things that are organized in order from first to last.\"  Now we will give a more detailed description.\n",
    "\n",
    "In contrast to tuples, lists are variable-length and their contents can be modified in place.  \n",
    "\n",
    "#### _Creating Lists_ \n",
    "Lists are typically defined by enclosing some things by square brackets ``[ ]``.   You can also define a list by the ``list`` type function: e.g. to convert a tuple to a list use the ``list`` keyword.\n",
    "\n",
    "Below are examples of lists --  a_list and b_list -- with some operations."
   ]
  },
  {
   "cell_type": "markdown",
   "metadata": {},
   "source": [
    "```\n",
    ">>>a_list = [2, 3, 7, None]\n",
    ">>>tup = ('foo', 'bar', 'baz')\n",
    ">>>b_list = list(tup)\n",
    ">>>b_list #prints ['foo','bar','baz']\n",
    ">>>b_list[1] = 'peekaboo'\n",
    ">>>b_list # prints ['foo','peekaboo','baz']\n",
    "\n",
    "```"
   ]
  },
  {
   "cell_type": "code",
   "execution_count": 18,
   "metadata": {},
   "outputs": [
    {
     "name": "stdout",
     "output_type": "stream",
     "text": [
      "['foo', 'bar', 'baz']\n",
      "['foo', 'peekaboo', 'baz']\n"
     ]
    }
   ],
   "source": [
    "a_list = [2, 3, 7, None]\n",
    "tup = ('foo', 'bar', 'baz')\n",
    "b_list = list(tup)\n",
    "print(b_list) #prints ['foo','bar','baz']\n",
    "b_list[1] = 'peekaboo'\n",
    "print(b_list) # prints ['foo','peekaboo','baz']"
   ]
  },
  {
   "cell_type": "markdown",
   "metadata": {},
   "source": [
    "#### _Modifying Lists_ \n",
    "You can add and remove elements with the property ``append`` and ``insert``.  E.g. ``b_list.append('dwarf')`` gives you ``b_list=['foo','peekaboo','baz','dwarf']`` .  You can insert an element at a specific location in a list as follows:\n",
    "\n",
    "```\n",
    ">>>b_list.insert(1,'red')\n",
    ">>>b_list\n",
    ">>> ['foo', 'red', 'peekaboo', 'baz', 'dwarf']\n",
    ">>>b_list.insert(0,'blue')\n",
    ">>>['blue', 'foo', 'red', 'peekaboo', 'baz', 'dwarf']\n",
    "\n",
    "```"
   ]
  },
  {
   "cell_type": "code",
   "execution_count": 19,
   "metadata": {},
   "outputs": [
    {
     "name": "stdout",
     "output_type": "stream",
     "text": [
      "['foo', 'red', 'peekaboo', 'baz']\n",
      "['blue', 'foo', 'red', 'peekaboo', 'baz']\n"
     ]
    }
   ],
   "source": [
    "b_list.insert(1,'red')\n",
    "print(b_list)\n",
    "#['foo', 'red', 'peekaboo', 'baz', 'dwarf']\n",
    "b_list.insert(0,'blue')\n",
    "#['blue', 'foo', 'red', 'peekaboo', 'baz', 'dwarf']\n",
    "print(b_list)"
   ]
  },
  {
   "cell_type": "markdown",
   "metadata": {},
   "source": [
    "The inverse of ``insert`` is ``pop``, which removes and returns an element at an index.  E.g. ``b_list.pop(2)`` = `` `peekaboo' `` and then ``b_list=['blue', 'foo', 'peekaboo', 'baz', 'dwarf']``.   Called without an index, ``pop`` removes the last element.  E.g. ``b_list.pop()`` removes `` `dwarf` ``.\n",
    "\n",
    "Elements can also be removed using ``remove``, which locates the first matching value and removes it:\n",
    "\n",
    "```\n",
    ">>> c_list=['foo','bar','foo','foo']\n",
    ">>> c_list.remove('foo')\n",
    ">>> c_list\n",
    "['bar', 'foo', 'foo']\n",
    "```\n",
    "\n",
    "You can also add multiple elements to a list at a time using the `` extend`` property: \n",
    "\n",
    "```\n",
    "#simple example\n",
    ">>> d_list=['foo','bar']\n",
    ">>> d_list.extend([5,6,'red','dwarf'])\n",
    ">>> d_list\n",
    "    ['foo', 'bar', 5, 6, 'red', 'dwarf']\n",
    "#slightly more complex\n",
    ">>> e_list=['foo','bar']\n",
    ">>> e_list.extend([(7,8),(9,10)])\n",
    ">>> e_list\n",
    "    ['foo', 'bar', (7, 8), (9, 10)]\n",
    "```\n",
    "\n",
    "Just like tuples, you can concatenate lists.  E.g. ``b_list=[5,6,7,8]; b2_list=[0.55,66,7e-6,88]``, so ``b_list+b2_list = [5, 6, 7, 8, 0.55, 66, 7e-6, 88]``.   \n",
    "\n",
    "Note that ``extend`` is faster than concatenation.\n",
    "\n",
    "You can sort a list in place (without creating a new object) by calling its ``sort`` function:\n",
    "\n",
    "```\n",
    ">>>anotherlist = [7,2,5,1,3]\n",
    ">>>anotherlist.sort()\n",
    "   #[1,2,3,5,7]\n",
    "```\n",
    "\n",
    "You can also unpack variables by iterating over sequences of tuples or lists:\n",
    "\n",
    "```\n",
    "seq=[(1,2,3),('foo','bar','yo'),(4,5,6)]\n",
    "for a,b,c in seq:\n",
    "  print('a={0},b={1},c={2}'.format(a,b,c))\n",
    "```"
   ]
  },
  {
   "cell_type": "code",
   "execution_count": null,
   "metadata": {},
   "outputs": [],
   "source": [
    "seq=[(1,2,3),('foo','bar','yo'),(4,5,6)]\n",
    "for a,b,c in seq:\n",
    "  print('a={0},b={1},c={2}'.format(a,b,c))\n",
    "  print(type(a),type(b),type(c)) #see what Python \"thinks\" each type is ... it changes!"
   ]
  },
  {
   "cell_type": "markdown",
   "metadata": {},
   "source": [
    "### More Practice with Manipulating Lists\n",
    "\n",
    "Now we are going to manipulate list entries.   \n",
    "There are many ways to manipulate, including using _pop_, _append_, etc.  Here's an example from ex38.\n",
    "\n",
    "```\n",
    "ten_things = \"Apples Oranges Crows Telephone Light Sugar\"\n",
    "\n",
    "print(\"Wait there are not 10 things in that list. Let's fix that.\")\n",
    "\n",
    "stuff = ten_things.split(' ')\n",
    "more_stuff = [\"Day\", \"Night\", \"Song\", \"Frisbee\", \"Corn\", \"Banana\", \"Girl\", \"Boy\"]\n",
    "\n",
    "while len(stuff) != 10:\n",
    "    next_one = more_stuff.pop()\n",
    "    print(\"Adding: \", next_one)\n",
    "    stuff.append(next_one)\n",
    "    print(\"There are %d items now.\" % len(stuff))\n",
    "\n",
    "print(\"There we go: \", stuff)\n",
    "\n",
    "print(\"Let's do some things with stuff.\")\n",
    "\n",
    "print(stuff[1])\n",
    "print(stuff[-1]) # whoa! fancy\n",
    "print(stuff.pop())\n",
    "print(' '.join(stuff)) # what? cool!\n",
    "print('#'.join(stuff[3:5])) # super stellar!\n",
    "```"
   ]
  },
  {
   "cell_type": "code",
   "execution_count": null,
   "metadata": {},
   "outputs": [],
   "source": [
    "%run ./code_ipynb/ex38.py #note: this is another way to run a script from a Jupyter notebook\n",
    "print('')\n",
    "#or this\n",
    "import os\n",
    "script='ex38.py'\n",
    "path='./code_ipynb/'\n",
    "command='python '+path+script\n",
    "os.system(command)"
   ]
  },
  {
   "cell_type": "markdown",
   "metadata": {},
   "source": [
    "What happened here?   So first, you have a string called _ten\\_things_  and this string is _split_ at every empty space and saved to a variable _stuff_ .    Now, it becomes obvious that there aren't actually 10 entries (in fact, you can check by defining a conditional by asking the length of the list -- i.e. len(stuff) ). \n",
    "\n",
    "  So in a _while-loop_, the program then keeps _append_-ing things from the end of _more\\_stuff_ ('popped' off the end) to _stuff_ until there are 10 items.  Then the print statements ... the first one -- _stuff[1]_ -- will print out the 2nd element of _stuff_. The line after that? The last element of _stuff_.  The line _stuff.pop()_ prints out and removes the last array element of _stuff_.  \n",
    "  \n",
    "  Then _stuff[3:5]_ prints out array elements \"from the 4th and prior to the 6th element\" (i.e. elements 4 and 5).    What would _stuff[3:4]_ print?  Just \"Telephone\".  What about _stuff[3:len(stuff)]_ ?   It would print: ``` ['Telephone', 'Light', 'Sugar', 'Boy', 'Girl', 'Banana', 'Corn']. ```\n",
    "  \n",
    "  Or _stuff[3:len(stuff)-1]_ ?   You guessed it:\n",
    "  ``` ['Telephone', 'Light', 'Sugar', 'Boy', 'Girl', 'Banana']. ```"
   ]
  },
  {
   "cell_type": "markdown",
   "metadata": {},
   "source": [
    "### Arrays\n",
    "\n",
    "While native Python can do arrays, those in **_Numpy_** are far superior.  Arrays are container structures for manipulating vectors, matrices, or even higher-order tensors.   We will reserve a more detailed discussion of arrays for the **_Numpy_** module later.   For now we discuss core concepts of arrays.\n",
    "\n",
    "To instantiate arrays, we first need to import the _numpy_ package. The canonical way to do this is as follows:"
   ]
  },
  {
   "cell_type": "code",
   "execution_count": 30,
   "metadata": {},
   "outputs": [],
   "source": [
    "\n",
    "import numpy as np\n"
   ]
  },
  {
   "cell_type": "markdown",
   "metadata": {},
   "source": [
    "Arrays can then be constructed from lists by the numpy function _array_. \n",
    "\n",
    "E.g.:"
   ]
  },
  {
   "cell_type": "code",
   "execution_count": 31,
   "metadata": {},
   "outputs": [
    {
     "name": "stdout",
     "output_type": "stream",
     "text": [
      "[1. 2. 3.]\n",
      "[[1. 2. 3.]\n",
      " [4. 5. 6.]]\n"
     ]
    }
   ],
   "source": [
    "\n",
    "v=np.array([1,2,3.])\n",
    "#A=np.array([1,2,3],[4,5,6])\n",
    "A=np.array([[1,2,3.],[4,5,6]])\n",
    "print(v)\n",
    "print(A)"
   ]
  },
  {
   "cell_type": "markdown",
   "metadata": {},
   "source": [
    "These numpy arrays hold different vectors, matrices, etc.  To access an element of a vector we need to define the _index_; for a matrix, we need to define two indexes.  E.g. "
   ]
  },
  {
   "cell_type": "code",
   "execution_count": 32,
   "metadata": {},
   "outputs": [
    {
     "data": {
      "text/plain": [
       "3.0"
      ]
     },
     "execution_count": 32,
     "metadata": {},
     "output_type": "execute_result"
    }
   ],
   "source": [
    "v[2] #returns 3.0"
   ]
  },
  {
   "cell_type": "code",
   "execution_count": 33,
   "metadata": {},
   "outputs": [
    {
     "name": "stdout",
     "output_type": "stream",
     "text": [
      "(2, 3)\n"
     ]
    }
   ],
   "source": [
    "A[1,2] #returns 6\n",
    "\n",
    "print(A.shape)"
   ]
  },
  {
   "cell_type": "markdown",
   "metadata": {},
   "source": [
    "Superficially, arrays and lists look like the same thing.  However, there are some differences.  Arrays only store elements of the same numeric type.   Unlike lists, there is no ``append`` method for arrays.  However, you can construct arrays by stacking smaller size arrays together.   \n",
    "\n",
    " One key difference is that the operations ``+,-,*, and /`` are all element-wise.   E.g.\n",
    " "
   ]
  },
  {
   "cell_type": "code",
   "execution_count": 34,
   "metadata": {},
   "outputs": [
    {
     "name": "stdout",
     "output_type": "stream",
     "text": [
      "[2 4 6 8]\n",
      "[1, 2, 3, 4, 1, 2, 3, 4]\n"
     ]
    }
   ],
   "source": [
    "\n",
    " a=np.array([1,2,3,4]) #an array\n",
    " b=[1,2,3,4] #a list  \n",
    " print(a*2)\n",
    " #returns array([2, 4, 6, 8])\n",
    " print(b*2)\n",
    " #returns [1, 2, 3, 4, 1, 2, 3, 4]\n",
    " \n",
    " "
   ]
  },
  {
   "cell_type": "markdown",
   "metadata": {},
   "source": [
    " The function ``dot`` and ``@`` are used for scalar product and corresponding matrix operations.   Vector slices can be used to modify the existing array.\n",
    " \n",
    " The number of elements in a vector or the number of rows in a matrix can be obtained by the function ``len``.   This is useful for both lists and arrays.  However, a numpy array has a special ``shape`` attribute that gives the full dimensionality of the array.\n",
    " \n",
    " E.g.\n",
    " "
   ]
  },
  {
   "cell_type": "code",
   "execution_count": 35,
   "metadata": {},
   "outputs": [
    {
     "data": {
      "text/plain": [
       "2"
      ]
     },
     "execution_count": 35,
     "metadata": {},
     "output_type": "execute_result"
    }
   ],
   "source": [
    " c=np.array([[1,2,3],[4,5,6]])\n",
    " len(c) #returns 2"
   ]
  },
  {
   "cell_type": "code",
   "execution_count": 36,
   "metadata": {},
   "outputs": [
    {
     "data": {
      "text/plain": [
       "(3, 2)"
      ]
     },
     "execution_count": 36,
     "metadata": {},
     "output_type": "execute_result"
    }
   ],
   "source": [
    " c.shape #returns (2,3)\n",
    "\n",
    " d=np.array([[1,2],[3,4],[5,6]])\n",
    " d.shape"
   ]
  },
  {
   "cell_type": "markdown",
   "metadata": {},
   "source": [
    " We will discuss arrays in far more detail in the later **_Numpy_** module.\n",
    "   "
   ]
  },
  {
   "cell_type": "markdown",
   "metadata": {},
   "source": [
    "   \n",
    "### Dictionaries \n",
    "\n",
    "For lists (and arrays), Python uses numbers to define indices.  E.g. things[1] means \"the 2nd element of the list `things'\".   A _dictionary_ goes a step further, you can use _anything_ to index a list: names, numbers, whatever.  \n",
    "\n",
    "Here's an example of how it works:"
   ]
  },
  {
   "cell_type": "code",
   "execution_count": 37,
   "metadata": {},
   "outputs": [],
   "source": [
    "\n",
    "stuff = {'name': 'Beavis', 'age': 15, 'weight': 145}\n"
   ]
  },
  {
   "cell_type": "markdown",
   "metadata": {},
   "source": [
    "_stuff_ is a dictionary.   What is the 'name' in the dictionary? _Beavis_.  Age? _15_. Weight? _145_.  \n",
    "\n",
    "You can pull up this information as follows:"
   ]
  },
  {
   "cell_type": "code",
   "execution_count": 38,
   "metadata": {},
   "outputs": [
    {
     "name": "stdout",
     "output_type": "stream",
     "text": [
      "Beavis\n",
      "15\n",
      "145\n"
     ]
    }
   ],
   "source": [
    "\n",
    "stuff = {'name': 'Beavis', 'age': 15, 'weight': 145}\n",
    "print(stuff['name'])\n",
    "#Beavis\n",
    "print(stuff['age'])\n",
    "#15\n",
    "print(stuff['weight'])\n",
    "#145\n"
   ]
  },
  {
   "cell_type": "markdown",
   "metadata": {},
   "source": [
    "Like with lists indexed by numbers, to grab the _dictionary_ value for a variable, you use the brackets '[ ]'.   \n",
    "\n",
    "You can also add elements to a _dictionary_:"
   ]
  },
  {
   "cell_type": "code",
   "execution_count": 39,
   "metadata": {},
   "outputs": [
    {
     "name": "stdout",
     "output_type": "stream",
     "text": [
      "Highland, Texas\n"
     ]
    }
   ],
   "source": [
    "\n",
    "stuff['city']=\"Highland, Texas\"\n",
    "print(stuff['city'])\n",
    "#Highland, Texas\n"
   ]
  },
  {
   "cell_type": "markdown",
   "metadata": {},
   "source": [
    "You can also put things into the dictionary with strings."
   ]
  },
  {
   "cell_type": "code",
   "execution_count": 40,
   "metadata": {},
   "outputs": [
    {
     "data": {
      "text/plain": [
       "{'name': 'Beavis',\n",
       " 'age': 15,\n",
       " 'weight': 145,\n",
       " 'city': 'Highland, Texas',\n",
       " 1: 'Settle Down Beavis',\n",
       " 2: 'I dreamed I was at school last night'}"
      ]
     },
     "execution_count": 40,
     "metadata": {},
     "output_type": "execute_result"
    }
   ],
   "source": [
    "\n",
    "stuff[1]=\"Settle Down Beavis\"\n",
    "stuff[2]=\"I dreamed I was at school last night\"\n",
    "stuff"
   ]
  },
  {
   "cell_type": "code",
   "execution_count": 42,
   "metadata": {},
   "outputs": [
    {
     "name": "stdout",
     "output_type": "stream",
     "text": [
      "{'name': 'Beavis', 'age': 15, 'weight': 145, 'city': 'Highland, Texas', 1: 'Settle Down Beavis', 2: 'I dreamed I was at school last night'}\n"
     ]
    }
   ],
   "source": [
    "#Now ...\n",
    "\n",
    "\n",
    "print(stuff)\n",
    "#{'name': 'Beavis', 'age': 15, 'weight': 145, 'city': 'Highland, Texas', 1: 'Settle Down Beavis', 2: 'I dreamed I was at school last night'}\n"
   ]
  },
  {
   "cell_type": "markdown",
   "metadata": {},
   "source": [
    "You can also delete elements of a dictionary:"
   ]
  },
  {
   "cell_type": "code",
   "execution_count": 43,
   "metadata": {},
   "outputs": [
    {
     "name": "stdout",
     "output_type": "stream",
     "text": [
      "{'name': 'Beavis', 'age': 15, 'city': 'Highland, Texas', 1: 'Settle Down Beavis'}\n"
     ]
    },
    {
     "data": {
      "text/plain": [
       "{'name': 'Beavis',\n",
       " 'age': 15,\n",
       " 'city': 'Highland, Texas',\n",
       " 1: 'Settle Down Beavis'}"
      ]
     },
     "execution_count": 43,
     "metadata": {},
     "output_type": "execute_result"
    }
   ],
   "source": [
    "\n",
    "del stuff['weight']\n",
    "del stuff[2]\n",
    "print(stuff)\n",
    "{'name': 'Beavis', 'age': 15, 'city': 'Highland, Texas', 1: 'Settle Down Beavis'}\n"
   ]
  },
  {
   "cell_type": "markdown",
   "metadata": {},
   "source": [
    "Here's a more detailed example:"
   ]
  },
  {
   "cell_type": "code",
   "execution_count": 44,
   "metadata": {},
   "outputs": [
    {
     "name": "stdout",
     "output_type": "stream",
     "text": [
      "----------\n",
      "NY State has:  New York\n",
      "OR State has:  Portland\n"
     ]
    }
   ],
   "source": [
    "# create a mapping of state to abbreviation\n",
    "states = {\n",
    "    'Oregon': 'OR',\n",
    "    'Florida': 'FL',\n",
    "    'California': 'CA',\n",
    "    'New York': 'NY',\n",
    "    'Michigan': 'MI'\n",
    "}\n",
    "\n",
    "# create a basic set of states and some cities in them\n",
    "cities = {\n",
    "    'CA': 'San Francisco',\n",
    "    'MI': 'Detroit',\n",
    "    'FL': 'Jacksonville'\n",
    "}\n",
    "\n",
    "# add some more cities\n",
    "cities['NY'] = 'New York'\n",
    "cities['OR'] = 'Portland'\n",
    "\n",
    "# print out some cities\n",
    "print('-' * 10)\n",
    "print(\"NY State has: \", cities['NY'])\n",
    "print(\"OR State has: \", cities['OR'])"
   ]
  },
  {
   "cell_type": "code",
   "execution_count": 45,
   "metadata": {},
   "outputs": [
    {
     "name": "stdout",
     "output_type": "stream",
     "text": [
      "----------\n",
      "Michigan's abbreviation is:  MI\n",
      "Florida's abbreviation is:  FL\n"
     ]
    }
   ],
   "source": [
    "# print some states\n",
    "print('-' * 10)\n",
    "print(\"Michigan's abbreviation is: \", states['Michigan'])\n",
    "print(\"Florida's abbreviation is: \", states['Florida'])"
   ]
  },
  {
   "cell_type": "code",
   "execution_count": 46,
   "metadata": {},
   "outputs": [
    {
     "name": "stdout",
     "output_type": "stream",
     "text": [
      "----------\n",
      "Michigan has:  Detroit\n",
      "Florida has:  Jacksonville\n",
      "----------\n",
      "Oregon is abbreviated OR\n",
      "Florida is abbreviated FL\n",
      "California is abbreviated CA\n",
      "New York is abbreviated NY\n",
      "Michigan is abbreviated MI\n",
      "----------\n",
      "CA has the city San Francisco\n",
      "MI has the city Detroit\n",
      "FL has the city Jacksonville\n",
      "NY has the city New York\n",
      "OR has the city Portland\n",
      "----------\n",
      "Oregon state is abbreviated OR and has city Portland\n",
      "Florida state is abbreviated FL and has city Jacksonville\n",
      "California state is abbreviated CA and has city San Francisco\n",
      "New York state is abbreviated NY and has city New York\n",
      "Michigan state is abbreviated MI and has city Detroit\n",
      "----------\n",
      "Sorry, no Texas.  We have messed with Texas.\n",
      "The city for the state 'TX' is: Does Not Exist\n"
     ]
    }
   ],
   "source": [
    "# do it by using the state then cities dict\n",
    "print('-' * 10)\n",
    "print(\"Michigan has: \", cities[states['Michigan']])\n",
    "print(\"Florida has: \", cities[states['Florida']])\n",
    "\n",
    "# print every state abbreviation\n",
    "print('-' * 10)\n",
    "for state, abbrev in states.items():\n",
    "    print(\"%s is abbreviated %s\" % (state, abbrev))\n",
    "\n",
    "# print every city in state\n",
    "print('-' * 10)\n",
    "for abbrev, city in cities.items():\n",
    "    print(\"%s has the city %s\" % (abbrev, city))\n",
    "\n",
    "# now do both at the same time\n",
    "print('-' * 10)\n",
    "for state, abbrev in states.items():\n",
    "    print(\"%s state is abbreviated %s and has city %s\" % (\n",
    "        state, abbrev, cities[abbrev]))\n",
    "\n",
    "print('-' * 10)\n",
    "# safely get a abbreviation by state that might not be there\n",
    "state = states.get('Texas')\n",
    "#print(\"texas?\",state)\n",
    "if not state:\n",
    "    print(\"Sorry, no Texas.  We have messed with Texas.\")\n",
    "\n",
    "# get a city with a default value\n",
    "city = cities.get('TX', 'Does Not Exist')\n",
    "print(\"The city for the state 'TX' is: %s\" % city)"
   ]
  },
  {
   "cell_type": "markdown",
   "metadata": {},
   "source": [
    "This results in the following the following:\n",
    "\n",
    "```\n",
    "----------\n",
    "NY State has:  New York\n",
    "OR State has:  Portland\n",
    "----------\n",
    "Michigan's abbreviation is:  MI\n",
    "Florida's abbreviation is:  FL\n",
    "----------\n",
    "Michigan has:  Detroit\n",
    "Florida has:  Jacksonville\n",
    "----------\n",
    "Oregon is abbreviated OR\n",
    "Florida is abbreviated FL\n",
    "California is abbreviated CA\n",
    "New York is abbreviated NY\n",
    "Michigan is abbreviated MI\n",
    "----------\n",
    "CA has the city San Francisco\n",
    "MI has the city Detroit\n",
    "FL has the city Jacksonville\n",
    "NY has the city New York\n",
    "OR has the city Portland\n",
    "----------\n",
    "Oregon state is abbreviated OR and has city Portland\n",
    "Florida state is abbreviated FL and has city Jacksonville\n",
    "California state is abbreviated CA and has city San Francisco\n",
    "New York state is abbreviated NY and has city New York\n",
    "Michigan state is abbreviated MI and has city Detroit\n",
    "----------\n",
    "Sorry, no Texas.  We have messed with Texas.\n",
    "The city for the state 'TX' is: Does Not Exist\n",
    "\n",
    "```"
   ]
  },
  {
   "cell_type": "markdown",
   "metadata": {},
   "source": [
    "### Checking Data Structure Types and Type Conversions\n",
    "\n",
    "Say you have some variable in your Python code (or, more likely, someone else's) and you want to figure out what it is.  Is it a function? A tuple? A Numpy Array?  How do you check?   Simple: ``type([thing you are wanting to check])``.\n",
    "\n",
    "E.g."
   ]
  },
  {
   "cell_type": "code",
   "execution_count": 47,
   "metadata": {},
   "outputs": [],
   "source": [
    "a=np.array([1,2,3,4,5])\n",
    "b=[1,2,3,4,5]\n",
    "c=1,2,3,4,5\n",
    "d={'0':'Enterprise','1': 'Defiant','2':'Excelsior'}"
   ]
  },
  {
   "cell_type": "code",
   "execution_count": 48,
   "metadata": {},
   "outputs": [
    {
     "data": {
      "text/plain": [
       "numpy.ndarray"
      ]
     },
     "execution_count": 48,
     "metadata": {},
     "output_type": "execute_result"
    }
   ],
   "source": [
    "type(a) #<class 'numpy.ndarray'>"
   ]
  },
  {
   "cell_type": "code",
   "execution_count": 49,
   "metadata": {},
   "outputs": [
    {
     "data": {
      "text/plain": [
       "list"
      ]
     },
     "execution_count": 49,
     "metadata": {},
     "output_type": "execute_result"
    }
   ],
   "source": [
    "type(b) #<class 'list'>"
   ]
  },
  {
   "cell_type": "code",
   "execution_count": 50,
   "metadata": {},
   "outputs": [
    {
     "data": {
      "text/plain": [
       "tuple"
      ]
     },
     "execution_count": 50,
     "metadata": {},
     "output_type": "execute_result"
    }
   ],
   "source": [
    "type(c) #<class 'tuple'>"
   ]
  },
  {
   "cell_type": "code",
   "execution_count": 51,
   "metadata": {},
   "outputs": [
    {
     "data": {
      "text/plain": [
       "dict"
      ]
     },
     "execution_count": 51,
     "metadata": {},
     "output_type": "execute_result"
    }
   ],
   "source": [
    "type(d) #<class 'dict'>"
   ]
  },
  {
   "cell_type": "markdown",
   "metadata": {},
   "source": [
    "What if you are trying to figure out the dimensions of the the variable?   We mentioned it before, but again the ``len`` function is your first stop.   E.g. ``len(a), len(b), len(c)`` return ``(5, 5, 5)`` (i.e. each of them have length 5).  ``len(d)`` returns ``3``.  \n",
    "\n",
    "Also to reiterate, there are additional capabilties (or complications for the dimensionality of Numpy arrays, as they can be n-dimensional.   Specifically you can use the ``shape`` attribute to check dimensionality.\n",
    "We will talk more about arrays in the **_Numpy_** section.\n",
    "   "
   ]
  },
  {
   "cell_type": "code",
   "execution_count": null,
   "metadata": {},
   "outputs": [],
   "source": []
  }
 ],
 "metadata": {
  "kernelspec": {
   "display_name": "Python 3 (ipykernel)",
   "language": "python",
   "name": "python3"
  },
  "language_info": {
   "codemirror_mode": {
    "name": "ipython",
    "version": 3
   },
   "file_extension": ".py",
   "mimetype": "text/x-python",
   "name": "python",
   "nbconvert_exporter": "python",
   "pygments_lexer": "ipython3",
   "version": "3.12.4"
  }
 },
 "nbformat": 4,
 "nbformat_minor": 4
}
