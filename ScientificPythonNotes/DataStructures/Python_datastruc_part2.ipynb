{
 "cells": [
  {
   "cell_type": "markdown",
   "metadata": {},
   "source": [
    "# _Python for Scientific Data Analysis_\n",
    "\n",
    "# Data Structures\n",
    "\n",
    "## Section 2: Slicing\n",
    "\n",
    "Tuples, Lists, Arrays, and Dictionaries can have any number of elements.  What if you only want some subset of these elements (e.g. to perform some mathematical operation, some conditional print, ... anything)?   Then you need to _slice_ the data structure."
   ]
  },
  {
   "cell_type": "markdown",
   "metadata": {},
   "source": [
    "### Basic Operation\n",
    "You can select sections of most sequence types by using slice notation, which in its\n",
    "basic form consists of start:stop passed to the indexing operator [].  If you are familiar with IDL, the syntax is similar (but not exactly the same!).\n",
    "\n",
    "For slicing a tuple/list/array called L, with a `start` of _i_ index and `stop` of _j_ index -- i.e. L[i,j]_ -- means to take all the elements from L starting at L[i] until L[j-1].\n",
    "\n",
    "Here's an example for slicing a ..."
   ]
  },
  {
   "cell_type": "markdown",
   "metadata": {},
   "source": [
    " **_list_**:\n",
    " "
   ]
  },
  {
   "cell_type": "code",
   "execution_count": 1,
   "metadata": {},
   "outputs": [
    {
     "name": "stdout",
     "output_type": "stream",
     "text": [
      "[4]\n"
     ]
    }
   ],
   "source": [
    "\n",
    "a=[3,4,5,6]\n",
    "type(a)\n",
    "b=a[1:2]\n",
    "print(b)\n",
    "#[4]\n"
   ]
  },
  {
   "cell_type": "markdown",
   "metadata": {},
   "source": [
    "**_tuple_**:"
   ]
  },
  {
   "cell_type": "code",
   "execution_count": 2,
   "metadata": {},
   "outputs": [
    {
     "name": "stdout",
     "output_type": "stream",
     "text": [
      "(4, 5)\n"
     ]
    }
   ],
   "source": [
    "\n",
    "a=3,4,5,6\n",
    "b=a[1:3]\n",
    "print(b)\n",
    "#(4, 5)\n"
   ]
  },
  {
   "cell_type": "markdown",
   "metadata": {},
   "source": [
    "Numpy **_array_**:"
   ]
  },
  {
   "cell_type": "code",
   "execution_count": 3,
   "metadata": {},
   "outputs": [
    {
     "name": "stdout",
     "output_type": "stream",
     "text": [
      "[5 6]\n"
     ]
    }
   ],
   "source": [
    "import numpy as np #remember: you have to import numpy first\n",
    "\n",
    "a=np.array([3,4,5,6])\n",
    "#b=a[1:3]\n",
    "b=a[2:4]\n",
    "print(b)\n",
    "#[5 6]\n"
   ]
  },
  {
   "cell_type": "markdown",
   "metadata": {},
   "source": [
    "Now, technically you can do slicing for dictionaries as well but it gets tricky: you have to use the ``.items()`` attribute and type conversions.   Here's slicing of our previous dictionary example"
   ]
  },
  {
   "cell_type": "code",
   "execution_count": 4,
   "metadata": {},
   "outputs": [
    {
     "name": "stdout",
     "output_type": "stream",
     "text": [
      "{'age': 15, 'weight': 145}\n"
     ]
    }
   ],
   "source": [
    "\n",
    "stuff = {'name': 'Beavis', 'age': 15, 'weight': 145}\n",
    "result=dict(list(stuff.items())[1:3])\n",
    "#this also works: dict(tuple(stuff.items())[1:3])\n",
    "print(result)\n",
    "#{'age': 15, 'weight': 145}\n"
   ]
  },
  {
   "cell_type": "markdown",
   "metadata": {},
   "source": [
    "### Rules with Slicing Ranges\n",
    "\n",
    "* 1. **Caution**!!!! - you may have noticed that the `stop` in this `start:stop` range seems to be missing a value.  E.g. in the example above, a[i:j] where i = 0 and j= 1 only prints out the 0th element, not the 0th and 1st (i.e. it prints out [3] for a list).   This is unlike IDL which would take values i through j _inclusive_.  \n",
    "* 2. You may omit the first or last bound of the slicing.  i.e. L[0:2] and L[:2] mean the same thing.\n",
    "* 3. You can use negative indexes for counting from the right.   E.g. L[-1] is the last element of the list L.  \n",
    "* 4. Just using the semicolon -- i.e. L[:] -- means to select all values "
   ]
  },
  {
   "cell_type": "markdown",
   "metadata": {},
   "source": [
    "Here are some examples from our list, a = [3,4,5,6]"
   ]
  },
  {
   "cell_type": "code",
   "execution_count": 5,
   "metadata": {},
   "outputs": [
    {
     "data": {
      "text/plain": [
       "[3, 4]"
      ]
     },
     "execution_count": 5,
     "metadata": {},
     "output_type": "execute_result"
    }
   ],
   "source": [
    "L=[1,2,3,4,5]\n",
    "L[0:2]\n",
    "L[:2]\n",
    "\n",
    "L[2:4]\n",
    "L[2:-1]"
   ]
  },
  {
   "cell_type": "code",
   "execution_count": 6,
   "metadata": {},
   "outputs": [
    {
     "data": {
      "text/plain": [
       "array([3])"
      ]
     },
     "execution_count": 6,
     "metadata": {},
     "output_type": "execute_result"
    }
   ],
   "source": [
    "# a=[3,4,5,6]\n",
    "\n",
    "a[0:1]\n",
    "#[3]"
   ]
  },
  {
   "cell_type": "code",
   "execution_count": 7,
   "metadata": {},
   "outputs": [
    {
     "data": {
      "text/plain": [
       "array([3])"
      ]
     },
     "execution_count": 7,
     "metadata": {},
     "output_type": "execute_result"
    }
   ],
   "source": [
    "a[:1]\n",
    "#3"
   ]
  },
  {
   "cell_type": "code",
   "execution_count": 8,
   "metadata": {},
   "outputs": [
    {
     "data": {
      "text/plain": [
       "array([3, 4, 5])"
      ]
     },
     "execution_count": 8,
     "metadata": {},
     "output_type": "execute_result"
    }
   ],
   "source": [
    "a[0:3]\n",
    "#[3,4,5]"
   ]
  },
  {
   "cell_type": "code",
   "execution_count": 9,
   "metadata": {},
   "outputs": [
    {
     "data": {
      "text/plain": [
       "array([3, 4, 5])"
      ]
     },
     "execution_count": 9,
     "metadata": {},
     "output_type": "execute_result"
    }
   ],
   "source": [
    "a[:3]\n",
    "#[3,4,5]"
   ]
  },
  {
   "cell_type": "code",
   "execution_count": 10,
   "metadata": {},
   "outputs": [
    {
     "data": {
      "text/plain": [
       "array([5, 6])"
      ]
     },
     "execution_count": 10,
     "metadata": {},
     "output_type": "execute_result"
    }
   ],
   "source": [
    "a[2:4]\n",
    "#[5,6]"
   ]
  },
  {
   "cell_type": "code",
   "execution_count": 11,
   "metadata": {},
   "outputs": [
    {
     "data": {
      "text/plain": [
       "array([5, 6])"
      ]
     },
     "execution_count": 11,
     "metadata": {},
     "output_type": "execute_result"
    }
   ],
   "source": [
    "a[2:]\n",
    "#[5,6]"
   ]
  },
  {
   "cell_type": "code",
   "execution_count": 12,
   "metadata": {},
   "outputs": [
    {
     "data": {
      "text/plain": [
       "array([6])"
      ]
     },
     "execution_count": 12,
     "metadata": {},
     "output_type": "execute_result"
    }
   ],
   "source": [
    "a[-1:]\n",
    "#[4,5,6]"
   ]
  },
  {
   "cell_type": "code",
   "execution_count": 13,
   "metadata": {},
   "outputs": [
    {
     "name": "stdout",
     "output_type": "stream",
     "text": [
      "a is  [3 4 5 6]\n"
     ]
    },
    {
     "data": {
      "text/plain": [
       "array([5, 6])"
      ]
     },
     "execution_count": 13,
     "metadata": {},
     "output_type": "execute_result"
    }
   ],
   "source": [
    "print('a is ',a)\n",
    "a[-2:]\n",
    "#[6]"
   ]
  },
  {
   "cell_type": "code",
   "execution_count": 14,
   "metadata": {},
   "outputs": [
    {
     "data": {
      "text/plain": [
       "array([4, 5])"
      ]
     },
     "execution_count": 14,
     "metadata": {},
     "output_type": "execute_result"
    }
   ],
   "source": [
    "a[-3:3]\n",
    "#[4,5]"
   ]
  },
  {
   "cell_type": "code",
   "execution_count": 15,
   "metadata": {},
   "outputs": [
    {
     "data": {
      "text/plain": [
       "array([3, 4, 5, 6])"
      ]
     },
     "execution_count": 15,
     "metadata": {},
     "output_type": "execute_result"
    }
   ],
   "source": [
    "a[:]\n",
    "#[3,4,5,6]"
   ]
  },
  {
   "cell_type": "markdown",
   "metadata": {},
   "source": [
    "The results are similar if a were a tuple or a Numpy array.\n",
    "\n",
    "### Steps and Reversing a Sequence\n",
    "\n",
    "A step can also be used after a second colon to, say, take every other element of a list, tuple, or Numpy array:"
   ]
  },
  {
   "cell_type": "code",
   "execution_count": 16,
   "metadata": {},
   "outputs": [
    {
     "name": "stdout",
     "output_type": "stream",
     "text": [
      "[3, 5]\n"
     ]
    }
   ],
   "source": [
    "a=[3,4,5,6]\n",
    "print(a[::2])\n",
    "#[3, 5]"
   ]
  },
  {
   "cell_type": "code",
   "execution_count": 17,
   "metadata": {},
   "outputs": [
    {
     "name": "stdout",
     "output_type": "stream",
     "text": [
      "[4, 6]\n"
     ]
    }
   ],
   "source": [
    "print(a[1:4:2])\n",
    "#[4,6]"
   ]
  },
  {
   "cell_type": "markdown",
   "metadata": {},
   "source": [
    "A clever use of this is to pass a negative number -- e.g. -1 --  which has the useful effect of reversing a list, tuple, or Numpy array:"
   ]
  },
  {
   "cell_type": "code",
   "execution_count": 18,
   "metadata": {},
   "outputs": [
    {
     "name": "stdout",
     "output_type": "stream",
     "text": [
      "[6, 5, 4, 3]\n"
     ]
    }
   ],
   "source": [
    "a=[3,4,5,6]\n",
    "print(a[::-1])\n",
    "#[6, 5, 4, 3]"
   ]
  },
  {
   "cell_type": "code",
   "execution_count": 29,
   "metadata": {},
   "outputs": [
    {
     "name": "stdout",
     "output_type": "stream",
     "text": [
      "[6, 4]\n",
      "[3, 4, 5, 6]\n"
     ]
    }
   ],
   "source": [
    "print(a[::-2])\n",
    "#[6, 4]\n",
    "\n",
    "print(a)\n"
   ]
  },
  {
   "cell_type": "markdown",
   "metadata": {},
   "source": [
    "### Conditional/Boolean Slicing\n",
    "\n",
    "It's a little bit cart-before-the-horse to discuss the details of indexing and slicing Numpy arrays.  That will be a focus of the Numpy discussion.  But this is so fundamental to how to do slicing with a common data structure (i.e. a Numpy array), that it's worth a brief mention here before we discuss in full later.  \n",
    "\n",
    "Specifically, you can slice a Numpy array based on whether or not some statement is true/false etc for elements of that Numpy array using the ``np.where`` command.   This is called \"taking a Boolean array as a condition\".  "
   ]
  },
  {
   "cell_type": "markdown",
   "metadata": {},
   "source": [
    "One quick example before we reserve this topic for later.  See if you can figure out how to make this work in general:"
   ]
  },
  {
   "cell_type": "code",
   "execution_count": 30,
   "metadata": {},
   "outputs": [
    {
     "name": "stdout",
     "output_type": "stream",
     "text": [
      "[4 5 6]\n"
     ]
    }
   ],
   "source": [
    "a=np.array([3,4,5,6])\n",
    "larger_than_three=np.where(a > 3)\n",
    "between_three_and_six=np.where( (a > 3) & (a < 6) ) #the & works for \"and\" here\n",
    "extrema=np.where( (a < 4) | (a > 5)) #the | works for \"or\" here\n",
    "\n",
    "newvar=a[larger_than_three]\n",
    "print(newvar)"
   ]
  },
  {
   "cell_type": "code",
   "execution_count": 31,
   "metadata": {},
   "outputs": [
    {
     "name": "stdout",
     "output_type": "stream",
     "text": [
      "[4 5 6]\n",
      "[4 5]\n",
      "[3 6]\n"
     ]
    }
   ],
   "source": [
    "print(a[larger_than_three])\n",
    "#[4 5 6]\n",
    "print(a[between_three_and_six])\n",
    "#[4 5]\n",
    "print(a[extrema])\n",
    "#[3 6]"
   ]
  },
  {
   "cell_type": "markdown",
   "metadata": {},
   "source": [
    "### Strides\n",
    "\n",
    "One more trick Python allows with slicing is _strides_, whjich is the step size from one index to the other.   While the default is one, you can set the stride to be an arbitrary number.  For example:"
   ]
  },
  {
   "cell_type": "code",
   "execution_count": 32,
   "metadata": {},
   "outputs": [
    {
     "name": "stdout",
     "output_type": "stream",
     "text": [
      "[2, 4, 6]\n"
     ]
    },
    {
     "data": {
      "text/plain": [
       "[3, 6, 9]"
      ]
     },
     "execution_count": 32,
     "metadata": {},
     "output_type": "execute_result"
    }
   ],
   "source": [
    "\n",
    "a=[1,2,3,4,5,6,7,8,9,10]\n",
    "print(a[1:7:2]) #element 1 to <3, step size of 2\n",
    "#[2,4,6]\n",
    "\n",
    "a[2::3] #element 2 to the end, step size of 3"
   ]
  },
  {
   "cell_type": "code",
   "execution_count": null,
   "metadata": {},
   "outputs": [],
   "source": []
  }
 ],
 "metadata": {
  "kernelspec": {
   "display_name": "Python 3 (ipykernel)",
   "language": "python",
   "name": "python3"
  },
  "language_info": {
   "codemirror_mode": {
    "name": "ipython",
    "version": 3
   },
   "file_extension": ".py",
   "mimetype": "text/x-python",
   "name": "python",
   "nbconvert_exporter": "python",
   "pygments_lexer": "ipython3",
   "version": "3.12.4"
  }
 },
 "nbformat": 4,
 "nbformat_minor": 4
}
